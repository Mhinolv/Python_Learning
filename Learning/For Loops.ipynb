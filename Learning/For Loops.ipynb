{
 "cells": [
  {
   "cell_type": "markdown",
   "id": "49bf77ba-5922-4780-9fdb-6e36fbc92d9e",
   "metadata": {},
   "source": [
    "Many objects in Python are iterable: strings, lists, dictionaries"
   ]
  },
  {
   "cell_type": "code",
   "execution_count": 31,
   "id": "f9822bc9-a6f3-4bbb-82c7-0ac0650ce107",
   "metadata": {},
   "outputs": [],
   "source": [
    "myList = [1,2,3,4,5,6,7,8,9,10]"
   ]
  },
  {
   "cell_type": "code",
   "execution_count": 32,
   "id": "fa02b173-b58c-4396-9ea1-67a29b0923de",
   "metadata": {},
   "outputs": [
    {
     "name": "stdout",
     "output_type": "stream",
     "text": [
      "1\n",
      "2\n",
      "3\n",
      "4\n",
      "5\n",
      "6\n",
      "7\n",
      "8\n",
      "9\n",
      "10\n"
     ]
    }
   ],
   "source": [
    "for nums in myList:\n",
    "    print(nums)"
   ]
  },
  {
   "cell_type": "code",
   "execution_count": 33,
   "id": "d7023966-8a5d-4a31-9e2c-909b34162925",
   "metadata": {},
   "outputs": [
    {
     "name": "stdout",
     "output_type": "stream",
     "text": [
      "1 is less than 5\n",
      "2 is less than 5\n",
      "3 is less than 5\n",
      "4 is less than 5\n",
      "5 is perfect\n",
      "6 is greater than 5\n",
      "7 is greater than 5\n",
      "8 is greater than 5\n",
      "9 is greater than 5\n",
      "10 is greater than 5\n"
     ]
    }
   ],
   "source": [
    "for nums in myList:\n",
    "    if nums < 5:\n",
    "        print(f'{nums} is less than 5')\n",
    "    elif nums ==  5:\n",
    "        print(f'{nums} is perfect')\n",
    "    else:\n",
    "        print(f'{nums} is greater than 5')"
   ]
  },
  {
   "cell_type": "code",
   "execution_count": 34,
   "id": "1caa5732-b51e-4332-9baf-6ca7be8f57c7",
   "metadata": {},
   "outputs": [
    {
     "name": "stdout",
     "output_type": "stream",
     "text": [
      "1 is an odd number\n",
      "2\n",
      "3 is an odd number\n",
      "4\n",
      "5 is an odd number\n",
      "6\n",
      "7 is an odd number\n",
      "8\n",
      "9 is an odd number\n",
      "10\n"
     ]
    }
   ],
   "source": [
    "for nums in myList:\n",
    "    # Check for even numbers\n",
    "    if nums % 2 == 0:\n",
    "        print(nums)\n",
    "    else:\n",
    "        print(f'{nums} is an odd number')"
   ]
  },
  {
   "cell_type": "code",
   "execution_count": 35,
   "id": "eb1bf4ed-cc7a-4b05-963f-20fa8da346a8",
   "metadata": {},
   "outputs": [],
   "source": [
    "list_sum = 0"
   ]
  },
  {
   "cell_type": "code",
   "execution_count": 36,
   "id": "6f244c25-3ed0-47c0-a682-0565e9e8a0f8",
   "metadata": {},
   "outputs": [
    {
     "name": "stdout",
     "output_type": "stream",
     "text": [
      "The new number is 1 with 1 added\n",
      "The new number is 3 with 2 added\n",
      "The new number is 6 with 3 added\n",
      "The new number is 10 with 4 added\n",
      "The new number is 15 with 5 added\n",
      "The new number is 21 with 6 added\n",
      "The new number is 28 with 7 added\n",
      "The new number is 36 with 8 added\n",
      "The new number is 45 with 9 added\n",
      "The new number is 55 with 10 added\n"
     ]
    }
   ],
   "source": [
    "for num in myList:\n",
    "    list_sum = list_sum + num\n",
    "    print(f'The new number is {list_sum} with {num} added')"
   ]
  },
  {
   "cell_type": "code",
   "execution_count": 39,
   "id": "6324492c-5d70-4fd5-93d1-468799296041",
   "metadata": {},
   "outputs": [],
   "source": [
    "strVar = 'Hello World'"
   ]
  },
  {
   "cell_type": "code",
   "execution_count": 40,
   "id": "ea138559-b47f-4b7d-8e5d-d24f81d978e5",
   "metadata": {},
   "outputs": [
    {
     "name": "stdout",
     "output_type": "stream",
     "text": [
      "H\n",
      "e\n",
      "l\n",
      "l\n",
      "o\n",
      " \n",
      "W\n",
      "o\n",
      "r\n",
      "l\n",
      "d\n"
     ]
    }
   ],
   "source": [
    "for letter in strVar:\n",
    "    print(letter)"
   ]
  },
  {
   "cell_type": "code",
   "execution_count": 42,
   "id": "56556e70-f671-40b1-94bc-3bddaa20d38f",
   "metadata": {},
   "outputs": [
    {
     "name": "stdout",
     "output_type": "stream",
     "text": [
      "1\n",
      "2\n",
      "3\n",
      "4\n",
      "5\n",
      "6\n",
      "7\n",
      "8\n",
      "9\n",
      "10\n"
     ]
    }
   ],
   "source": [
    "for nums in range(1,11):\n",
    "    print(nums)"
   ]
  },
  {
   "cell_type": "code",
   "execution_count": 43,
   "id": "6e95026a-9030-4c55-9370-e2cab71e0e61",
   "metadata": {},
   "outputs": [
    {
     "name": "stdout",
     "output_type": "stream",
     "text": [
      "H\n",
      "e\n",
      "l\n",
      "l\n",
      "o\n",
      " \n",
      "W\n",
      "o\n",
      "r\n",
      "l\n",
      "d\n"
     ]
    }
   ],
   "source": [
    "for letters in 'Hello World':\n",
    "    print(letters)"
   ]
  },
  {
   "cell_type": "code",
   "execution_count": 44,
   "id": "edeb7dd5-2a57-49d3-92a3-758b484ef725",
   "metadata": {},
   "outputs": [],
   "source": [
    "tupe = (1,2,3)"
   ]
  },
  {
   "cell_type": "code",
   "execution_count": 45,
   "id": "e1a7371c-4b75-45a1-9e85-7e93ab7e538e",
   "metadata": {},
   "outputs": [
    {
     "name": "stdout",
     "output_type": "stream",
     "text": [
      "1\n",
      "2\n",
      "3\n"
     ]
    }
   ],
   "source": [
    "for num in tupe:\n",
    "    print(num)"
   ]
  },
  {
   "cell_type": "code",
   "execution_count": 46,
   "id": "868ced5d-d8a8-41b8-87c7-8e9dd6997014",
   "metadata": {},
   "outputs": [],
   "source": [
    "myList = [(1,2),(3,4),(5,6),(7,8)]"
   ]
  },
  {
   "cell_type": "code",
   "execution_count": 47,
   "id": "eac43d43-1406-4ba2-af7d-9a17367f9b15",
   "metadata": {},
   "outputs": [
    {
     "data": {
      "text/plain": [
       "4"
      ]
     },
     "execution_count": 47,
     "metadata": {},
     "output_type": "execute_result"
    }
   ],
   "source": [
    "len(myList)"
   ]
  },
  {
   "cell_type": "code",
   "execution_count": 48,
   "id": "1ab60479-f01c-404f-9281-2019a0709780",
   "metadata": {},
   "outputs": [
    {
     "name": "stdout",
     "output_type": "stream",
     "text": [
      "(1, 2)\n",
      "(3, 4)\n",
      "(5, 6)\n",
      "(7, 8)\n"
     ]
    }
   ],
   "source": [
    "for item in myList:\n",
    "    print(item)"
   ]
  },
  {
   "cell_type": "markdown",
   "id": "3622d07b-2619-4337-97af-59098b5b31e1",
   "metadata": {},
   "source": [
    "This is an example of tuple unpacking"
   ]
  },
  {
   "cell_type": "code",
   "execution_count": 53,
   "id": "b6684a4b-f3c3-4e7f-8a32-a6a1bda244ec",
   "metadata": {},
   "outputs": [
    {
     "name": "stdout",
     "output_type": "stream",
     "text": [
      "1\n",
      "2\n",
      "3\n",
      "4\n",
      "5\n",
      "6\n",
      "7\n",
      "8\n"
     ]
    }
   ],
   "source": [
    "for x,y in myList:\n",
    "    print(x)\n",
    "    print(y)"
   ]
  },
  {
   "cell_type": "code",
   "execution_count": 54,
   "id": "d6d819cd-d06a-466d-90d5-1cbc607c9e56",
   "metadata": {},
   "outputs": [],
   "source": [
    "myList = [(1,2,3), (4,5,6), (7,8,9)]"
   ]
  },
  {
   "cell_type": "code",
   "execution_count": 55,
   "id": "27a3818b-4d58-43c7-8750-44c21c281184",
   "metadata": {},
   "outputs": [
    {
     "name": "stdout",
     "output_type": "stream",
     "text": [
      "1\n",
      "2\n",
      "3\n",
      "4\n",
      "5\n",
      "6\n",
      "7\n",
      "8\n",
      "9\n"
     ]
    }
   ],
   "source": [
    "for x,y,z in myList:\n",
    "    print(x)\n",
    "    print(y)\n",
    "    print(z)"
   ]
  },
  {
   "cell_type": "code",
   "execution_count": 56,
   "id": "acd8fadd-22e8-43ff-9de2-7214be07e98b",
   "metadata": {},
   "outputs": [],
   "source": [
    "newDict = {'k1':1,'k2':2,'k3':3}"
   ]
  },
  {
   "cell_type": "code",
   "execution_count": 57,
   "id": "a2b44b86-7edc-4a65-aa86-b8d6fe9855ba",
   "metadata": {},
   "outputs": [
    {
     "name": "stdout",
     "output_type": "stream",
     "text": [
      "k1\n",
      "k2\n",
      "k3\n"
     ]
    }
   ],
   "source": [
    "for item in newDict:\n",
    "    print(item)"
   ]
  },
  {
   "cell_type": "code",
   "execution_count": 60,
   "id": "2b3aba2f-99d3-4319-8c4b-bc1ea928595f",
   "metadata": {},
   "outputs": [
    {
     "name": "stdout",
     "output_type": "stream",
     "text": [
      "('k1', 1)\n",
      "('k2', 2)\n",
      "('k3', 3)\n"
     ]
    }
   ],
   "source": [
    "for item in newDict.items():\n",
    "    print(item)"
   ]
  },
  {
   "cell_type": "code",
   "execution_count": 61,
   "id": "605f7e79-b9e5-4169-834a-b0d18b069e84",
   "metadata": {},
   "outputs": [
    {
     "name": "stdout",
     "output_type": "stream",
     "text": [
      "k1\n",
      "1\n",
      "k2\n",
      "2\n",
      "k3\n",
      "3\n"
     ]
    }
   ],
   "source": [
    "for x,y in newDict.items():\n",
    "    print(x)\n",
    "    print(y)"
   ]
  }
 ],
 "metadata": {
  "kernelspec": {
   "display_name": "Python 3 (ipykernel)",
   "language": "python",
   "name": "python3"
  },
  "language_info": {
   "codemirror_mode": {
    "name": "ipython",
    "version": 3
   },
   "file_extension": ".py",
   "mimetype": "text/x-python",
   "name": "python",
   "nbconvert_exporter": "python",
   "pygments_lexer": "ipython3",
   "version": "3.9.6"
  }
 },
 "nbformat": 4,
 "nbformat_minor": 5
}
