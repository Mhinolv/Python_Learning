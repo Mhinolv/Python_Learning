{
 "cells": [
  {
   "cell_type": "markdown",
   "id": "00057dc2-b7f4-4df4-acae-31fe6e5ffaf3",
   "metadata": {},
   "source": [
    "Enumeration returns an index value as a tuple for items in an iterable like a string, list, dict, or other tuple. WE will be testing the limits of this as we understand it more"
   ]
  },
  {
   "cell_type": "code",
   "execution_count": 3,
   "id": "15946fa2-313d-45cc-af7c-6f6c132f29a6",
   "metadata": {},
   "outputs": [
    {
     "name": "stdout",
     "output_type": "stream",
     "text": [
      "(0, 'H')\n",
      "(1, 'e')\n",
      "(2, 'l')\n",
      "(3, 'l')\n",
      "(4, 'o')\n",
      "(5, ' ')\n",
      "(6, 'W')\n",
      "(7, 'o')\n",
      "(8, 'r')\n",
      "(9, 'l')\n",
      "(10, 'd')\n"
     ]
    }
   ],
   "source": [
    "strVar = 'Hello World'\n",
    "\n",
    "for letter in enumerate(strVar):\n",
    "    print(letter)"
   ]
  },
  {
   "cell_type": "markdown",
   "id": "e541a0ce-6d65-4464-a9cd-b5d495bcc73c",
   "metadata": {},
   "source": [
    "The enumerate() function returns a tupled index that can be unpacked"
   ]
  },
  {
   "cell_type": "code",
   "execution_count": 6,
   "id": "8ea32c08-6b64-4cd6-b296-8d1eea5a8dd0",
   "metadata": {},
   "outputs": [
    {
     "name": "stdout",
     "output_type": "stream",
     "text": [
      "0\n",
      "H\n",
      "\n",
      "\n",
      "1\n",
      "e\n",
      "\n",
      "\n",
      "2\n",
      "l\n",
      "\n",
      "\n",
      "3\n",
      "l\n",
      "\n",
      "\n",
      "4\n",
      "o\n",
      "\n",
      "\n"
     ]
    }
   ],
   "source": [
    "strVar = 'Hello'\n",
    "\n",
    "for idx, letter in enumerate(strVar):\n",
    "    print(idx)\n",
    "    print(letter)\n",
    "    print('\\n') # Just a decorator for spacing"
   ]
  },
  {
   "cell_type": "markdown",
   "id": "20c2e882-78f3-4bba-ba6c-93301d576109",
   "metadata": {},
   "source": [
    "It seems like this can be really useful for creating a dictionary with the iterable and the index value assigned"
   ]
  },
  {
   "cell_type": "code",
   "execution_count": 10,
   "id": "3408c48a-8010-4065-a51d-affde73d434b",
   "metadata": {},
   "outputs": [
    {
     "data": {
      "text/plain": [
       "{0: 'H', 1: 'e', 2: 'l', 3: 'l', 4: 'o'}"
      ]
     },
     "execution_count": 10,
     "metadata": {},
     "output_type": "execute_result"
    }
   ],
   "source": [
    "strVar = 'Hello'\n",
    "newDict = dict()\n",
    "\n",
    "for idx, letter in enumerate(strVar):\n",
    "    newDict[idx] = letter\n",
    "\n",
    "newDict"
   ]
  },
  {
   "cell_type": "markdown",
   "id": "b501b146-fd6d-44a7-9678-a2566eb01594",
   "metadata": {},
   "source": [
    "This might be useful for a different application where you want to split words from a sentence/paragraph and then assign an index value to it"
   ]
  },
  {
   "cell_type": "code",
   "execution_count": 13,
   "id": "01d6f317-5876-4785-aa75-1d663e08bc22",
   "metadata": {},
   "outputs": [
    {
     "data": {
      "text/plain": [
       "{0: 'This',\n",
       " 1: 'is',\n",
       " 2: 'a',\n",
       " 3: 'long',\n",
       " 4: 'statement',\n",
       " 5: 'for',\n",
       " 6: 'the',\n",
       " 7: 'sake',\n",
       " 8: 'of',\n",
       " 9: 'the',\n",
       " 10: 'exercise'}"
      ]
     },
     "execution_count": 13,
     "metadata": {},
     "output_type": "execute_result"
    }
   ],
   "source": [
    "strVar = 'This is a long statement for the sake of the exercise'\n",
    "newDict = dict()\n",
    "\n",
    "for idx, word in enumerate(strVar.split()):\n",
    "    newDict[idx] = word\n",
    "\n",
    "newDict"
   ]
  },
  {
   "cell_type": "markdown",
   "id": "a7f8f262-2aec-4d71-b87f-53d09e85c870",
   "metadata": {},
   "source": [
    "You can use enumerate() to expllicitly call out the index of a list"
   ]
  },
  {
   "cell_type": "code",
   "execution_count": 21,
   "id": "a52c0f17-c1bb-4fbd-8aa4-e39f608b0029",
   "metadata": {},
   "outputs": [
    {
     "name": "stdout",
     "output_type": "stream",
     "text": [
      "For the item 5 the index is 0\n",
      "For the item 4 the index is 1\n",
      "For the item 3 the index is 2\n",
      "For the item 2 the index is 3\n",
      "For the item 1 the index is 4\n",
      "For the item 0 the index is 5\n"
     ]
    }
   ],
   "source": [
    "newList = list(range(6))\n",
    "newList.reverse()\n",
    "\n",
    "for idx, item in enumerate(newList):\n",
    "    print(f'For the item {item} the index is {idx}')"
   ]
  },
  {
   "cell_type": "markdown",
   "id": "4a007c7b-6a2d-47ce-ac08-d2da2159c791",
   "metadata": {},
   "source": [
    "Enumerate works with dicts() but by default uses the keys as values to enumerate through"
   ]
  },
  {
   "cell_type": "code",
   "execution_count": 27,
   "id": "996152e6-56a3-4b99-93a0-344816e4920e",
   "metadata": {},
   "outputs": [
    {
     "name": "stdout",
     "output_type": "stream",
     "text": [
      "(0, 'Brad')\n",
      "(1, 'Courtney')\n",
      "(2, 'Steve')\n",
      "(3, 'Martha')\n",
      "(4, 'Josh')\n",
      "(5, 'Alana')\n",
      "(6, 'David')\n"
     ]
    }
   ],
   "source": [
    "import csv\n",
    "newDict = dict()\n",
    "\n",
    "with open('/Users/mhino/Documents/Python_Learning/Files/people.csv') as file:\n",
    "    reader = csv.DictReader(file)\n",
    "    for row in reader:\n",
    "        name = row['name']\n",
    "        age = row['age']\n",
    "        newDict[name] = age\n",
    "\n",
    "for item in enumerate(newDict):\n",
    "    print(item)"
   ]
  },
  {
   "cell_type": "markdown",
   "id": "010c8608-9988-4a55-a4b1-743464a1bd62",
   "metadata": {},
   "source": [
    "However dict() values can be called instead using the .values() method"
   ]
  },
  {
   "cell_type": "code",
   "execution_count": 28,
   "id": "b0027864-bf4f-4c5b-989e-b3a36b7b2182",
   "metadata": {},
   "outputs": [
    {
     "name": "stdout",
     "output_type": "stream",
     "text": [
      "(0, '21')\n",
      "(1, '29')\n",
      "(2, '19')\n",
      "(3, '56')\n",
      "(4, '15')\n",
      "(5, '14')\n",
      "(6, '36')\n"
     ]
    }
   ],
   "source": [
    "import csv\n",
    "newDict = dict()\n",
    "\n",
    "with open('/Users/mhino/Documents/Python_Learning/Files/people.csv') as file:\n",
    "    reader = csv.DictReader(file)\n",
    "    for row in reader:\n",
    "        name = row['name']\n",
    "        age = row['age']\n",
    "        newDict[name] = age\n",
    "\n",
    "for item in enumerate(newDict.values()):\n",
    "    print(item)"
   ]
  },
  {
   "cell_type": "markdown",
   "id": "962737da-bfbe-4e96-a2b0-1ec72b4a552a",
   "metadata": {},
   "source": [
    "I don't know of a good use case yet but this means that values from dicts() can be unpacked and added into separate dicts() with the index as a key"
   ]
  },
  {
   "cell_type": "code",
   "execution_count": 31,
   "id": "84e10688-69a6-4938-8072-e3cd970fa1e9",
   "metadata": {},
   "outputs": [
    {
     "name": "stdout",
     "output_type": "stream",
     "text": [
      "{0: 'Brad', 1: 'Courtney', 2: 'Steve', 3: 'Martha', 4: 'Josh', 5: 'Alana', 6: 'David'}\n",
      "{0: '21', 1: '29', 2: '19', 3: '56', 4: '15', 5: '14', 6: '36'}\n"
     ]
    }
   ],
   "source": [
    "import csv\n",
    "newDict = dict()\n",
    "ageDict = dict()\n",
    "nameDict = dict()\n",
    "\n",
    "with open('/Users/mhino/Documents/Python_Learning/Files/people.csv') as file:\n",
    "    reader = csv.DictReader(file)\n",
    "    for row in reader:\n",
    "        name = row['name']\n",
    "        age = row['age']\n",
    "        newDict[name] = age\n",
    "\n",
    "for idx, item in enumerate(newDict):\n",
    "   nameDict[idx] = item\n",
    "\n",
    "for idx, item in enumerate(newDict.values()):\n",
    "   ageDict[idx] = item\n",
    "\n",
    "print(nameDict)\n",
    "print(ageDict)"
   ]
  },
  {
   "cell_type": "markdown",
   "id": "56caab65-5582-4d07-bc9d-ddf6d6aade0d",
   "metadata": {},
   "source": [
    "Another use case is finding the position of the item in an interable. Similar to the .find() method with string objects"
   ]
  },
  {
   "cell_type": "code",
   "execution_count": 1,
   "id": "4fdedd2f-3689-4909-839c-77720d711000",
   "metadata": {},
   "outputs": [
    {
     "name": "stdout",
     "output_type": "stream",
     "text": [
      "10 is in position 10\n"
     ]
    }
   ],
   "source": [
    "newList = list(range(20))\n",
    "\n",
    "for idx, num in enumerate(newList):\n",
    "    if num == 10:\n",
    "        print(f'{num} is in position {idx}')\n",
    "        break"
   ]
  },
  {
   "cell_type": "markdown",
   "id": "1c3964e3-ca18-43b3-a45c-d957c4ef36e6",
   "metadata": {},
   "source": [
    "Now let's try with searching for a specific term within a list of words"
   ]
  },
  {
   "cell_type": "code",
   "execution_count": 7,
   "id": "49260c74-d6e3-4b69-98c0-18b4dae67ee6",
   "metadata": {},
   "outputs": [
    {
     "name": "stdout",
     "output_type": "stream",
     "text": [
      "The word fox is in index position 3\n"
     ]
    }
   ],
   "source": [
    "phrase = 'The quick brown fox jumped over the lazy dog'\n",
    "wordList = phrase.split()\n",
    "\n",
    "for idx, word in enumerate(wordList):\n",
    "    if word.lower() == 'fox':\n",
    "        print(f'The word {word} is in index position {idx}')\n",
    "        break"
   ]
  },
  {
   "cell_type": "markdown",
   "id": "a3f6bde4-92be-4310-b5e3-caa977ff384e",
   "metadata": {},
   "source": [
    "We used break there to break the code but if we wanted to count all the instances of an item we can do that as well"
   ]
  },
  {
   "cell_type": "code",
   "execution_count": 24,
   "id": "a8ce5a5f-21d0-4da1-8712-320742b5bd57",
   "metadata": {},
   "outputs": [
    {
     "name": "stdout",
     "output_type": "stream",
     "text": [
      "The word cat is in index position 1\n",
      "The word cat is in index position 9\n",
      "The word cat is in index position 11\n",
      "There were 3 instances of the word\n"
     ]
    }
   ],
   "source": [
    "phrase = 'The cat chased the dog. The dog chased the cat. The cat took a nap.'\n",
    "cleanPhrase = str()\n",
    "\n",
    "for letters in phrase:\n",
    "    if letters.isalpha() == True or letters.isspace() == True:\n",
    "        cleanPhrase = cleanPhrase + letters\n",
    "\n",
    "wordList = cleanPhrase.split()\n",
    "wordCounter = 0\n",
    "\n",
    "for idx, word in enumerate(wordList):\n",
    "    if word.lower() == 'cat':\n",
    "        print(f'The word {word} is in index position {idx}')\n",
    "        wordCounter += 1\n",
    "print(f'There were {wordCounter} instances of the word')"
   ]
  },
  {
   "cell_type": "markdown",
   "id": "4448b7ff-fe52-4531-8e4a-4a8cee105768",
   "metadata": {},
   "source": [
    "The last simple use-case *idea from OpenAI* is creating a grocery list"
   ]
  },
  {
   "cell_type": "code",
   "execution_count": 27,
   "id": "f79eff8b-eea6-4f45-b5d4-a0b84ef9baef",
   "metadata": {},
   "outputs": [
    {
     "name": "stdout",
     "output_type": "stream",
     "text": [
      "Grocery List\n",
      "1 - APPLE\n",
      "2 - BANANA\n",
      "3 - ORANGE\n",
      "4 - PINEAPPLE\n",
      "5 - MILK\n",
      "6 - PASTA\n"
     ]
    }
   ],
   "source": [
    "grocList = ['apple','banana','orange','pineapple','milk','pasta']\n",
    "\n",
    "print('Grocery List')\n",
    "for idx, item in enumerate(grocList):\n",
    "    print(f'{idx + 1} - {item.upper()}')"
   ]
  }
 ],
 "metadata": {
  "kernelspec": {
   "display_name": "Python 3 (ipykernel)",
   "language": "python",
   "name": "python3"
  },
  "language_info": {
   "codemirror_mode": {
    "name": "ipython",
    "version": 3
   },
   "file_extension": ".py",
   "mimetype": "text/x-python",
   "name": "python",
   "nbconvert_exporter": "python",
   "pygments_lexer": "ipython3",
   "version": "3.12.5"
  }
 },
 "nbformat": 4,
 "nbformat_minor": 5
}
