{
 "cells": [
  {
   "cell_type": "markdown",
   "id": "0e70c28e-5ec1-4a60-a07a-9a39d4194f23",
   "metadata": {},
   "source": [
    "Lists are mutable"
   ]
  },
  {
   "cell_type": "code",
   "execution_count": 1,
   "id": "7f54b31b-2cb2-4af9-ab82-0e507118175a",
   "metadata": {},
   "outputs": [],
   "source": [
    "baseList = [1,2,3]"
   ]
  },
  {
   "cell_type": "code",
   "execution_count": 2,
   "id": "6fe0b167-9d31-4fa0-b2cc-19834a630725",
   "metadata": {},
   "outputs": [
    {
     "data": {
      "text/plain": [
       "[1, 2, 3]"
      ]
     },
     "execution_count": 2,
     "metadata": {},
     "output_type": "execute_result"
    }
   ],
   "source": [
    "baseList"
   ]
  },
  {
   "cell_type": "code",
   "execution_count": 3,
   "id": "411c171f-8228-4586-b1c8-8ec811c8d966",
   "metadata": {},
   "outputs": [],
   "source": [
    "baseList[0] = 4"
   ]
  },
  {
   "cell_type": "code",
   "execution_count": 4,
   "id": "77e8badf-8d70-4553-a6f1-a3e953dc8f31",
   "metadata": {},
   "outputs": [
    {
     "data": {
      "text/plain": [
       "[4, 2, 3]"
      ]
     },
     "execution_count": 4,
     "metadata": {},
     "output_type": "execute_result"
    }
   ],
   "source": [
    "baseList"
   ]
  },
  {
   "cell_type": "markdown",
   "id": "39fe2877-bf55-483b-81ed-136a4f5dc6d2",
   "metadata": {},
   "source": [
    "Lists can be extended in two ways"
   ]
  },
  {
   "cell_type": "code",
   "execution_count": 5,
   "id": "bbc1b8de-9509-4d3f-90cb-d9e4478aa37c",
   "metadata": {},
   "outputs": [],
   "source": [
    "baseList.extend([4,5,6])"
   ]
  },
  {
   "cell_type": "code",
   "execution_count": 6,
   "id": "c2577511-3085-416b-b4f0-d3cdb886129b",
   "metadata": {},
   "outputs": [
    {
     "data": {
      "text/plain": [
       "[4, 2, 3, 4, 5, 6]"
      ]
     },
     "execution_count": 6,
     "metadata": {},
     "output_type": "execute_result"
    }
   ],
   "source": [
    "baseList"
   ]
  },
  {
   "cell_type": "code",
   "execution_count": 7,
   "id": "ed501783-b937-42a8-8fb2-0fdec1883e7a",
   "metadata": {},
   "outputs": [],
   "source": [
    "baseList = baseList + [7,8,9]"
   ]
  },
  {
   "cell_type": "code",
   "execution_count": 8,
   "id": "33e71fc8-dfb0-4607-b8c0-04937dab4433",
   "metadata": {},
   "outputs": [
    {
     "data": {
      "text/plain": [
       "[4, 2, 3, 4, 5, 6, 7, 8, 9]"
      ]
     },
     "execution_count": 8,
     "metadata": {},
     "output_type": "execute_result"
    }
   ],
   "source": [
    "baseList"
   ]
  },
  {
   "cell_type": "markdown",
   "id": "0683b373-3c68-4e26-a422-1a7db0a1b92d",
   "metadata": {},
   "source": [
    "There are two ways to sort lists. One is in-place, meaning it changes the list"
   ]
  },
  {
   "cell_type": "code",
   "execution_count": 9,
   "id": "838d208c-6d06-400c-8596-2e05f07ce424",
   "metadata": {},
   "outputs": [],
   "source": [
    "baseListDupe = baseList"
   ]
  },
  {
   "cell_type": "code",
   "execution_count": 10,
   "id": "987fb2b4-72ca-43ea-9e7d-558e274281bd",
   "metadata": {},
   "outputs": [],
   "source": [
    "baseListDupe.sort()"
   ]
  },
  {
   "cell_type": "code",
   "execution_count": 11,
   "id": "e3aa531e-cf3d-4cd3-bfaf-07c5a1ba5d13",
   "metadata": {},
   "outputs": [
    {
     "data": {
      "text/plain": [
       "[2, 3, 4, 4, 5, 6, 7, 8, 9]"
      ]
     },
     "execution_count": 11,
     "metadata": {},
     "output_type": "execute_result"
    }
   ],
   "source": [
    "baseListDupe"
   ]
  },
  {
   "cell_type": "markdown",
   "id": "b66fcf6c-034c-452c-a3d2-e5a5a33ef73d",
   "metadata": {},
   "source": [
    "or it can be sorted by using the sorted() function"
   ]
  },
  {
   "cell_type": "code",
   "execution_count": 12,
   "id": "23333384-996e-4ca0-bf28-b6d15c18caeb",
   "metadata": {},
   "outputs": [],
   "source": [
    "baseList = sorted(baseList)"
   ]
  },
  {
   "cell_type": "code",
   "execution_count": 13,
   "id": "0235f96e-bb56-45e2-9404-c35d0b1439a0",
   "metadata": {},
   "outputs": [
    {
     "data": {
      "text/plain": [
       "[2, 3, 4, 4, 5, 6, 7, 8, 9]"
      ]
     },
     "execution_count": 13,
     "metadata": {},
     "output_type": "execute_result"
    }
   ],
   "source": [
    "baseList"
   ]
  },
  {
   "cell_type": "markdown",
   "id": "f23d2d9f-930b-4676-b407-c9838d9bc87d",
   "metadata": {},
   "source": [
    "Specific items can be removed fromt the list using the pop() method"
   ]
  },
  {
   "cell_type": "code",
   "execution_count": 14,
   "id": "74f68986-4c6e-421d-8232-1ffdf974c52f",
   "metadata": {},
   "outputs": [
    {
     "data": {
      "text/plain": [
       "9"
      ]
     },
     "execution_count": 14,
     "metadata": {},
     "output_type": "execute_result"
    }
   ],
   "source": [
    "baseListDupe.pop()"
   ]
  },
  {
   "cell_type": "code",
   "execution_count": 15,
   "id": "24d5f27f-19b9-4ec8-8cd0-1d4a314b6eb4",
   "metadata": {},
   "outputs": [
    {
     "data": {
      "text/plain": [
       "[2, 3, 4, 4, 5, 6, 7, 8]"
      ]
     },
     "execution_count": 15,
     "metadata": {},
     "output_type": "execute_result"
    }
   ],
   "source": [
    "baseListDupe"
   ]
  },
  {
   "cell_type": "markdown",
   "id": "34e975bb-b2ae-4ea0-bddf-275a79d97175",
   "metadata": {},
   "source": [
    "If not specific pop() removes the last object, howerver an index value can be given"
   ]
  },
  {
   "cell_type": "code",
   "execution_count": 16,
   "id": "076b89ac-917b-4de6-ac1f-985a98dcd5eb",
   "metadata": {},
   "outputs": [
    {
     "data": {
      "text/plain": [
       "2"
      ]
     },
     "execution_count": 16,
     "metadata": {},
     "output_type": "execute_result"
    }
   ],
   "source": [
    "baseListDupe.pop(0)"
   ]
  },
  {
   "cell_type": "markdown",
   "id": "396c1944-3c43-49c5-bb0d-96d0793a7d67",
   "metadata": {},
   "source": [
    "The values of the pop() can be added to another list"
   ]
  },
  {
   "cell_type": "code",
   "execution_count": 23,
   "id": "d5975065-9c85-428a-9048-639cf03f77fa",
   "metadata": {},
   "outputs": [],
   "source": [
    "newList = baseListDupe.pop()"
   ]
  },
  {
   "cell_type": "code",
   "execution_count": 18,
   "id": "1983b8d3-a4ae-400f-9c19-361434e5fb2f",
   "metadata": {},
   "outputs": [
    {
     "data": {
      "text/plain": [
       "8"
      ]
     },
     "execution_count": 18,
     "metadata": {},
     "output_type": "execute_result"
    }
   ],
   "source": [
    "newList"
   ]
  },
  {
   "cell_type": "code",
   "execution_count": 24,
   "id": "998c02fe-b1c3-4cd6-ae5d-f915e3459519",
   "metadata": {},
   "outputs": [],
   "source": [
    "newList = newList + baseListDupe.pop()"
   ]
  },
  {
   "cell_type": "code",
   "execution_count": 25,
   "id": "e93961e0-4910-42c6-9c6d-f133dd12a478",
   "metadata": {},
   "outputs": [
    {
     "data": {
      "text/plain": [
       "8"
      ]
     },
     "execution_count": 25,
     "metadata": {},
     "output_type": "execute_result"
    }
   ],
   "source": [
    "newList"
   ]
  },
  {
   "cell_type": "code",
   "execution_count": 26,
   "id": "5d1b4219-b32c-4891-a4c0-0c50c6d0800f",
   "metadata": {},
   "outputs": [
    {
     "data": {
      "text/plain": [
       "[3]"
      ]
     },
     "execution_count": 26,
     "metadata": {},
     "output_type": "execute_result"
    }
   ],
   "source": [
    "baseListDupe"
   ]
  },
  {
   "cell_type": "markdown",
   "id": "983a350c-ee5e-4b8a-98ac-65237a31780e",
   "metadata": {},
   "source": [
    "All objects can also be cleared from the list using the clear method"
   ]
  },
  {
   "cell_type": "code",
   "execution_count": 27,
   "id": "6820db20-ef92-4f77-9b67-a728e99692da",
   "metadata": {},
   "outputs": [],
   "source": [
    "baseListDupe.clear()"
   ]
  },
  {
   "cell_type": "code",
   "execution_count": 28,
   "id": "439c8a62-591e-44de-addd-05c2b7b9ac32",
   "metadata": {},
   "outputs": [
    {
     "data": {
      "text/plain": [
       "[]"
      ]
     },
     "execution_count": 28,
     "metadata": {},
     "output_type": "execute_result"
    }
   ],
   "source": [
    "baseListDupe"
   ]
  },
  {
   "cell_type": "code",
   "execution_count": 29,
   "id": "e1070ee4-a6d1-4811-ad6b-9e9df519a39a",
   "metadata": {},
   "outputs": [
    {
     "data": {
      "text/plain": [
       "[2, 3, 4, 4, 5, 6, 7, 8, 9]"
      ]
     },
     "execution_count": 29,
     "metadata": {},
     "output_type": "execute_result"
    }
   ],
   "source": [
    "baseList"
   ]
  },
  {
   "cell_type": "markdown",
   "id": "e8fbf20e-dc00-40c2-a472-5f49e48add63",
   "metadata": {},
   "source": [
    "Similar to strings, the indexes of a list are sliceable"
   ]
  },
  {
   "cell_type": "code",
   "execution_count": 30,
   "id": "0c936b0f-de5b-4b22-a968-76dcdf598b24",
   "metadata": {},
   "outputs": [
    {
     "data": {
      "text/plain": [
       "[3, 4, 4, 5]"
      ]
     },
     "execution_count": 30,
     "metadata": {},
     "output_type": "execute_result"
    }
   ],
   "source": [
    "baseList[1:5:1]"
   ]
  },
  {
   "cell_type": "code",
   "execution_count": 31,
   "id": "30f39b62-4cd6-4a99-b930-72459ce37beb",
   "metadata": {},
   "outputs": [
    {
     "data": {
      "text/plain": [
       "[9, 8, 7, 6, 5, 4, 4, 3, 2]"
      ]
     },
     "execution_count": 31,
     "metadata": {},
     "output_type": "execute_result"
    }
   ],
   "source": [
    "baseList[::-1]"
   ]
  },
  {
   "cell_type": "markdown",
   "id": "855d9959-8260-4138-a8bc-f205b4d02691",
   "metadata": {},
   "source": [
    "Those slices can also be used in conjuction with extend to create or add to an existing list"
   ]
  },
  {
   "cell_type": "code",
   "execution_count": 32,
   "id": "3cc6b7c9-1015-4e16-8684-3e058f4e329a",
   "metadata": {},
   "outputs": [
    {
     "data": {
      "text/plain": [
       "[]"
      ]
     },
     "execution_count": 32,
     "metadata": {},
     "output_type": "execute_result"
    }
   ],
   "source": [
    "baseListDupe"
   ]
  },
  {
   "cell_type": "code",
   "execution_count": 33,
   "id": "8a3de1e0-4b81-453c-8ece-2eaadcc87ca8",
   "metadata": {},
   "outputs": [],
   "source": [
    "baseListDupe.extend(baseList[1:3:1])"
   ]
  },
  {
   "cell_type": "code",
   "execution_count": 34,
   "id": "9ed32254-a1d2-47c1-a159-42e1401d0456",
   "metadata": {},
   "outputs": [
    {
     "data": {
      "text/plain": [
       "[3, 4]"
      ]
     },
     "execution_count": 34,
     "metadata": {},
     "output_type": "execute_result"
    }
   ],
   "source": [
    "baseListDupe"
   ]
  },
  {
   "cell_type": "markdown",
   "id": "cf444339-e57b-484e-bd6e-ef1debd01011",
   "metadata": {},
   "source": [
    "Lists can be nested"
   ]
  },
  {
   "cell_type": "code",
   "execution_count": 42,
   "id": "02cae2ea-b5cf-4682-8d5b-b5f78934e3ec",
   "metadata": {},
   "outputs": [],
   "source": [
    "newList = [[1,2],[1,2]]"
   ]
  },
  {
   "cell_type": "markdown",
   "id": "93233beb-263f-4e5e-9744-7bae95557574",
   "metadata": {},
   "source": [
    "When the index is called, it produces the nested list"
   ]
  },
  {
   "cell_type": "code",
   "execution_count": 43,
   "id": "43ed12ff-0acf-4e30-afe4-68f05b6f684a",
   "metadata": {},
   "outputs": [
    {
     "data": {
      "text/plain": [
       "[1, 2]"
      ]
     },
     "execution_count": 43,
     "metadata": {},
     "output_type": "execute_result"
    }
   ],
   "source": [
    "newList[0]"
   ]
  },
  {
   "cell_type": "markdown",
   "id": "75b6856f-2882-49c4-b4e3-e022dc861671",
   "metadata": {},
   "source": [
    "To cann a value within a nest add a secondary index"
   ]
  },
  {
   "cell_type": "code",
   "execution_count": 44,
   "id": "27fea029-1eb4-4933-846c-2335c8ceb5d3",
   "metadata": {},
   "outputs": [
    {
     "data": {
      "text/plain": [
       "2"
      ]
     },
     "execution_count": 44,
     "metadata": {},
     "output_type": "execute_result"
    }
   ],
   "source": [
    "newList[0][1]"
   ]
  },
  {
   "cell_type": "markdown",
   "id": "c38e7356-995f-41f1-ac96-a1f5ae27ad70",
   "metadata": {},
   "source": [
    "This can be done infinitely"
   ]
  },
  {
   "cell_type": "code",
   "execution_count": 51,
   "id": "88a17f3f-1f9c-45b8-ade9-6b05d347a496",
   "metadata": {},
   "outputs": [],
   "source": [
    "newList.extend([[[1,2]]])"
   ]
  },
  {
   "cell_type": "code",
   "execution_count": 49,
   "id": "8339b26a-e839-4193-a101-9b8f9f2b68fc",
   "metadata": {},
   "outputs": [
    {
     "data": {
      "text/plain": [
       "[[1, 2], [1, 2], 1, 2, [1, 2]]"
      ]
     },
     "execution_count": 49,
     "metadata": {},
     "output_type": "execute_result"
    }
   ],
   "source": [
    "newList"
   ]
  },
  {
   "cell_type": "code",
   "execution_count": 52,
   "id": "5da9a030-de70-452d-91d6-a3532f0bb172",
   "metadata": {},
   "outputs": [
    {
     "data": {
      "text/plain": [
       "[[1, 2], [1, 2], 1, 2, [1, 2], [[1, 2]]]"
      ]
     },
     "execution_count": 52,
     "metadata": {},
     "output_type": "execute_result"
    }
   ],
   "source": [
    "newList"
   ]
  },
  {
   "cell_type": "code",
   "execution_count": 55,
   "id": "d24bac3c-62fd-455f-973f-c886fc176a46",
   "metadata": {},
   "outputs": [
    {
     "data": {
      "text/plain": [
       "2"
      ]
     },
     "execution_count": 55,
     "metadata": {},
     "output_type": "execute_result"
    }
   ],
   "source": [
    "newList[-1][0][1]"
   ]
  },
  {
   "cell_type": "markdown",
   "id": "a1f17b9e-9da2-47ba-b151-44aa3692dc5d",
   "metadata": {},
   "source": [
    "Extend will add objects to the list at the end of the list"
   ]
  },
  {
   "cell_type": "markdown",
   "id": "d2c24fe2-c364-4284-8a2a-addf2bd66550",
   "metadata": {},
   "source": [
    "Whereas insert can specificy which index to insert the object"
   ]
  },
  {
   "cell_type": "code",
   "execution_count": 56,
   "id": "b6cefdc6-34b8-4518-b702-339b9167081f",
   "metadata": {},
   "outputs": [],
   "source": [
    "newList.insert(5, [3,4])"
   ]
  },
  {
   "cell_type": "markdown",
   "id": "60328484-5d67-4674-8180-389b796739b4",
   "metadata": {},
   "source": [
    "The count() method will count the number of instances that object occursn"
   ]
  },
  {
   "cell_type": "code",
   "execution_count": 58,
   "id": "13653a83-f3d6-4b77-9628-9e9063fdb59c",
   "metadata": {},
   "outputs": [
    {
     "data": {
      "text/plain": [
       "3"
      ]
     },
     "execution_count": 58,
     "metadata": {},
     "output_type": "execute_result"
    }
   ],
   "source": [
    "newList.count([1,2])"
   ]
  },
  {
   "cell_type": "markdown",
   "id": "38ce378a-7432-4a22-8fcf-b4987cf9977b",
   "metadata": {},
   "source": [
    "There are four ways to reverse a list, provided that is all integers"
   ]
  },
  {
   "cell_type": "code",
   "execution_count": 59,
   "id": "289da18b-ec0f-42cb-a851-29a03b56de8c",
   "metadata": {},
   "outputs": [
    {
     "data": {
      "text/plain": [
       "[2, 3, 4, 4, 5, 6, 7, 8, 9]"
      ]
     },
     "execution_count": 59,
     "metadata": {},
     "output_type": "execute_result"
    }
   ],
   "source": [
    "baseList"
   ]
  },
  {
   "cell_type": "markdown",
   "id": "5380e81f-a76f-465e-a434-635e7d26389c",
   "metadata": {},
   "source": [
    "Using the sorted() function will reverse the list but not in place"
   ]
  },
  {
   "cell_type": "code",
   "execution_count": 60,
   "id": "80f59f41-eeb8-44d8-ace1-dcf707fc639f",
   "metadata": {},
   "outputs": [],
   "source": [
    "baseList = sorted(baseList, reverse = True)\\"
   ]
  },
  {
   "cell_type": "code",
   "execution_count": 61,
   "id": "cc54cf83-9f76-4def-bcd9-8013dad0349c",
   "metadata": {},
   "outputs": [
    {
     "data": {
      "text/plain": [
       "[9, 8, 7, 6, 5, 4, 4, 3, 2]"
      ]
     },
     "execution_count": 61,
     "metadata": {},
     "output_type": "execute_result"
    }
   ],
   "source": [
    "baseList"
   ]
  },
  {
   "cell_type": "code",
   "execution_count": 63,
   "id": "5852f8a0-1e93-4d35-96cc-55a60ab39b24",
   "metadata": {},
   "outputs": [],
   "source": [
    "baseList.sort()"
   ]
  },
  {
   "cell_type": "code",
   "execution_count": 64,
   "id": "e421b46b-2ccd-49f2-ac44-0635cd38fdbe",
   "metadata": {},
   "outputs": [
    {
     "data": {
      "text/plain": [
       "[2, 3, 4, 4, 5, 6, 7, 8, 9]"
      ]
     },
     "execution_count": 64,
     "metadata": {},
     "output_type": "execute_result"
    }
   ],
   "source": [
    "baseList"
   ]
  },
  {
   "cell_type": "markdown",
   "id": "7e407e98-c098-4e17-8af6-8bb964d6ccc6",
   "metadata": {},
   "source": [
    "Similarly the slice method can reverse the list"
   ]
  },
  {
   "cell_type": "code",
   "execution_count": 66,
   "id": "b86aaebc-963d-42ad-8c8f-b33bdb2093c2",
   "metadata": {},
   "outputs": [],
   "source": [
    "baseList = baseList[::-1]"
   ]
  },
  {
   "cell_type": "code",
   "execution_count": 67,
   "id": "426b33f2-79e6-4118-94a4-40ea9be1af98",
   "metadata": {},
   "outputs": [
    {
     "data": {
      "text/plain": [
       "[9, 8, 7, 6, 5, 4, 4, 3, 2]"
      ]
     },
     "execution_count": 67,
     "metadata": {},
     "output_type": "execute_result"
    }
   ],
   "source": [
    "baseList"
   ]
  },
  {
   "cell_type": "code",
   "execution_count": 68,
   "id": "9e6bc785-1cf2-4fff-b2eb-8152f2e1c951",
   "metadata": {},
   "outputs": [],
   "source": [
    "baseList.sort()"
   ]
  },
  {
   "cell_type": "code",
   "execution_count": 69,
   "id": "70a65e1d-b803-4ec3-9f98-d4659c32350d",
   "metadata": {},
   "outputs": [
    {
     "data": {
      "text/plain": [
       "[2, 3, 4, 4, 5, 6, 7, 8, 9]"
      ]
     },
     "execution_count": 69,
     "metadata": {},
     "output_type": "execute_result"
    }
   ],
   "source": [
    "baseList"
   ]
  },
  {
   "cell_type": "markdown",
   "id": "88b16931-4e81-4485-8484-e5f875a38d89",
   "metadata": {},
   "source": [
    "The sort() method has the ability to reverse the indexes"
   ]
  },
  {
   "cell_type": "code",
   "execution_count": 70,
   "id": "109e537d-662f-43b6-a755-e6444644ca6b",
   "metadata": {},
   "outputs": [],
   "source": [
    "baseList.sort(reverse = True)"
   ]
  },
  {
   "cell_type": "code",
   "execution_count": 71,
   "id": "e365d526-893d-447b-bcca-cda8b3462113",
   "metadata": {},
   "outputs": [
    {
     "data": {
      "text/plain": [
       "[9, 8, 7, 6, 5, 4, 4, 3, 2]"
      ]
     },
     "execution_count": 71,
     "metadata": {},
     "output_type": "execute_result"
    }
   ],
   "source": [
    "baseList"
   ]
  },
  {
   "cell_type": "code",
   "execution_count": 72,
   "id": "afb0beb4-12c3-48ef-8d7f-3311e3886574",
   "metadata": {},
   "outputs": [],
   "source": [
    "baseList.sort()"
   ]
  },
  {
   "cell_type": "code",
   "execution_count": 73,
   "id": "3c935fd8-f61a-4b2c-ace0-2364cc37fd4a",
   "metadata": {},
   "outputs": [
    {
     "data": {
      "text/plain": [
       "[2, 3, 4, 4, 5, 6, 7, 8, 9]"
      ]
     },
     "execution_count": 73,
     "metadata": {},
     "output_type": "execute_result"
    }
   ],
   "source": [
    "baseList"
   ]
  },
  {
   "cell_type": "markdown",
   "id": "69b3c565-8803-4306-9208-bea5bca8744c",
   "metadata": {},
   "source": [
    "Finally there is a method called reverse () that can be called for lists. Similar to sort this is in-place"
   ]
  },
  {
   "cell_type": "code",
   "execution_count": 74,
   "id": "9e2f2ac8-b139-4a79-a831-796c6afe0c0e",
   "metadata": {},
   "outputs": [],
   "source": [
    "baseList.reverse()"
   ]
  },
  {
   "cell_type": "code",
   "execution_count": 75,
   "id": "4be96a1c-cbe8-4bc0-b4df-939c6896cf95",
   "metadata": {},
   "outputs": [
    {
     "data": {
      "text/plain": [
       "[9, 8, 7, 6, 5, 4, 4, 3, 2]"
      ]
     },
     "execution_count": 75,
     "metadata": {},
     "output_type": "execute_result"
    }
   ],
   "source": [
    "baseList"
   ]
  },
  {
   "cell_type": "markdown",
   "id": "81dfec93-3352-4de4-b876-61aa49dc8621",
   "metadata": {},
   "source": [
    "Arithmatic can be called upon for adding to lists"
   ]
  },
  {
   "cell_type": "code",
   "execution_count": 76,
   "id": "759106a5-3b93-43a2-a7cd-58a2646867f2",
   "metadata": {},
   "outputs": [],
   "source": [
    "baseList.extend([0]*3)"
   ]
  },
  {
   "cell_type": "code",
   "execution_count": 77,
   "id": "db9a9815-ba82-4c9a-8ee9-4d4145f0a014",
   "metadata": {},
   "outputs": [
    {
     "data": {
      "text/plain": [
       "[9, 8, 7, 6, 5, 4, 4, 3, 2, 0, 0, 0]"
      ]
     },
     "execution_count": 77,
     "metadata": {},
     "output_type": "execute_result"
    }
   ],
   "source": [
    "baseList"
   ]
  },
  {
   "cell_type": "code",
   "execution_count": 79,
   "id": "138714d1-2fca-4fcf-a3d2-9875a6812075",
   "metadata": {},
   "outputs": [],
   "source": [
    "baseList.clear()"
   ]
  },
  {
   "cell_type": "code",
   "execution_count": 80,
   "id": "71a7e732-a115-43b6-adf1-49dc9fa7eb3a",
   "metadata": {},
   "outputs": [],
   "source": [
    "newList.clear()"
   ]
  },
  {
   "cell_type": "code",
   "execution_count": 81,
   "id": "e9fb1dec-daba-4b4c-9465-ae9fde55fb27",
   "metadata": {},
   "outputs": [],
   "source": [
    "baseListDupe.clear()"
   ]
  },
  {
   "cell_type": "markdown",
   "id": "bdae2bd9-9b49-456e-b499-e3360bf57616",
   "metadata": {},
   "source": [
    "Lastly, lists can be added together"
   ]
  },
  {
   "cell_type": "code",
   "execution_count": 82,
   "id": "c4222bd6-936c-4ab2-9e16-1fb6c5c8d4c6",
   "metadata": {},
   "outputs": [],
   "source": [
    "baseList.extend([1]*2)\n",
    "baseListDupe.extend([2]*2)\n",
    "newList.extend([3]*2)"
   ]
  },
  {
   "cell_type": "code",
   "execution_count": 86,
   "id": "ba316daa-b1da-48b4-b60a-db6aa4d51184",
   "metadata": {},
   "outputs": [],
   "source": [
    "anotherList = baseList + baseListDupe + newList"
   ]
  },
  {
   "cell_type": "markdown",
   "id": "3b49e4db-e02e-4e42-b668-13fdff5063ba",
   "metadata": {},
   "source": [
    "The len() function can also be used with lists that will show the number of items in the list"
   ]
  },
  {
   "cell_type": "code",
   "execution_count": 87,
   "id": "86696d2c-38f8-4086-8c98-37c89935226d",
   "metadata": {},
   "outputs": [
    {
     "data": {
      "text/plain": [
       "6"
      ]
     },
     "execution_count": 87,
     "metadata": {},
     "output_type": "execute_result"
    }
   ],
   "source": [
    "len(anotherList)"
   ]
  },
  {
   "cell_type": "markdown",
   "id": "253a2fcd-8da8-4733-b228-42ef295583f4",
   "metadata": {},
   "source": [
    "Lists can be copied to varying degree of shallowness"
   ]
  },
  {
   "cell_type": "markdown",
   "id": "6a1b98ec-0b0c-4434-a84b-c6a861d97884",
   "metadata": {},
   "source": [
    "Creating a list from an existing list by refrencing the variable makes a referenced. This means that changes made to the new list will also be made to the original list"
   ]
  },
  {
   "cell_type": "code",
   "execution_count": 7,
   "id": "07b9f96e-6ef2-418b-94fb-08acb5546d2b",
   "metadata": {},
   "outputs": [],
   "source": [
    "list1 = [1,2,[1,2]]"
   ]
  },
  {
   "cell_type": "code",
   "execution_count": 8,
   "id": "4e809d33-99a6-42e4-8d58-3b194a04a836",
   "metadata": {},
   "outputs": [],
   "source": [
    "list2 = list1"
   ]
  },
  {
   "cell_type": "code",
   "execution_count": 9,
   "id": "4da05bf7-2570-47d4-8793-e9430428a8b7",
   "metadata": {},
   "outputs": [
    {
     "data": {
      "text/plain": [
       "[1, 2, [1, 2]]"
      ]
     },
     "execution_count": 9,
     "metadata": {},
     "output_type": "execute_result"
    }
   ],
   "source": [
    "list1"
   ]
  },
  {
   "cell_type": "code",
   "execution_count": 10,
   "id": "13918f2d-fbbf-4247-9c2c-775708ffbfbe",
   "metadata": {},
   "outputs": [
    {
     "data": {
      "text/plain": [
       "[1, 2, [1, 2]]"
      ]
     },
     "execution_count": 10,
     "metadata": {},
     "output_type": "execute_result"
    }
   ],
   "source": [
    "list2"
   ]
  },
  {
   "cell_type": "code",
   "execution_count": 11,
   "id": "bd0bd115-e6fb-4875-ba56-e829c0f971f6",
   "metadata": {},
   "outputs": [],
   "source": [
    "list2[0] = 0"
   ]
  },
  {
   "cell_type": "code",
   "execution_count": 12,
   "id": "2d6ac10f-8b7b-422c-9e41-8eafccc369e0",
   "metadata": {},
   "outputs": [
    {
     "data": {
      "text/plain": [
       "[0, 2, [1, 2]]"
      ]
     },
     "execution_count": 12,
     "metadata": {},
     "output_type": "execute_result"
    }
   ],
   "source": [
    "list2"
   ]
  },
  {
   "cell_type": "code",
   "execution_count": 13,
   "id": "56a69eb0-ae12-4961-acbd-37d46b4ce57d",
   "metadata": {},
   "outputs": [
    {
     "data": {
      "text/plain": [
       "[0, 2, [1, 2]]"
      ]
     },
     "execution_count": 13,
     "metadata": {},
     "output_type": "execute_result"
    }
   ],
   "source": [
    "list1"
   ]
  },
  {
   "cell_type": "markdown",
   "id": "578d5d3e-987a-4e52-8410-9e76117c92e2",
   "metadata": {},
   "source": [
    "There is also a way to make a less shallow copy were not nested objects are independent but nested objects are referenced"
   ]
  },
  {
   "cell_type": "code",
   "execution_count": 14,
   "id": "cc93bc8d-38bb-4a17-b585-fa921a117288",
   "metadata": {},
   "outputs": [],
   "source": [
    "list1 = [1,[1,2]]"
   ]
  },
  {
   "cell_type": "code",
   "execution_count": 15,
   "id": "104f20ac-cd7b-42bb-bea6-657d42aace0b",
   "metadata": {},
   "outputs": [],
   "source": [
    "list2 = list1.copy()"
   ]
  },
  {
   "cell_type": "code",
   "execution_count": 16,
   "id": "cd4c306b-4d62-4049-ac5a-9f03db8c2a04",
   "metadata": {},
   "outputs": [
    {
     "data": {
      "text/plain": [
       "[1, [1, 2]]"
      ]
     },
     "execution_count": 16,
     "metadata": {},
     "output_type": "execute_result"
    }
   ],
   "source": [
    "list2"
   ]
  },
  {
   "cell_type": "code",
   "execution_count": 17,
   "id": "93bbdfe5-95b7-4d6d-a159-d3f2c21bd198",
   "metadata": {},
   "outputs": [],
   "source": [
    "list2[0] = 2"
   ]
  },
  {
   "cell_type": "code",
   "execution_count": 18,
   "id": "cd26226b-22fb-459f-983a-bb289b0d6e4c",
   "metadata": {},
   "outputs": [
    {
     "data": {
      "text/plain": [
       "[2, [1, 2]]"
      ]
     },
     "execution_count": 18,
     "metadata": {},
     "output_type": "execute_result"
    }
   ],
   "source": [
    "list2"
   ]
  },
  {
   "cell_type": "code",
   "execution_count": 19,
   "id": "ca3289e0-474b-4e40-9ae4-cbaa35859860",
   "metadata": {},
   "outputs": [
    {
     "data": {
      "text/plain": [
       "[1, [1, 2]]"
      ]
     },
     "execution_count": 19,
     "metadata": {},
     "output_type": "execute_result"
    }
   ],
   "source": [
    "list1"
   ]
  },
  {
   "cell_type": "markdown",
   "id": "c8374080-5f2b-406d-aa85-ea72ec7ef0bf",
   "metadata": {},
   "source": [
    "Notice the change of the first object in the list"
   ]
  },
  {
   "cell_type": "markdown",
   "id": "0893d415-3296-491f-9a8c-09fed989ed03",
   "metadata": {},
   "source": [
    "But see what happens when we interact with the nested object"
   ]
  },
  {
   "cell_type": "code",
   "execution_count": 20,
   "id": "bc4d98b6-678f-436c-a041-4cc6104d62f0",
   "metadata": {},
   "outputs": [],
   "source": [
    "list2[1][0] = 3"
   ]
  },
  {
   "cell_type": "code",
   "execution_count": 21,
   "id": "af2b8ed2-81d4-40c6-a0d8-f575dde52adb",
   "metadata": {},
   "outputs": [
    {
     "data": {
      "text/plain": [
       "[2, [3, 2]]"
      ]
     },
     "execution_count": 21,
     "metadata": {},
     "output_type": "execute_result"
    }
   ],
   "source": [
    "list2"
   ]
  },
  {
   "cell_type": "code",
   "execution_count": 22,
   "id": "a5b9fcb0-e04f-47aa-bc4a-15ba9de05fad",
   "metadata": {},
   "outputs": [
    {
     "data": {
      "text/plain": [
       "[1, [3, 2]]"
      ]
     },
     "execution_count": 22,
     "metadata": {},
     "output_type": "execute_result"
    }
   ],
   "source": [
    "list1"
   ]
  },
  {
   "cell_type": "markdown",
   "id": "8df8bb2d-cfd9-4f8c-abe0-f6291526bb2b",
   "metadata": {},
   "source": [
    "This is to preserve memory"
   ]
  },
  {
   "cell_type": "markdown",
   "id": "7fd13a6c-c7a9-4542-b17d-f66657dbd90a",
   "metadata": {},
   "source": [
    "To truly create a unique copy of a list the copy() module is necessary. This is called a deep copy"
   ]
  },
  {
   "cell_type": "code",
   "execution_count": 23,
   "id": "42bd0ccb-f5b0-483b-a2ec-2d25130c4387",
   "metadata": {},
   "outputs": [],
   "source": [
    "import copy"
   ]
  },
  {
   "cell_type": "code",
   "execution_count": 26,
   "id": "d9df2e00-8e24-4790-b88c-9268b5f04387",
   "metadata": {},
   "outputs": [],
   "source": [
    "list3 = copy.deepcopy(list1)"
   ]
  },
  {
   "cell_type": "code",
   "execution_count": 27,
   "id": "b550af3a-e9d4-4a0e-a496-e868d2cb4da5",
   "metadata": {},
   "outputs": [],
   "source": [
    "list3[1][0] = 5"
   ]
  },
  {
   "cell_type": "code",
   "execution_count": 28,
   "id": "c20ff416-5259-4382-bf46-465df286b7ff",
   "metadata": {},
   "outputs": [
    {
     "data": {
      "text/plain": [
       "[1, [5, 2]]"
      ]
     },
     "execution_count": 28,
     "metadata": {},
     "output_type": "execute_result"
    }
   ],
   "source": [
    "list3"
   ]
  },
  {
   "cell_type": "code",
   "execution_count": 29,
   "id": "d80698e6-ec6e-4638-826e-f97087094954",
   "metadata": {},
   "outputs": [
    {
     "data": {
      "text/plain": [
       "[1, [3, 2]]"
      ]
     },
     "execution_count": 29,
     "metadata": {},
     "output_type": "execute_result"
    }
   ],
   "source": [
    "list1"
   ]
  },
  {
   "cell_type": "markdown",
   "id": "a1bc4db8-8d38-4177-965b-b12b558f1c3c",
   "metadata": {},
   "source": [
    "Lists can be generated using the built-in range function"
   ]
  },
  {
   "cell_type": "code",
   "execution_count": 12,
   "id": "bc186028-d720-4778-b654-ec383af2419a",
   "metadata": {},
   "outputs": [
    {
     "data": {
      "text/plain": [
       "[10, 20, 30, 40, 50, 60, 70, 80, 90, 100]"
      ]
     },
     "execution_count": 12,
     "metadata": {},
     "output_type": "execute_result"
    }
   ],
   "source": [
    "newList = list(range(0,101,10))\n",
    "newList.remove(0)\n",
    "newList"
   ]
  }
 ],
 "metadata": {
  "kernelspec": {
   "display_name": "Python 3 (ipykernel)",
   "language": "python",
   "name": "python3"
  },
  "language_info": {
   "codemirror_mode": {
    "name": "ipython",
    "version": 3
   },
   "file_extension": ".py",
   "mimetype": "text/x-python",
   "name": "python",
   "nbconvert_exporter": "python",
   "pygments_lexer": "ipython3",
   "version": "3.12.5"
  }
 },
 "nbformat": 4,
 "nbformat_minor": 5
}
