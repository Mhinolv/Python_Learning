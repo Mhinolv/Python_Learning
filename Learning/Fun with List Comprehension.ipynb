{
 "cells": [
  {
   "cell_type": "markdown",
   "id": "f7d3bcdd-adf6-44c2-b9cd-1aca662f7935",
   "metadata": {},
   "source": [
    "Let's see all the cool things that can be done with list comphrension shall we?"
   ]
  },
  {
   "cell_type": "markdown",
   "id": "dcad856a-0d0f-4163-8712-1ff9dbe9146b",
   "metadata": {},
   "source": [
    "First, list comphrension makes it REALLY easy to generate a list of numbers"
   ]
  },
  {
   "cell_type": "code",
   "execution_count": 1,
   "id": "9d7d6740-1545-4156-840c-6ac8fb385a1d",
   "metadata": {},
   "outputs": [
    {
     "data": {
      "text/plain": [
       "[1, 2, 3, 4, 5, 6, 7, 8, 9, 10]"
      ]
     },
     "execution_count": 1,
     "metadata": {},
     "output_type": "execute_result"
    }
   ],
   "source": [
    "numList = [num for num in range(1,11)]\n",
    "numList"
   ]
  },
  {
   "cell_type": "markdown",
   "id": "0fe3876c-1ea2-49d0-b080-2f6a34838e30",
   "metadata": {},
   "source": [
    "List comprehension in for loops where you start the the action after for x in some_variable"
   ]
  },
  {
   "cell_type": "code",
   "execution_count": 7,
   "id": "8a1bdddb-acd5-4151-96db-3a7dd607216e",
   "metadata": {},
   "outputs": [
    {
     "data": {
      "text/plain": [
       "[1, 4, 9, 16, 25, 36, 49, 64, 81, 100]"
      ]
     },
     "execution_count": 7,
     "metadata": {},
     "output_type": "execute_result"
    }
   ],
   "source": [
    "someList = list(range(1,11))\n",
    "squaredList = [num ** 2 for num in someList] # Squars the item in the list before returning\n",
    "squaredList"
   ]
  },
  {
   "cell_type": "markdown",
   "id": "b60b86bf-8daf-455c-9449-e99a59be5fea",
   "metadata": {},
   "source": [
    "List comprehension can also be useful for unpacking strings"
   ]
  },
  {
   "cell_type": "code",
   "execution_count": 8,
   "id": "6d6e589a-3550-4291-b2db-14f9777f0dc0",
   "metadata": {},
   "outputs": [
    {
     "data": {
      "text/plain": [
       "['O', 'o', 'p', 's', 'i', 'e', ' ', 'D', 'o', 'o', 'p', 's', 'i', 'e']"
      ]
     },
     "execution_count": 8,
     "metadata": {},
     "output_type": "execute_result"
    }
   ],
   "source": [
    "strVar = 'Oopsie Doopsie'\n",
    "strList = [letter for letter in strVar]\n",
    "strList"
   ]
  },
  {
   "cell_type": "markdown",
   "id": "db54daa5-f9eb-4584-bd57-c7269d3c5941",
   "metadata": {},
   "source": [
    "Also very useful for unpacking words into a list"
   ]
  },
  {
   "cell_type": "code",
   "execution_count": 11,
   "id": "47ddae91-93fe-417f-8ec9-35033c0e1238",
   "metadata": {},
   "outputs": [
    {
     "data": {
      "text/plain": [
       "['This', 'is', 'an', 'example', 'of', 'a', 'phrase']"
      ]
     },
     "execution_count": 11,
     "metadata": {},
     "output_type": "execute_result"
    }
   ],
   "source": [
    "phraseVar = 'This is an example of a phrase'\n",
    "phraseList = [word for word in phraseVar.split()]\n",
    "phraseList"
   ]
  },
  {
   "cell_type": "markdown",
   "id": "c3690d14-6583-4ab1-9ba1-9efd2188cf16",
   "metadata": {},
   "source": [
    "List comprehension also takes advatnage of filters by using the 'if' keyword"
   ]
  },
  {
   "cell_type": "code",
   "execution_count": 12,
   "id": "11ccd6b0-9ab1-4b4b-a95c-7505e1226017",
   "metadata": {},
   "outputs": [
    {
     "data": {
      "text/plain": [
       "[2, 4, 6, 8, 10, 12, 14, 16, 18, 20]"
      ]
     },
     "execution_count": 12,
     "metadata": {},
     "output_type": "execute_result"
    }
   ],
   "source": [
    "numList = list(range(1,21))\n",
    "evenList = [num for num in numList if num % 2 == 0]\n",
    "evenList"
   ]
  },
  {
   "cell_type": "markdown",
   "id": "77eb311b-5670-4837-a5af-0d42c63c830b",
   "metadata": {},
   "source": [
    "This can be used to compile a list of numbers that have a specific attribute like being divisible by 5"
   ]
  },
  {
   "cell_type": "code",
   "execution_count": 23,
   "id": "39517d4e-aa59-4dcf-8b00-45ed43b720b1",
   "metadata": {},
   "outputs": [
    {
     "data": {
      "text/plain": [
       "[5, 10, 15, 20, 25, 30, 35, 40, 45]"
      ]
     },
     "execution_count": 23,
     "metadata": {},
     "output_type": "execute_result"
    }
   ],
   "source": [
    "numList = [num for num in range(1,50) if num % 5 == 0]\n",
    "numList"
   ]
  },
  {
   "cell_type": "markdown",
   "id": "a9761784-8093-4eac-aca6-e5dcd1c0f708",
   "metadata": {},
   "source": [
    "It can be used to clean up text as well from both strings of letter or words before returning them to a list"
   ]
  },
  {
   "cell_type": "code",
   "execution_count": 25,
   "id": "128f9c21-dbee-4508-ac4d-4396425c3fd3",
   "metadata": {},
   "outputs": [
    {
     "data": {
      "text/plain": [
       "['H', 'e', 'l', 'l', 'o']"
      ]
     },
     "execution_count": 25,
     "metadata": {},
     "output_type": "execute_result"
    }
   ],
   "source": [
    "messyVar = 'H.e.l.l.o.'\n",
    "cleanList = [letter for letter in messyVar if letter.isalpha() == True]\n",
    "cleanList"
   ]
  },
  {
   "cell_type": "code",
   "execution_count": 28,
   "id": "fa094ca5-5ca5-4b65-990f-be4fbeb19448",
   "metadata": {},
   "outputs": [
    {
     "data": {
      "text/plain": [
       "['This', 'is', 'an', 'example', 'of', 'a', 'messy', 'phrase']"
      ]
     },
     "execution_count": 28,
     "metadata": {},
     "output_type": "execute_result"
    }
   ],
   "source": [
    "messyPhrase = 'This ! is an , example @ of a messy $ phrase'\n",
    "cleanPhrase = [word for word in messyPhrase.split() if word.isalpha()]\n",
    "cleanPhrase"
   ]
  },
  {
   "cell_type": "markdown",
   "id": "d7456dd5-87b7-4fa6-bae7-1c1ab0947c13",
   "metadata": {},
   "source": [
    "Though it is not common if/else can be used in list comprehension"
   ]
  },
  {
   "cell_type": "code",
   "execution_count": 36,
   "id": "758265c6-e13b-4bfa-b41f-ff8e68fbfdd6",
   "metadata": {},
   "outputs": [
    {
     "data": {
      "text/plain": [
       "['ODD', 2, 'ODD', 4, 'ODD', 6, 'ODD', 8, 'ODD', 10]"
      ]
     },
     "execution_count": 36,
     "metadata": {},
     "output_type": "execute_result"
    }
   ],
   "source": [
    "numList = [num if num % 2 == 0 else 'ODD' for num in range(1,11)]\n",
    "numList"
   ]
  },
  {
   "cell_type": "markdown",
   "id": "4742b1d4-e01e-412c-92fa-969ecaf38247",
   "metadata": {},
   "source": [
    "List comphrension has two other really cool properties"
   ]
  },
  {
   "cell_type": "markdown",
   "id": "113f658a-1b8e-4717-9771-b7a521f394b9",
   "metadata": {},
   "source": [
    "First is nested ifs"
   ]
  },
  {
   "cell_type": "code",
   "execution_count": 38,
   "id": "e8c25a84-a7bd-46ba-9cac-f98854beb6f3",
   "metadata": {},
   "outputs": [
    {
     "data": {
      "text/plain": [
       "[10, 100, 1000, 20, 200, 2000, 30, 300, 3000]"
      ]
     },
     "execution_count": 38,
     "metadata": {},
     "output_type": "execute_result"
    }
   ],
   "source": [
    "xList = [1,2,3]\n",
    "yList = [10,100,1000]\n",
    "\n",
    "numList = [x*y for x in xList for y in yList]\n",
    "numList"
   ]
  },
  {
   "cell_type": "markdown",
   "id": "b1a32c25-e69d-47f9-ad6b-9df5ed00d9c9",
   "metadata": {},
   "source": [
    "Second is unpacking nested lists"
   ]
  },
  {
   "cell_type": "code",
   "execution_count": 40,
   "id": "0206ab5a-47f9-4e36-a054-84dce9801f32",
   "metadata": {},
   "outputs": [
    {
     "data": {
      "text/plain": [
       "[1, 2, 3, 4, 5, 6]"
      ]
     },
     "execution_count": 40,
     "metadata": {},
     "output_type": "execute_result"
    }
   ],
   "source": [
    "nestedList = [[1,2],[3,4],[5,6]]\n",
    "flatList = [num for row in nestedList for num in row]\n",
    "flatList"
   ]
  },
  {
   "cell_type": "markdown",
   "id": "a8504c36-383a-480c-bdd0-6f70251cb898",
   "metadata": {},
   "source": [
    "There is another application in which words that start with a specific letter are put into a new list"
   ]
  },
  {
   "cell_type": "code",
   "execution_count": 1,
   "id": "9eed5657-7706-4148-b26b-180b31fddd4b",
   "metadata": {},
   "outputs": [
    {
     "data": {
      "text/plain": [
       "['are', 'apples', 'an', 'adventurous']"
      ]
     },
     "execution_count": 1,
     "metadata": {},
     "output_type": "execute_result"
    }
   ],
   "source": [
    "phraseVar = 'are apples an adventurous fruit?'\n",
    "curatedList = [word for word in phraseVar.split() if word.startswith('a') == True]\n",
    "curatedList"
   ]
  },
  {
   "cell_type": "markdown",
   "id": "632dcbcb-fb89-4cc5-bcbb-b452fab20460",
   "metadata": {},
   "source": [
    "Here is another use case if you wanted to grab the first letter of a word and put it in a list"
   ]
  },
  {
   "cell_type": "code",
   "execution_count": 3,
   "id": "f7973b34-3a68-42a3-8999-18dae236a6cc",
   "metadata": {},
   "outputs": [
    {
     "data": {
      "text/plain": [
       "['T', 'i', 'a', 'e', 'o', 'a', 'l', 's', 'w', 'a', 'g', 't', 'u']"
      ]
     },
     "execution_count": 3,
     "metadata": {},
     "output_type": "execute_result"
    }
   ],
   "source": [
    "phraseVar = 'This is an example of a long sentence we are going to use'\n",
    "curatedList = [word[0] for word in phraseVar.split()]\n",
    "curatedList"
   ]
  },
  {
   "cell_type": "code",
   "execution_count": null,
   "id": "5098fb84-b167-43e4-b444-bcf821824cca",
   "metadata": {},
   "outputs": [],
   "source": []
  }
 ],
 "metadata": {
  "kernelspec": {
   "display_name": "Python 3 (ipykernel)",
   "language": "python",
   "name": "python3"
  },
  "language_info": {
   "codemirror_mode": {
    "name": "ipython",
    "version": 3
   },
   "file_extension": ".py",
   "mimetype": "text/x-python",
   "name": "python",
   "nbconvert_exporter": "python",
   "pygments_lexer": "ipython3",
   "version": "3.9.6"
  }
 },
 "nbformat": 4,
 "nbformat_minor": 5
}
