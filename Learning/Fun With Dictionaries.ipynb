{
 "cells": [
  {
   "cell_type": "markdown",
   "id": "f97c11ed-2114-4f62-9c9f-8920f0d79e2b",
   "metadata": {},
   "source": [
    "Dictionaries are stored as key : value pairs"
   ]
  },
  {
   "cell_type": "markdown",
   "id": "39dec1f5-bf35-4203-85d8-a2343ef26be0",
   "metadata": {},
   "source": [
    "Dictionaries are mutable"
   ]
  },
  {
   "cell_type": "code",
   "execution_count": 2,
   "id": "8d595b5a-0cd5-4871-9ae9-5d254e76b8f9",
   "metadata": {},
   "outputs": [],
   "source": [
    "newDict = {'Position':1}"
   ]
  },
  {
   "cell_type": "code",
   "execution_count": 3,
   "id": "5aa467e5-f05f-4caa-ab83-7a4ac15b8a92",
   "metadata": {},
   "outputs": [
    {
     "data": {
      "text/plain": [
       "{'Position': 1}"
      ]
     },
     "execution_count": 3,
     "metadata": {},
     "output_type": "execute_result"
    }
   ],
   "source": [
    "newDict"
   ]
  },
  {
   "cell_type": "code",
   "execution_count": 4,
   "id": "b1a55aaf-f13a-4d58-af72-1516d1755fb4",
   "metadata": {},
   "outputs": [],
   "source": [
    "newDict['Position'] = 2"
   ]
  },
  {
   "cell_type": "code",
   "execution_count": 5,
   "id": "eb9e68bd-70d6-41ac-95c7-9e2f015e44c4",
   "metadata": {},
   "outputs": [
    {
     "data": {
      "text/plain": [
       "{'Position': 2}"
      ]
     },
     "execution_count": 5,
     "metadata": {},
     "output_type": "execute_result"
    }
   ],
   "source": [
    "newDict"
   ]
  },
  {
   "cell_type": "markdown",
   "id": "eb747459-47c3-418f-b9c2-b23ccb75fd2b",
   "metadata": {},
   "source": [
    "You can add to dictionaries by creating a new key and assign a value"
   ]
  },
  {
   "cell_type": "code",
   "execution_count": 6,
   "id": "22f173e2-a65f-45a8-b649-39d3828e45e1",
   "metadata": {},
   "outputs": [],
   "source": [
    "newDict['Car'] = 'Honda'"
   ]
  },
  {
   "cell_type": "code",
   "execution_count": 7,
   "id": "4a91da28-8cc0-4bf2-b8fb-ceeb0b2a6714",
   "metadata": {},
   "outputs": [
    {
     "data": {
      "text/plain": [
       "{'Position': 2, 'Car': 'Honda'}"
      ]
     },
     "execution_count": 7,
     "metadata": {},
     "output_type": "execute_result"
    }
   ],
   "source": [
    "newDict"
   ]
  },
  {
   "cell_type": "markdown",
   "id": "36fdd26a-85fa-41bb-ab02-d0a51c6b723d",
   "metadata": {},
   "source": [
    "Dictionaries have no index and maintain nor particular order"
   ]
  },
  {
   "cell_type": "markdown",
   "id": "c1abb6ec-c358-4813-84f3-67e81dd30fd5",
   "metadata": {},
   "source": [
    "You can call the values of a dictionary using the values() method"
   ]
  },
  {
   "cell_type": "code",
   "execution_count": 8,
   "id": "8f265846-2ba5-4987-9b31-17722a270d73",
   "metadata": {},
   "outputs": [
    {
     "data": {
      "text/plain": [
       "dict_values([2, 'Honda'])"
      ]
     },
     "execution_count": 8,
     "metadata": {},
     "output_type": "execute_result"
    }
   ],
   "source": [
    "newDict.values()"
   ]
  },
  {
   "cell_type": "markdown",
   "id": "3ed4050a-5064-47be-80e7-1ef7d70fa9a7",
   "metadata": {},
   "source": [
    "Similarly you can review the keys by using the keys() method"
   ]
  },
  {
   "cell_type": "code",
   "execution_count": 9,
   "id": "06f63d9a-159b-49fe-b87c-99a5819b5768",
   "metadata": {},
   "outputs": [
    {
     "data": {
      "text/plain": [
       "dict_keys(['Position', 'Car'])"
      ]
     },
     "execution_count": 9,
     "metadata": {},
     "output_type": "execute_result"
    }
   ],
   "source": [
    "newDict.keys()"
   ]
  },
  {
   "cell_type": "markdown",
   "id": "939faa3f-e5e1-426d-a546-0d36d606c25d",
   "metadata": {},
   "source": [
    "A key's value can be updated by using the update() method"
   ]
  },
  {
   "cell_type": "code",
   "execution_count": 10,
   "id": "3a1576f3-127c-46f9-933f-e1d80c65af9f",
   "metadata": {},
   "outputs": [],
   "source": [
    "newDict.update({'Position':5})"
   ]
  },
  {
   "cell_type": "code",
   "execution_count": 11,
   "id": "e27040cd-7d0f-4dfa-9c0b-a53a3fe1e067",
   "metadata": {},
   "outputs": [
    {
     "data": {
      "text/plain": [
       "{'Position': 5, 'Car': 'Honda'}"
      ]
     },
     "execution_count": 11,
     "metadata": {},
     "output_type": "execute_result"
    }
   ],
   "source": [
    "newDict"
   ]
  },
  {
   "cell_type": "markdown",
   "id": "dd21be10-8687-4d44-a6c9-d3f896024fed",
   "metadata": {},
   "source": [
    "There are two ways to get the values from a key "
   ]
  },
  {
   "cell_type": "code",
   "execution_count": 12,
   "id": "555c4df2-d513-44ba-846a-048d2a4df6e4",
   "metadata": {},
   "outputs": [
    {
     "data": {
      "text/plain": [
       "5"
      ]
     },
     "execution_count": 12,
     "metadata": {},
     "output_type": "execute_result"
    }
   ],
   "source": [
    "newDict.get('Position')"
   ]
  },
  {
   "cell_type": "code",
   "execution_count": 13,
   "id": "94b9e86d-4e34-4b5a-a164-5f5e1e37682c",
   "metadata": {},
   "outputs": [
    {
     "data": {
      "text/plain": [
       "5"
      ]
     },
     "execution_count": 13,
     "metadata": {},
     "output_type": "execute_result"
    }
   ],
   "source": [
    "newDict['Position']"
   ]
  },
  {
   "cell_type": "markdown",
   "id": "dc9c7d8d-d773-43ef-b768-187363ebfde6",
   "metadata": {},
   "source": [
    "Similar to lists the pop() method will remove an item, however it's key must be called"
   ]
  },
  {
   "cell_type": "code",
   "execution_count": 14,
   "id": "fc23ec57-9cd8-4e03-96e7-318bd9704664",
   "metadata": {},
   "outputs": [
    {
     "data": {
      "text/plain": [
       "'Honda'"
      ]
     },
     "execution_count": 14,
     "metadata": {},
     "output_type": "execute_result"
    }
   ],
   "source": [
    "newDict.pop('Car')"
   ]
  },
  {
   "cell_type": "code",
   "execution_count": 15,
   "id": "323e7e42-2cba-4d4f-a6cf-1d1fd4df82c0",
   "metadata": {},
   "outputs": [
    {
     "data": {
      "text/plain": [
       "{'Position': 5}"
      ]
     },
     "execution_count": 15,
     "metadata": {},
     "output_type": "execute_result"
    }
   ],
   "source": [
    "newDict"
   ]
  },
  {
   "cell_type": "code",
   "execution_count": 16,
   "id": "fff9eec0-d064-4275-b58f-1116a2b68179",
   "metadata": {},
   "outputs": [],
   "source": [
    "newDict['Car'] = 'Mercedes'"
   ]
  },
  {
   "cell_type": "code",
   "execution_count": 17,
   "id": "707ba285-596f-4618-b94f-aece977dda53",
   "metadata": {},
   "outputs": [
    {
     "data": {
      "text/plain": [
       "{'Position': 5, 'Car': 'Mercedes'}"
      ]
     },
     "execution_count": 17,
     "metadata": {},
     "output_type": "execute_result"
    }
   ],
   "source": [
    "newDict"
   ]
  },
  {
   "cell_type": "markdown",
   "id": "d6cedfb9-41b6-4ea6-b96d-a6f08ed29400",
   "metadata": {},
   "source": [
    "To pop an item without calling the key use popitem() which will remove the last item in the dictionary"
   ]
  },
  {
   "cell_type": "code",
   "execution_count": 18,
   "id": "f02a56eb-ed4b-439a-9424-168d2af3a29c",
   "metadata": {},
   "outputs": [
    {
     "data": {
      "text/plain": [
       "('Car', 'Mercedes')"
      ]
     },
     "execution_count": 18,
     "metadata": {},
     "output_type": "execute_result"
    }
   ],
   "source": [
    "newDict.popitem()"
   ]
  },
  {
   "cell_type": "markdown",
   "id": "be047ad5-d032-400e-9821-996caf2879d7",
   "metadata": {},
   "source": [
    "The result is a tuple"
   ]
  },
  {
   "cell_type": "code",
   "execution_count": 19,
   "id": "7deb14e2-0607-47a7-9876-cd7a7c5e6fbc",
   "metadata": {},
   "outputs": [],
   "source": [
    "newDict['Car'] = 'Toyota'\n",
    "newDict['Shoe'] = 'Nike'"
   ]
  },
  {
   "cell_type": "code",
   "execution_count": 20,
   "id": "d722392e-bd24-44a1-bccf-2358a4a99b89",
   "metadata": {},
   "outputs": [
    {
     "data": {
      "text/plain": [
       "{'Position': 5, 'Car': 'Toyota', 'Shoe': 'Nike'}"
      ]
     },
     "execution_count": 20,
     "metadata": {},
     "output_type": "execute_result"
    }
   ],
   "source": [
    "newDict"
   ]
  },
  {
   "cell_type": "code",
   "execution_count": 21,
   "id": "dba3425f-55af-48e3-ba6b-81e35178c463",
   "metadata": {},
   "outputs": [],
   "source": [
    "newTuple = newDict.popitem()"
   ]
  },
  {
   "cell_type": "code",
   "execution_count": 22,
   "id": "1b842d8c-8d23-4ca5-9030-a6b6cb02efb2",
   "metadata": {},
   "outputs": [
    {
     "data": {
      "text/plain": [
       "('Shoe', 'Nike')"
      ]
     },
     "execution_count": 22,
     "metadata": {},
     "output_type": "execute_result"
    }
   ],
   "source": [
    "newTuple"
   ]
  },
  {
   "cell_type": "markdown",
   "id": "bdfac5d9-a3f1-4c00-8426-1a4d93ee3eff",
   "metadata": {},
   "source": [
    "Dictionaries can have multiple values per key"
   ]
  },
  {
   "cell_type": "code",
   "execution_count": 56,
   "id": "89869785-ea40-46e7-8b22-a91641c9050d",
   "metadata": {},
   "outputs": [],
   "source": [
    "cities = {'Texas':['Corpus Christi','San Antonio','Dallas']}"
   ]
  },
  {
   "cell_type": "code",
   "execution_count": 57,
   "id": "2b033bc9-c3cb-454d-8892-5404a7674a6e",
   "metadata": {},
   "outputs": [
    {
     "data": {
      "text/plain": [
       "{'Texas': ['Corpus Christi', 'San Antonio', 'Dallas']}"
      ]
     },
     "execution_count": 57,
     "metadata": {},
     "output_type": "execute_result"
    }
   ],
   "source": [
    "cities"
   ]
  },
  {
   "cell_type": "markdown",
   "id": "ff5526c3-6e21-42a2-abd0-27fef6802f31",
   "metadata": {},
   "source": [
    "The value can then be called by it's index"
   ]
  },
  {
   "cell_type": "code",
   "execution_count": 60,
   "id": "12169590-6e6b-4fd8-a656-865992d0e3e8",
   "metadata": {},
   "outputs": [
    {
     "data": {
      "text/plain": [
       "'Corpus Christi'"
      ]
     },
     "execution_count": 60,
     "metadata": {},
     "output_type": "execute_result"
    }
   ],
   "source": [
    "cities['Texas'][0]"
   ]
  },
  {
   "cell_type": "code",
   "execution_count": 61,
   "id": "ff7c6469-5cc8-4a29-ab54-aaee17341ada",
   "metadata": {},
   "outputs": [
    {
     "data": {
      "text/plain": [
       "'San Antonio'"
      ]
     },
     "execution_count": 61,
     "metadata": {},
     "output_type": "execute_result"
    }
   ],
   "source": [
    "cities['Texas'][1]"
   ]
  }
 ],
 "metadata": {
  "kernelspec": {
   "display_name": "Python 3 (ipykernel)",
   "language": "python",
   "name": "python3"
  },
  "language_info": {
   "codemirror_mode": {
    "name": "ipython",
    "version": 3
   },
   "file_extension": ".py",
   "mimetype": "text/x-python",
   "name": "python",
   "nbconvert_exporter": "python",
   "pygments_lexer": "ipython3",
   "version": "3.9.6"
  }
 },
 "nbformat": 4,
 "nbformat_minor": 5
}
