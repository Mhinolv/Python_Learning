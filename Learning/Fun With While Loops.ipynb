{
 "cells": [
  {
   "cell_type": "markdown",
   "id": "ae884ed5-fe6b-42bc-b8c8-08e27b570164",
   "metadata": {},
   "source": [
    "While loops check for conditions to be met. An example is being hungry. When you are hungry you eat. The condition is being hungry. When you are no longer hungry, you aren't going to eat anymore. Unless you are me, and unless it is pizza."
   ]
  },
  {
   "cell_type": "code",
   "execution_count": 2,
   "id": "22199603-7778-4608-b03b-a78a0821c767",
   "metadata": {},
   "outputs": [
    {
     "name": "stdout",
     "output_type": "stream",
     "text": [
      "0\n",
      "1\n",
      "2\n",
      "3\n",
      "4\n"
     ]
    }
   ],
   "source": [
    "x = 0\n",
    "while x < 5: # The condition is being less than five\n",
    "    print(x)\n",
    "    x += 1 # Shortcut to increment the variable by one"
   ]
  },
  {
   "cell_type": "markdown",
   "id": "8c474949-18c6-4735-9073-12e6a62d7df3",
   "metadata": {},
   "source": [
    "Notice that the numbers stopped at 4 which is the number just before the condition is met, when the condition is met the subsequent statements no longer run"
   ]
  },
  {
   "cell_type": "markdown",
   "id": "1c3cfd3c-5d9b-483d-ba3d-9b3d4af45e7a",
   "metadata": {},
   "source": [
    "Conditions can be anything"
   ]
  },
  {
   "cell_type": "code",
   "execution_count": 8,
   "id": "d21d9115-ce6b-4349-83d2-6200b4dcac7e",
   "metadata": {},
   "outputs": [
    {
     "data": {
      "text/plain": [
       "[1, 2, 3, 4, 5, 6, 7, 8, 9]"
      ]
     },
     "execution_count": 8,
     "metadata": {},
     "output_type": "execute_result"
    }
   ],
   "source": [
    "numList = []\n",
    "for nums in range(1,10):\n",
    "    numList.append(nums)\n",
    "numList"
   ]
  },
  {
   "cell_type": "code",
   "execution_count": 12,
   "id": "8cb8c379-f872-4398-8248-a68855e9ff10",
   "metadata": {},
   "outputs": [
    {
     "name": "stdout",
     "output_type": "stream",
     "text": [
      "1\n",
      "2\n",
      "3\n",
      "4\n",
      "5\n",
      "The loop broke early\n"
     ]
    }
   ],
   "source": [
    "for nums in numList:\n",
    "    print(nums)\n",
    "    if nums == 5:\n",
    "        break # Break stops the loop at the top most enclosure\n",
    "print('The loop broke early')"
   ]
  },
  {
   "cell_type": "code",
   "execution_count": 13,
   "id": "4883adb5-d590-41e8-951e-1367fd779275",
   "metadata": {},
   "outputs": [
    {
     "name": "stdout",
     "output_type": "stream",
     "text": [
      "1\n",
      "3\n",
      "5\n",
      "7\n",
      "9\n"
     ]
    }
   ],
   "source": [
    "for nums in numList:\n",
    "    if nums % 2 == 0:\n",
    "        continue # Continue will skip to the top most enclosure\n",
    "    print(nums)"
   ]
  },
  {
   "cell_type": "code",
   "execution_count": 16,
   "id": "14ec2240-fb66-46b5-b417-37c9bfc0b9d9",
   "metadata": {},
   "outputs": [
    {
     "name": "stdin",
     "output_type": "stream",
     "text": [
      "Y or N? N\n",
      "Y or N? N\n",
      "Y or N? Y\n"
     ]
    }
   ],
   "source": [
    "answer = str()\n",
    "while answer != 'Y': # This is awaiting a specific string and will loop through the input until statisfied\n",
    "    answer = input('Y or N?')"
   ]
  },
  {
   "cell_type": "markdown",
   "id": "889a51ce-128c-46e2-8626-487994e969ba",
   "metadata": {},
   "source": [
    "There is one more keyboard called pass that is used as a placeholder as it quite literally does nothing."
   ]
  },
  {
   "cell_type": "code",
   "execution_count": 20,
   "id": "5652b934-c55a-4acc-990d-cb64f268b53d",
   "metadata": {},
   "outputs": [],
   "source": [
    "num = 0\n",
    "while num < 5:\n",
    "    pass # Apparently programmers do this when they want to fill the actions out later\n",
    "    num += 5"
   ]
  },
  {
   "cell_type": "markdown",
   "id": "fa9c743e-aa19-4e9a-9f60-2f27af8e99d6",
   "metadata": {},
   "source": [
    "While can be used to iterate through a list in fun ways too"
   ]
  },
  {
   "cell_type": "code",
   "execution_count": 26,
   "id": "6298305d-02ca-40b7-bbdc-299e71047867",
   "metadata": {},
   "outputs": [],
   "source": [
    "numList = []\n",
    "for nums in range(1,10):\n",
    "    numList.append(nums)"
   ]
  },
  {
   "cell_type": "code",
   "execution_count": 27,
   "id": "620abe4e-a0f0-48a3-8a34-3c5866b33d32",
   "metadata": {},
   "outputs": [
    {
     "name": "stdout",
     "output_type": "stream",
     "text": [
      "there are 9 items left in the list\n",
      "there are 8 items left in the list\n",
      "there are 7 items left in the list\n",
      "there are 6 items left in the list\n",
      "there are 5 items left in the list\n",
      "there are 4 items left in the list\n",
      "there are 3 items left in the list\n",
      "there are 2 items left in the list\n",
      "there are 1 items left in the list\n",
      "there are 0 items left in the list\n"
     ]
    }
   ],
   "source": [
    "while len(numList) != 0:\n",
    "    print(f'there are {len(numList)} items left in the list')\n",
    "    numList.pop()\n",
    "print(f'there are {len(numList)} items left in the list')"
   ]
  },
  {
   "cell_type": "markdown",
   "id": "ecf268de-0dd6-4717-b6d2-9471092013d8",
   "metadata": {},
   "source": [
    "The inverse can be true as well for adding things to a list"
   ]
  },
  {
   "cell_type": "code",
   "execution_count": 29,
   "id": "679135c9-f337-47d5-8590-52c96cbe39a5",
   "metadata": {},
   "outputs": [
    {
     "name": "stdout",
     "output_type": "stream",
     "text": [
      "1\n",
      "2\n",
      "3\n",
      "4\n",
      "5\n",
      "6\n",
      "7\n",
      "8\n",
      "9\n",
      "10\n"
     ]
    }
   ],
   "source": [
    "counter = 0\n",
    "numList = []\n",
    "\n",
    "while len(numList) != 10:\n",
    "    counter += 1\n",
    "    numList.append(counter)\n",
    "    print(len(numList))"
   ]
  },
  {
   "cell_type": "markdown",
   "id": "06c735d2-24f4-41d8-8aa4-4cec58c31cfa",
   "metadata": {},
   "source": [
    "A similar thing can be done with strings"
   ]
  },
  {
   "cell_type": "code",
   "execution_count": 3,
   "id": "0afa4ae7-e03d-4484-ac7a-08f6e6e009b5",
   "metadata": {},
   "outputs": [
    {
     "name": "stdout",
     "output_type": "stream",
     "text": [
      "Hello\n",
      "Helloo\n",
      "Hellooo\n",
      "Helloooo\n",
      "Hellooooo\n",
      "Helloooooo\n",
      "Hellooooooo\n",
      "Helloooooooo\n",
      "Hellooooooooo\n",
      "Helloooooooooo\n",
      "Hellooooooooooo\n",
      "Helloooooooooooo\n",
      "Hellooooooooooooo\n",
      "Helloooooooooooooo\n",
      "Hellooooooooooooooo\n",
      "Nevermind\n"
     ]
    }
   ],
   "source": [
    "strVar = 'Hello'\n",
    "while len(strVar) != 20:\n",
    "    print(strVar)\n",
    "    strVar = strVar + 'o'\n",
    "print('Nevermind')"
   ]
  },
  {
   "cell_type": "code",
   "execution_count": null,
   "id": "4d41078c-0653-4c8d-800a-4da38954eba4",
   "metadata": {},
   "outputs": [],
   "source": []
  }
 ],
 "metadata": {
  "kernelspec": {
   "display_name": "Python 3 (ipykernel)",
   "language": "python",
   "name": "python3"
  },
  "language_info": {
   "codemirror_mode": {
    "name": "ipython",
    "version": 3
   },
   "file_extension": ".py",
   "mimetype": "text/x-python",
   "name": "python",
   "nbconvert_exporter": "python",
   "pygments_lexer": "ipython3",
   "version": "3.9.6"
  }
 },
 "nbformat": 4,
 "nbformat_minor": 5
}
