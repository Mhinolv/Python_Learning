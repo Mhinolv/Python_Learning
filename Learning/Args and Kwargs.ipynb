{
 "cells": [
  {
   "cell_type": "markdown",
   "id": "abca8c2c-f473-4de9-a9d6-424e221b3693",
   "metadata": {},
   "source": [
    "The normal function takes in positional arguments like what we see below"
   ]
  },
  {
   "cell_type": "code",
   "execution_count": 1,
   "id": "c2ccdf05-0b6e-43ba-bdfb-0b0c80d18682",
   "metadata": {},
   "outputs": [],
   "source": [
    "def myfunc(a,b):\n",
    "    return sum((a,b)) * .05"
   ]
  },
  {
   "cell_type": "code",
   "execution_count": 2,
   "id": "29bba085-5021-441f-86eb-c32f2f5e9b90",
   "metadata": {},
   "outputs": [
    {
     "data": {
      "text/plain": [
       "5.0"
      ]
     },
     "execution_count": 2,
     "metadata": {},
     "output_type": "execute_result"
    }
   ],
   "source": [
    "myfunc(40,60)"
   ]
  },
  {
   "cell_type": "markdown",
   "id": "526c4c84-eec9-4ea2-8aec-f70048061c9b",
   "metadata": {},
   "source": [
    "## *args"
   ]
  },
  {
   "cell_type": "markdown",
   "id": "0c9b503b-7a17-451e-ac22-a06a86f02c17",
   "metadata": {},
   "source": [
    "If you want to accept arguments but don't know the number of arguments you can use *args"
   ]
  },
  {
   "cell_type": "code",
   "execution_count": 5,
   "id": "8cc9b3ce-65d6-464c-aaab-8650185a7925",
   "metadata": {},
   "outputs": [],
   "source": [
    "def myfunc(*args):\n",
    "    return sum(args) * .05 # The args is actually a tuple"
   ]
  },
  {
   "cell_type": "code",
   "execution_count": 4,
   "id": "ead39b3b-61ea-49b3-9db4-c3fd2d4d92dc",
   "metadata": {},
   "outputs": [
    {
     "data": {
      "text/plain": [
       "1.05"
      ]
     },
     "execution_count": 4,
     "metadata": {},
     "output_type": "execute_result"
    }
   ],
   "source": [
    "myfunc(1,2,3,4,5,6)"
   ]
  },
  {
   "cell_type": "markdown",
   "id": "9e16be60-1a47-4058-a0b9-b0f7b864f4f9",
   "metadata": {},
   "source": [
    "Let's look at the output more closely"
   ]
  },
  {
   "cell_type": "code",
   "execution_count": 6,
   "id": "f96ab27a-c418-4a10-b82d-fd6a9cafd67e",
   "metadata": {},
   "outputs": [],
   "source": [
    "def myfunc(*args):\n",
    "    print(args)\n",
    "    \n",
    "    for idx, value in enumerate(args):\n",
    "        print(idx, value)"
   ]
  },
  {
   "cell_type": "code",
   "execution_count": 7,
   "id": "4d4399fa-0ec9-4481-9945-ccb5c78bd68a",
   "metadata": {},
   "outputs": [
    {
     "name": "stdout",
     "output_type": "stream",
     "text": [
      "(1, 2, 3, 4, 5, 6, 7)\n",
      "0 1\n",
      "1 2\n",
      "2 3\n",
      "3 4\n",
      "4 5\n",
      "5 6\n",
      "6 7\n"
     ]
    }
   ],
   "source": [
    "myfunc(1,2,3,4,5,6,7)"
   ]
  },
  {
   "cell_type": "markdown",
   "id": "8faac37a-9c86-46de-a773-a28fdba2e5dd",
   "metadata": {},
   "source": [
    "We can see from this example that the return of *args is a tuple and that the tuple can be enumerated"
   ]
  },
  {
   "cell_type": "markdown",
   "id": "f1f0a622-e9f2-4415-bc6d-e32c339583b7",
   "metadata": {},
   "source": [
    "Though we used *args for the arguments, it is a variable alias that can be changed. Let's use 'spam' as an example."
   ]
  },
  {
   "cell_type": "code",
   "execution_count": 8,
   "id": "3348f124-5651-416d-a2f5-7f010ab9bb4a",
   "metadata": {},
   "outputs": [],
   "source": [
    "def myfunc(*spam):\n",
    "    return sum(spam) * .05"
   ]
  },
  {
   "cell_type": "code",
   "execution_count": 9,
   "id": "7a9dc1e3-b6b5-4bc4-96bd-0fe03419290c",
   "metadata": {},
   "outputs": [
    {
     "data": {
      "text/plain": [
       "0.30000000000000004"
      ]
     },
     "execution_count": 9,
     "metadata": {},
     "output_type": "execute_result"
    }
   ],
   "source": [
    "myfunc(1,2,3)"
   ]
  },
  {
   "cell_type": "markdown",
   "id": "2d312a60-5cdd-427a-a217-33bcabeb4115",
   "metadata": {},
   "source": [
    "It is best practice to use *args however"
   ]
  },
  {
   "cell_type": "markdown",
   "id": "f90951eb-ac29-4f3e-b49f-5afb57f55370",
   "metadata": {},
   "source": [
    "## **kwargs"
   ]
  },
  {
   "cell_type": "markdown",
   "id": "3c53086e-6adc-4dbe-883b-8da06242c2ff",
   "metadata": {},
   "source": [
    "Using **kwargs is similar to *args but for keywords arguments"
   ]
  },
  {
   "cell_type": "code",
   "execution_count": 11,
   "id": "c18a94c7-d73f-4074-923f-abed3dcc4f84",
   "metadata": {},
   "outputs": [],
   "source": [
    "def myfunc(**kwargs):\n",
    "    if 'fruit' in kwargs:\n",
    "        print(f\"My fruit of choice is {kwargs['fruit']}\")\n",
    "    else:\n",
    "        print('I did not find any fruit here')"
   ]
  },
  {
   "cell_type": "code",
   "execution_count": 12,
   "id": "9636d55e-ef84-44ac-b37c-3e6d601d9fb1",
   "metadata": {},
   "outputs": [
    {
     "name": "stdout",
     "output_type": "stream",
     "text": [
      "My fruit of choice is apple\n"
     ]
    }
   ],
   "source": [
    "myfunc(fruit='apple')"
   ]
  },
  {
   "cell_type": "markdown",
   "id": "348faeb1-b6f9-43b4-972a-8bf48dd1ba86",
   "metadata": {},
   "source": [
    "**kwargs creates a dictionary from the arguments"
   ]
  },
  {
   "cell_type": "code",
   "execution_count": 43,
   "id": "2248a1cc-7699-4757-837d-438e292f0d03",
   "metadata": {},
   "outputs": [],
   "source": [
    "def myfunc(**kwargs):\n",
    "    print(kwargs)\n",
    "\n",
    "    for row in kwargs:\n",
    "        print(row, kwargs[row])"
   ]
  },
  {
   "cell_type": "code",
   "execution_count": 44,
   "id": "b5e98dca-72bf-4b7f-906b-661642bd8e2a",
   "metadata": {},
   "outputs": [
    {
     "name": "stdout",
     "output_type": "stream",
     "text": [
      "{'k1': 'apple', 'k2': 'banana'}\n",
      "k1 apple\n",
      "k2 banana\n"
     ]
    }
   ],
   "source": [
    "myfunc(k1='apple',k2='banana')"
   ]
  },
  {
   "cell_type": "code",
   "execution_count": 45,
   "id": "2a68908a-26f2-4cd6-aa20-a05314b1a70e",
   "metadata": {},
   "outputs": [
    {
     "name": "stdout",
     "output_type": "stream",
     "text": [
      "{'fruit': 'apple', 'veggie': 'lettuce'}\n",
      "fruit apple\n",
      "veggie lettuce\n"
     ]
    }
   ],
   "source": [
    "myfunc(fruit='apple', veggie ='lettuce')"
   ]
  },
  {
   "cell_type": "markdown",
   "id": "2b589aad-3c32-402b-9ba0-777d1dd9145d",
   "metadata": {},
   "source": [
    "Similar to *args the **kwargs is an alias that can be changed but best practice is to use **kwargs"
   ]
  },
  {
   "cell_type": "markdown",
   "id": "31b096d5-be63-4fab-9c48-3f91f0d51443",
   "metadata": {},
   "source": [
    "*args and **kwargs can be used together"
   ]
  },
  {
   "cell_type": "code",
   "execution_count": 46,
   "id": "51a6b635-2dd9-400b-9480-80fb16657d08",
   "metadata": {},
   "outputs": [],
   "source": [
    "def myfunc(*args, **kwargs):\n",
    "    print(args)\n",
    "    print(kwargs)"
   ]
  },
  {
   "cell_type": "code",
   "execution_count": 47,
   "id": "6ed8356b-79e0-46d4-b6dd-60202c34ab93",
   "metadata": {},
   "outputs": [
    {
     "name": "stdout",
     "output_type": "stream",
     "text": [
      "(1, 2, 3)\n",
      "{'fruit': 'apple', 'veggie': 'carrot'}\n"
     ]
    }
   ],
   "source": [
    "myfunc(1,2,3,fruit='apple',veggie='carrot')"
   ]
  },
  {
   "cell_type": "markdown",
   "id": "5f29f1e0-1082-4553-9d1b-5cfe6a8ea5b0",
   "metadata": {},
   "source": [
    "As long as you adhere to the order of input there will be no issues. The function is expecting positional arguments first and thek keywords arguments after"
   ]
  },
  {
   "cell_type": "code",
   "execution_count": 48,
   "id": "0a50fb7c-35ac-46a4-8953-f032f45b72ac",
   "metadata": {},
   "outputs": [
    {
     "ename": "SyntaxError",
     "evalue": "positional argument follows keyword argument (3097540397.py, line 1)",
     "output_type": "error",
     "traceback": [
      "\u001b[0;36m  Cell \u001b[0;32mIn[48], line 1\u001b[0;36m\u001b[0m\n\u001b[0;31m    myfunc(fruit='apple',veggie='carrot',1,2,3)\u001b[0m\n\u001b[0m                                              ^\u001b[0m\n\u001b[0;31mSyntaxError\u001b[0m\u001b[0;31m:\u001b[0m positional argument follows keyword argument\n"
     ]
    }
   ],
   "source": [
    "myfunc(fruit='apple',veggie='carrot',1,2,3)"
   ]
  },
  {
   "cell_type": "markdown",
   "id": "d52d319b-fac4-45d9-b4b7-5db29571b7f4",
   "metadata": {},
   "source": [
    "This error will appear if you do not follow the correct order"
   ]
  }
 ],
 "metadata": {
  "kernelspec": {
   "display_name": "Python 3 (ipykernel)",
   "language": "python",
   "name": "python3"
  },
  "language_info": {
   "codemirror_mode": {
    "name": "ipython",
    "version": 3
   },
   "file_extension": ".py",
   "mimetype": "text/x-python",
   "name": "python",
   "nbconvert_exporter": "python",
   "pygments_lexer": "ipython3",
   "version": "3.9.6"
  }
 },
 "nbformat": 4,
 "nbformat_minor": 5
}
