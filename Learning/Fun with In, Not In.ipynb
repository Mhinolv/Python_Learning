{
 "cells": [
  {
   "cell_type": "markdown",
   "id": "a3ac457c-9e82-438e-9f50-0e39cdc35e2d",
   "metadata": {},
   "source": [
    "The keywords IN and NOT IN represent checks that occur but that have some cool properties. Similar to a conditional check but operation slightly differrent in that it can be used to check against iterables"
   ]
  },
  {
   "cell_type": "markdown",
   "id": "8cc9e756-3a39-484d-84a1-2dacb210764d",
   "metadata": {},
   "source": [
    "For exmaple I can check if a value exists within a list"
   ]
  },
  {
   "cell_type": "code",
   "execution_count": 2,
   "id": "60227455-302f-4bfe-9769-54e2581ebec6",
   "metadata": {},
   "outputs": [
    {
     "data": {
      "text/plain": [
       "True"
      ]
     },
     "execution_count": 2,
     "metadata": {},
     "output_type": "execute_result"
    }
   ],
   "source": [
    "numVar = [1,2,3]\n",
    "2 in numVar"
   ]
  },
  {
   "cell_type": "markdown",
   "id": "317bd55d-b50e-4d3e-84a2-6ec410282087",
   "metadata": {},
   "source": [
    "Similarly I can check if a character is within a string"
   ]
  },
  {
   "cell_type": "code",
   "execution_count": 3,
   "id": "effc50d3-7b35-4289-ad77-9350682a70a7",
   "metadata": {},
   "outputs": [
    {
     "data": {
      "text/plain": [
       "True"
      ]
     },
     "execution_count": 3,
     "metadata": {},
     "output_type": "execute_result"
    }
   ],
   "source": [
    "strVar = 'Hello'\n",
    "'o' in strVar"
   ]
  },
  {
   "cell_type": "markdown",
   "id": "e3d7870a-2910-4849-b971-0ca011628394",
   "metadata": {},
   "source": [
    "Dicts are also iterable with IN"
   ]
  },
  {
   "cell_type": "code",
   "execution_count": 4,
   "id": "3a7ed63a-c823-46ad-b070-db4d0e49c1ec",
   "metadata": {},
   "outputs": [
    {
     "data": {
      "text/plain": [
       "True"
      ]
     },
     "execution_count": 4,
     "metadata": {},
     "output_type": "execute_result"
    }
   ],
   "source": [
    "newDict = {'k1':1, 'k2':2}\n",
    "'k2' in newDict"
   ]
  },
  {
   "cell_type": "markdown",
   "id": "4a29f2b5-9903-48b5-a839-ebeb1d6fe0c6",
   "metadata": {},
   "source": [
    "But the values can also be iterated though with the use of newDict.values()"
   ]
  },
  {
   "cell_type": "code",
   "execution_count": 5,
   "id": "cb02485e-0ac6-428a-b413-b331e46599e6",
   "metadata": {},
   "outputs": [
    {
     "data": {
      "text/plain": [
       "True"
      ]
     },
     "execution_count": 5,
     "metadata": {},
     "output_type": "execute_result"
    }
   ],
   "source": [
    "newDict = {'k1':1, 'k2':2}\n",
    "2 in newDict.values()"
   ]
  },
  {
   "cell_type": "markdown",
   "id": "34dad6a0-382f-403d-922a-78034ca15fdd",
   "metadata": {},
   "source": [
    "NOT IN does a simiar conditional check for looks for a value to not exist"
   ]
  },
  {
   "cell_type": "code",
   "execution_count": 8,
   "id": "434493cf-b018-466e-bb9a-d19d98a428ff",
   "metadata": {},
   "outputs": [
    {
     "data": {
      "text/plain": [
       "True"
      ]
     },
     "execution_count": 8,
     "metadata": {},
     "output_type": "execute_result"
    }
   ],
   "source": [
    "newList = [1,2,3]\n",
    "4 not in newList"
   ]
  },
  {
   "cell_type": "code",
   "execution_count": 10,
   "id": "19e8f7ce-09b7-4020-b906-98aba0c60e58",
   "metadata": {},
   "outputs": [
    {
     "data": {
      "text/plain": [
       "True"
      ]
     },
     "execution_count": 10,
     "metadata": {},
     "output_type": "execute_result"
    }
   ],
   "source": [
    "strVar = 'Hello'\n",
    "'a' not in strVar"
   ]
  },
  {
   "cell_type": "markdown",
   "id": "5127b1a0-8e72-4277-8c4f-dd62c602607a",
   "metadata": {},
   "source": [
    "A practical example is searching for items that are and are not in a list"
   ]
  },
  {
   "cell_type": "code",
   "execution_count": 20,
   "id": "bf0b5a55-554e-41d8-ad73-2cf1a00576ab",
   "metadata": {},
   "outputs": [
    {
     "data": {
      "text/plain": [
       "True"
      ]
     },
     "execution_count": 20,
     "metadata": {},
     "output_type": "execute_result"
    }
   ],
   "source": [
    "import csv\n",
    "searchTerm = 'bank'\n",
    "placeList = []\n",
    "\n",
    "with open(r'C:\\Users\\mhino\\Documents\\Python_Learning\\Files\\places.csv') as file:\n",
    "    reader = csv.DictReader(file)\n",
    "    for row in reader:\n",
    "        placeList.append(row['place_name'])\n",
    "\n",
    "searchTerm in placeList"
   ]
  },
  {
   "cell_type": "code",
   "execution_count": 19,
   "id": "8655be08-6e1c-4c9f-b630-74a370b7f1d5",
   "metadata": {},
   "outputs": [
    {
     "data": {
      "text/plain": [
       "False"
      ]
     },
     "execution_count": 19,
     "metadata": {},
     "output_type": "execute_result"
    }
   ],
   "source": [
    "import csv\n",
    "searchTerm = 'park'\n",
    "placeList = []\n",
    "\n",
    "with open(r'C:\\Users\\mhino\\Documents\\Python_Learning\\Files\\places.csv') as file:\n",
    "    reader = csv.DictReader(file)\n",
    "    for row in reader:\n",
    "        placeList.append(row['place_name'])\n",
    "\n",
    "searchTerm in placeList"
   ]
  }
 ],
 "metadata": {
  "kernelspec": {
   "display_name": "Python 3 (ipykernel)",
   "language": "python",
   "name": "python3"
  },
  "language_info": {
   "codemirror_mode": {
    "name": "ipython",
    "version": 3
   },
   "file_extension": ".py",
   "mimetype": "text/x-python",
   "name": "python",
   "nbconvert_exporter": "python",
   "pygments_lexer": "ipython3",
   "version": "3.12.5"
  }
 },
 "nbformat": 4,
 "nbformat_minor": 5
}
