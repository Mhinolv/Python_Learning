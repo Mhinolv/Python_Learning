{
 "cells": [
  {
   "cell_type": "markdown",
   "id": "c5da8202-6bca-4c18-90e9-52a1bfee6fb8",
   "metadata": {},
   "source": [
    "Creating a function requires specific syntax and indentation"
   ]
  },
  {
   "cell_type": "markdown",
   "id": "0d5356c0-e2b5-42c6-b3bd-2406d0e538fa",
   "metadata": {},
   "source": [
    "Here is an example of good syntax"
   ]
  },
  {
   "cell_type": "code",
   "execution_count": 5,
   "id": "f6182507-29b4-493a-8b26-2566dd4966a9",
   "metadata": {},
   "outputs": [],
   "source": [
    "def sample_function(name):\n",
    "    '''\n",
    "    This is a doc string that explains what the function does\n",
    "    '''\n",
    "    print('Hello ' + name) # Code to exectute"
   ]
  },
  {
   "cell_type": "code",
   "execution_count": 6,
   "id": "3d076d9f-dba2-4d72-820e-4f0c0a2447b2",
   "metadata": {},
   "outputs": [
    {
     "name": "stdout",
     "output_type": "stream",
     "text": [
      "Hello Mark\n"
     ]
    }
   ],
   "source": [
    "sample_function('Mark')"
   ]
  },
  {
   "cell_type": "code",
   "execution_count": 7,
   "id": "d46a3665-c4b2-4755-a35f-cd5beb5f32df",
   "metadata": {},
   "outputs": [
    {
     "data": {
      "text/plain": [
       "3"
      ]
     },
     "execution_count": 7,
     "metadata": {},
     "output_type": "execute_result"
    }
   ],
   "source": [
    "def add_function(a,b):\n",
    "    return a + b\n",
    "\n",
    "add_function(1,2)"
   ]
  },
  {
   "cell_type": "code",
   "execution_count": 12,
   "id": "90ff8e58-2cc3-424e-9d02-6e42657ffa8e",
   "metadata": {},
   "outputs": [
    {
     "name": "stdout",
     "output_type": "stream",
     "text": [
      "Hello You\n"
     ]
    }
   ],
   "source": [
    "def say_hello(name = 'You'):\n",
    "    print(f'Hello {name}')\n",
    "\n",
    "say_hello()"
   ]
  },
  {
   "cell_type": "code",
   "execution_count": 14,
   "id": "bf5febb5-7ffa-432b-96d9-d21ee4fafa3c",
   "metadata": {},
   "outputs": [
    {
     "data": {
      "text/plain": [
       "3"
      ]
     },
     "execution_count": 14,
     "metadata": {},
     "output_type": "execute_result"
    }
   ],
   "source": [
    "def add_num(num1,num2):\n",
    "    return num1 + num2\n",
    "\n",
    "result = add_num(1,2)\n",
    "result"
   ]
  },
  {
   "cell_type": "code",
   "execution_count": 19,
   "id": "dd588075-f0b8-4ea2-bb20-e2a16389a3b2",
   "metadata": {},
   "outputs": [],
   "source": [
    "def even_fucntion(num1):\n",
    "    if num1 % 2 == 0:\n",
    "        print(f'{num1} is even')\n",
    "    else:\n",
    "         print(f'{num1} is odd')\n",
    "    return"
   ]
  },
  {
   "cell_type": "code",
   "execution_count": 20,
   "id": "63d77e61-9040-4514-b867-66320928dd58",
   "metadata": {},
   "outputs": [
    {
     "name": "stdout",
     "output_type": "stream",
     "text": [
      "3 is odd\n"
     ]
    }
   ],
   "source": [
    "even_fucntion(3)"
   ]
  },
  {
   "cell_type": "code",
   "execution_count": 28,
   "id": "8f5e20ee-01a0-433d-8308-7189fe64c755",
   "metadata": {},
   "outputs": [],
   "source": [
    "# Return True if any number is even inside a list\n",
    "def check_even_list(num_list):\n",
    "    for num in num_list:\n",
    "        if num % 2 == 0:\n",
    "            return True\n",
    "        else:\n",
    "            pass\n",
    "    return False"
   ]
  },
  {
   "cell_type": "code",
   "execution_count": 29,
   "id": "5ab9eabe-ff20-44e6-8ce3-9d1cd7efe559",
   "metadata": {},
   "outputs": [
    {
     "data": {
      "text/plain": [
       "True"
      ]
     },
     "execution_count": 29,
     "metadata": {},
     "output_type": "execute_result"
    }
   ],
   "source": [
    "check_even_list(range(0,11))"
   ]
  },
  {
   "cell_type": "code",
   "execution_count": 30,
   "id": "3f856646-fdf6-42e2-b743-48f6c4fed940",
   "metadata": {},
   "outputs": [
    {
     "data": {
      "text/plain": [
       "False"
      ]
     },
     "execution_count": 30,
     "metadata": {},
     "output_type": "execute_result"
    }
   ],
   "source": [
    "check_even_list([1,3,5])"
   ]
  },
  {
   "cell_type": "code",
   "execution_count": 31,
   "id": "baa14e8c-7f81-4547-a5a2-0eaba1838aeb",
   "metadata": {},
   "outputs": [
    {
     "data": {
      "text/plain": [
       "True"
      ]
     },
     "execution_count": 31,
     "metadata": {},
     "output_type": "execute_result"
    }
   ],
   "source": [
    "check_even_list([2,1,1])"
   ]
  },
  {
   "cell_type": "code",
   "execution_count": 42,
   "id": "e09d6cc0-0a80-4836-8701-028c3dd4e4da",
   "metadata": {},
   "outputs": [],
   "source": [
    "# Return any even number inside a list\n",
    "def check_even_list2(num_list):\n",
    "\n",
    "    even_numbers = []\n",
    "    \n",
    "    for num in num_list:\n",
    "        if num % 2 == 0:\n",
    "            even_numbers.append(num)\n",
    "        else:\n",
    "            pass\n",
    "    return even_numbers"
   ]
  },
  {
   "cell_type": "code",
   "execution_count": 43,
   "id": "d1d6bac7-5403-4949-80fe-d3e57b93dfd6",
   "metadata": {},
   "outputs": [
    {
     "data": {
      "text/plain": [
       "[2]"
      ]
     },
     "execution_count": 43,
     "metadata": {},
     "output_type": "execute_result"
    }
   ],
   "source": [
    "check_even_list2([2,1,1])"
   ]
  },
  {
   "cell_type": "code",
   "execution_count": 4,
   "id": "781e7196-242c-4743-8c32-20c0e37fddbf",
   "metadata": {},
   "outputs": [
    {
     "name": "stdout",
     "output_type": "stream",
     "text": [
      "Cassie\n",
      "800\n"
     ]
    }
   ],
   "source": [
    "work_hours = [('Abby',100),('Billy',400),('Cassie',800)]\n",
    "\n",
    "def employee_check(work_hours):\n",
    "    current_max = 0\n",
    "    employee_of_month = str()\n",
    "\n",
    "    for employee,hours in work_hours:\n",
    "        if hours > current_max:\n",
    "            current_max = hours\n",
    "            employee_of_month = employee\n",
    "        else:\n",
    "            pass\n",
    "\n",
    "    #Return\n",
    "    return(employee_of_month,current_max)\n",
    "\n",
    "name, hours = employee_check(work_hours)\n",
    "\n",
    "print(name)\n",
    "print(hours)"
   ]
  },
  {
   "cell_type": "code",
   "execution_count": 3,
   "id": "40e40a3a-20b2-4850-8536-848a7066d9e8",
   "metadata": {},
   "outputs": [],
   "source": [
    "from random import shuffle\n",
    "exampleList =  [1,2,3,4,5,6]"
   ]
  },
  {
   "cell_type": "code",
   "execution_count": 4,
   "id": "89608fb9-8b30-4012-8695-47701220dbb6",
   "metadata": {},
   "outputs": [
    {
     "data": {
      "text/plain": [
       "[5, 2, 3, 4, 6, 1]"
      ]
     },
     "execution_count": 4,
     "metadata": {},
     "output_type": "execute_result"
    }
   ],
   "source": [
    "shuffle(exampleList)\n",
    "exampleList"
   ]
  },
  {
   "cell_type": "code",
   "execution_count": 12,
   "id": "0734725e-28af-4dca-92db-e3a03fa2b546",
   "metadata": {},
   "outputs": [],
   "source": [
    "def shuffle_list(mylist):\n",
    "    shuffle(mylist)\n",
    "    return mylist"
   ]
  },
  {
   "cell_type": "code",
   "execution_count": 13,
   "id": "9073278d-4b6b-4ab4-b541-1c03f9c2b023",
   "metadata": {},
   "outputs": [
    {
     "data": {
      "text/plain": [
       "[5, 4, 2, 1, 3, 6]"
      ]
     },
     "execution_count": 13,
     "metadata": {},
     "output_type": "execute_result"
    }
   ],
   "source": [
    "result = shuffle_list(exampleList)\n",
    "result"
   ]
  },
  {
   "cell_type": "code",
   "execution_count": 14,
   "id": "62676d80-1f58-4519-8c6e-1ebd41187618",
   "metadata": {},
   "outputs": [],
   "source": [
    "montyList = [' ', 'O',' ']"
   ]
  },
  {
   "cell_type": "code",
   "execution_count": 15,
   "id": "2d0fc895-1601-45bb-aea6-7e55b8f760e5",
   "metadata": {},
   "outputs": [],
   "source": [
    "def player_guess():\n",
    "    guess = ''\n",
    "\n",
    "    while guess not in [0,1,2]:\n",
    "        guess = int(input('Pick a number: 0,1 or 2'))\n",
    "\n",
    "    return guess"
   ]
  },
  {
   "cell_type": "code",
   "execution_count": 16,
   "id": "de9f6919-9ac4-4844-9b9e-f47afe753681",
   "metadata": {},
   "outputs": [
    {
     "name": "stdin",
     "output_type": "stream",
     "text": [
      "Pick a number: 0,1 or 2 5\n",
      "Pick a number: 0,1 or 2 3\n",
      "Pick a number: 0,1 or 2 2\n"
     ]
    }
   ],
   "source": [
    "myindex = player_guess()"
   ]
  },
  {
   "cell_type": "code",
   "execution_count": 17,
   "id": "ec34da8b-3b9c-4f1a-912f-3cc1833e9c10",
   "metadata": {},
   "outputs": [
    {
     "data": {
      "text/plain": [
       "2"
      ]
     },
     "execution_count": 17,
     "metadata": {},
     "output_type": "execute_result"
    }
   ],
   "source": [
    "myindex"
   ]
  },
  {
   "cell_type": "code",
   "execution_count": 18,
   "id": "15efef07-32ce-4b5d-ae23-64e8ec2afe3e",
   "metadata": {},
   "outputs": [],
   "source": [
    "def check_guess(mylist, guess):\n",
    "    if mylist[guess] == 'O':\n",
    "        print('Nice Guess!')\n",
    "    else:\n",
    "        print('Wrong Guess')\n",
    "        print(mylist)"
   ]
  },
  {
   "cell_type": "code",
   "execution_count": 25,
   "id": "d2afda85-8004-4794-a534-c935afa15b1c",
   "metadata": {},
   "outputs": [
    {
     "name": "stdin",
     "output_type": "stream",
     "text": [
      "Pick a number: 0,1 or 2 1\n"
     ]
    },
    {
     "name": "stdout",
     "output_type": "stream",
     "text": [
      "Nice Guess!\n"
     ]
    }
   ],
   "source": [
    "# Initial List\n",
    "montyList = [' ', 'O',' ']\n",
    "\n",
    "# Shuffe List\n",
    "shuffledList = shuffle_list(montyList)\n",
    "\n",
    "# User Guess\n",
    "guess = player_guess()\n",
    "\n",
    "# Check Guess\n",
    "check_guess(shuffledList, guess)"
   ]
  },
  {
   "cell_type": "code",
   "execution_count": null,
   "id": "f5444820-4281-43cc-a4c0-ae375ab395e1",
   "metadata": {},
   "outputs": [],
   "source": []
  }
 ],
 "metadata": {
  "kernelspec": {
   "display_name": "Python 3 (ipykernel)",
   "language": "python",
   "name": "python3"
  },
  "language_info": {
   "codemirror_mode": {
    "name": "ipython",
    "version": 3
   },
   "file_extension": ".py",
   "mimetype": "text/x-python",
   "name": "python",
   "nbconvert_exporter": "python",
   "pygments_lexer": "ipython3",
   "version": "3.9.6"
  }
 },
 "nbformat": 4,
 "nbformat_minor": 5
}
