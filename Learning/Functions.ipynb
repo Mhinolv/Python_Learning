{
 "cells": [
  {
   "cell_type": "markdown",
   "id": "c5da8202-6bca-4c18-90e9-52a1bfee6fb8",
   "metadata": {},
   "source": [
    "Creating a function requires specific syntax and indentation"
   ]
  },
  {
   "cell_type": "markdown",
   "id": "0d5356c0-e2b5-42c6-b3bd-2406d0e538fa",
   "metadata": {},
   "source": [
    "Here is an example of good syntax"
   ]
  },
  {
   "cell_type": "code",
   "execution_count": 5,
   "id": "f6182507-29b4-493a-8b26-2566dd4966a9",
   "metadata": {},
   "outputs": [],
   "source": [
    "def sample_function(name):\n",
    "    '''\n",
    "    This is a doc string that explains what the function does\n",
    "    '''\n",
    "    print('Hello ' + name) # Code to exectute"
   ]
  },
  {
   "cell_type": "code",
   "execution_count": 6,
   "id": "3d076d9f-dba2-4d72-820e-4f0c0a2447b2",
   "metadata": {},
   "outputs": [
    {
     "name": "stdout",
     "output_type": "stream",
     "text": [
      "Hello Mark\n"
     ]
    }
   ],
   "source": [
    "sample_function('Mark')"
   ]
  },
  {
   "cell_type": "code",
   "execution_count": 7,
   "id": "d46a3665-c4b2-4755-a35f-cd5beb5f32df",
   "metadata": {},
   "outputs": [
    {
     "data": {
      "text/plain": [
       "3"
      ]
     },
     "execution_count": 7,
     "metadata": {},
     "output_type": "execute_result"
    }
   ],
   "source": [
    "def add_function(a,b):\n",
    "    return a + b\n",
    "\n",
    "add_function(1,2)"
   ]
  },
  {
   "cell_type": "code",
   "execution_count": 12,
   "id": "90ff8e58-2cc3-424e-9d02-6e42657ffa8e",
   "metadata": {},
   "outputs": [
    {
     "name": "stdout",
     "output_type": "stream",
     "text": [
      "Hello You\n"
     ]
    }
   ],
   "source": [
    "def say_hello(name = 'You'):\n",
    "    print(f'Hello {name}')\n",
    "\n",
    "say_hello()"
   ]
  },
  {
   "cell_type": "code",
   "execution_count": 14,
   "id": "bf5febb5-7ffa-432b-96d9-d21ee4fafa3c",
   "metadata": {},
   "outputs": [
    {
     "data": {
      "text/plain": [
       "3"
      ]
     },
     "execution_count": 14,
     "metadata": {},
     "output_type": "execute_result"
    }
   ],
   "source": [
    "def add_num(num1,num2):\n",
    "    return num1 + num2\n",
    "\n",
    "result = add_num(1,2)\n",
    "result"
   ]
  },
  {
   "cell_type": "code",
   "execution_count": 19,
   "id": "dd588075-f0b8-4ea2-bb20-e2a16389a3b2",
   "metadata": {},
   "outputs": [],
   "source": [
    "def even_fucntion(num1):\n",
    "    if num1 % 2 == 0:\n",
    "        print(f'{num1} is even')\n",
    "    else:\n",
    "         print(f'{num1} is odd')\n",
    "    return"
   ]
  },
  {
   "cell_type": "code",
   "execution_count": 20,
   "id": "63d77e61-9040-4514-b867-66320928dd58",
   "metadata": {},
   "outputs": [
    {
     "name": "stdout",
     "output_type": "stream",
     "text": [
      "3 is odd\n"
     ]
    }
   ],
   "source": [
    "even_fucntion(3)"
   ]
  },
  {
   "cell_type": "code",
   "execution_count": 28,
   "id": "8f5e20ee-01a0-433d-8308-7189fe64c755",
   "metadata": {},
   "outputs": [],
   "source": [
    "# Return True if any number is even inside a list\n",
    "def check_even_list(num_list):\n",
    "    for num in num_list:\n",
    "        if num % 2 == 0:\n",
    "            return True\n",
    "        else:\n",
    "            pass\n",
    "    return False"
   ]
  },
  {
   "cell_type": "code",
   "execution_count": 29,
   "id": "5ab9eabe-ff20-44e6-8ce3-9d1cd7efe559",
   "metadata": {},
   "outputs": [
    {
     "data": {
      "text/plain": [
       "True"
      ]
     },
     "execution_count": 29,
     "metadata": {},
     "output_type": "execute_result"
    }
   ],
   "source": [
    "check_even_list(range(0,11))"
   ]
  },
  {
   "cell_type": "code",
   "execution_count": 30,
   "id": "3f856646-fdf6-42e2-b743-48f6c4fed940",
   "metadata": {},
   "outputs": [
    {
     "data": {
      "text/plain": [
       "False"
      ]
     },
     "execution_count": 30,
     "metadata": {},
     "output_type": "execute_result"
    }
   ],
   "source": [
    "check_even_list([1,3,5])"
   ]
  },
  {
   "cell_type": "code",
   "execution_count": 31,
   "id": "baa14e8c-7f81-4547-a5a2-0eaba1838aeb",
   "metadata": {},
   "outputs": [
    {
     "data": {
      "text/plain": [
       "True"
      ]
     },
     "execution_count": 31,
     "metadata": {},
     "output_type": "execute_result"
    }
   ],
   "source": [
    "check_even_list([2,1,1])"
   ]
  },
  {
   "cell_type": "code",
   "execution_count": 42,
   "id": "e09d6cc0-0a80-4836-8701-028c3dd4e4da",
   "metadata": {},
   "outputs": [],
   "source": [
    "# Return any even number inside a list\n",
    "def check_even_list2(num_list):\n",
    "\n",
    "    even_numbers = []\n",
    "    \n",
    "    for num in num_list:\n",
    "        if num % 2 == 0:\n",
    "            even_numbers.append(num)\n",
    "        else:\n",
    "            pass\n",
    "    return even_numbers"
   ]
  },
  {
   "cell_type": "code",
   "execution_count": 43,
   "id": "d1d6bac7-5403-4949-80fe-d3e57b93dfd6",
   "metadata": {},
   "outputs": [
    {
     "data": {
      "text/plain": [
       "[2]"
      ]
     },
     "execution_count": 43,
     "metadata": {},
     "output_type": "execute_result"
    }
   ],
   "source": [
    "check_even_list2([2,1,1])"
   ]
  },
  {
   "cell_type": "code",
   "execution_count": 44,
   "id": "a9447baf-b3ba-4921-878f-b496830efe23",
   "metadata": {},
   "outputs": [
    {
     "data": {
      "text/plain": [
       "[0, 2, 4, 6, 8, 10]"
      ]
     },
     "execution_count": 44,
     "metadata": {},
     "output_type": "execute_result"
    }
   ],
   "source": [
    "check_even_list2(range(0,11))"
   ]
  },
  {
   "cell_type": "code",
   "execution_count": null,
   "id": "8ee506ed-cbe4-4671-91c9-e07ca954c00b",
   "metadata": {},
   "outputs": [],
   "source": []
  }
 ],
 "metadata": {
  "kernelspec": {
   "display_name": "Python 3 (ipykernel)",
   "language": "python",
   "name": "python3"
  },
  "language_info": {
   "codemirror_mode": {
    "name": "ipython",
    "version": 3
   },
   "file_extension": ".py",
   "mimetype": "text/x-python",
   "name": "python",
   "nbconvert_exporter": "python",
   "pygments_lexer": "ipython3",
   "version": "3.12.5"
  }
 },
 "nbformat": 4,
 "nbformat_minor": 5
}
