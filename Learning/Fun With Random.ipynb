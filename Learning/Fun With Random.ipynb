{
 "cells": [
  {
   "cell_type": "markdown",
   "id": "cc47e36f-e77e-4820-b47d-fe54a44ca90c",
   "metadata": {},
   "source": [
    "Random is a really cool module that I remember existed a few days ago, but was also reinforced during my learning. It turns out random has some REALLY cool properties that we are going to be exploring."
   ]
  },
  {
   "cell_type": "markdown",
   "id": "7e860939-db4d-4e88-a7a2-111c4af2c4ec",
   "metadata": {},
   "source": [
    "First and foremost, it has the ability create a random integer by using the .randint() method of random"
   ]
  },
  {
   "cell_type": "code",
   "execution_count": 1,
   "id": "0f0d7e9c-a0f7-44a7-a2d2-7cf7923577b1",
   "metadata": {},
   "outputs": [],
   "source": [
    "import random"
   ]
  },
  {
   "cell_type": "code",
   "execution_count": 5,
   "id": "6accf331-b03e-47df-a2c9-d9d5a3305318",
   "metadata": {},
   "outputs": [
    {
     "data": {
      "text/plain": [
       "9"
      ]
     },
     "execution_count": 5,
     "metadata": {},
     "output_type": "execute_result"
    }
   ],
   "source": [
    "random.randint(1,10)"
   ]
  },
  {
   "cell_type": "markdown",
   "id": "45b66131-a10f-4e5b-8e58-25b94d9eb743",
   "metadata": {},
   "source": [
    "Using the .random() method will generate a float between 0 and 1"
   ]
  },
  {
   "cell_type": "code",
   "execution_count": 9,
   "id": "a3b00d99-23bb-423f-8ab5-f611721cd7b1",
   "metadata": {},
   "outputs": [
    {
     "data": {
      "text/plain": [
       "0.41570000511233096"
      ]
     },
     "execution_count": 9,
     "metadata": {},
     "output_type": "execute_result"
    }
   ],
   "source": [
    "random.random()"
   ]
  },
  {
   "cell_type": "markdown",
   "id": "d3ebaf3f-a81c-4504-a3e8-d1d1a3386cb0",
   "metadata": {},
   "source": [
    "This can be used to create a random percentage if needed"
   ]
  },
  {
   "cell_type": "code",
   "execution_count": 24,
   "id": "19214004-7cce-42e4-9fa8-8b997123e800",
   "metadata": {},
   "outputs": [
    {
     "data": {
      "text/plain": [
       "76.3"
      ]
     },
     "execution_count": 24,
     "metadata": {},
     "output_type": "execute_result"
    }
   ],
   "source": [
    "percVar = round(random.random(),3)*100\n",
    "percVar"
   ]
  },
  {
   "cell_type": "markdown",
   "id": "d20b0f7e-49b1-4d82-a643-33191ac9b791",
   "metadata": {},
   "source": [
    "Random also has a method to randomize iterables called .shuffle()"
   ]
  },
  {
   "cell_type": "code",
   "execution_count": 26,
   "id": "d5a3eb6b-d656-4e2e-9f49-d8e6d3e30172",
   "metadata": {},
   "outputs": [
    {
     "data": {
      "text/plain": [
       "[6, 4, 9, 5, 10, 3, 8, 2, 7, 1]"
      ]
     },
     "execution_count": 26,
     "metadata": {},
     "output_type": "execute_result"
    }
   ],
   "source": [
    "newList = list(range(1,11))\n",
    "random.shuffle(newList) # This is an in-place function\n",
    "newList"
   ]
  },
  {
   "cell_type": "markdown",
   "id": "8d481c2e-eac9-47a1-a6df-3b5e292d3a31",
   "metadata": {},
   "source": [
    "Random also has the .choice() method in which a random item will be chosen from an iterable"
   ]
  },
  {
   "cell_type": "code",
   "execution_count": 63,
   "id": "9bedf93c-551a-47e1-9a6b-91ea945e7e1b",
   "metadata": {},
   "outputs": [
    {
     "name": "stdout",
     "output_type": "stream",
     "text": [
      "There are 14 in the list and the the choice is: lemon\n"
     ]
    }
   ],
   "source": [
    "import csv\n",
    "fruitList = []\n",
    "\n",
    "with open('/Users/mhino/Documents/Python_Learning/Files/fruit.csv') as file:\n",
    "    reader = csv.DictReader(file)\n",
    "    for row in reader:\n",
    "        fruitList.append(row['fruit'])\n",
    "\n",
    "choiceVar = random.choice(fruitList) # Chooses random item from iterable\n",
    "\n",
    "print(f'There are {len(fruitList)} in the list and the the choice is: {choiceVar}')"
   ]
  },
  {
   "cell_type": "markdown",
   "id": "7bc23b33-422a-4b40-b371-48d65813b0f0",
   "metadata": {},
   "source": [
    "Similary, Random has the .choices() method in which multiple items can be chosen from an iterable"
   ]
  },
  {
   "cell_type": "code",
   "execution_count": 71,
   "id": "62651631-1896-4bbd-a409-9d633cb0ce59",
   "metadata": {},
   "outputs": [
    {
     "name": "stdout",
     "output_type": "stream",
     "text": [
      "Here is what you will need for your project: ['screws', 'screwdriver', 'knife', 'level', 'drill']\n"
     ]
    }
   ],
   "source": [
    "import csv\n",
    "toolList = []\n",
    "\n",
    "with open('/Users/mhino/Documents/Python_Learning/Files/tools.csv') as file:\n",
    "    reader = csv.DictReader(file)\n",
    "    for row in reader:\n",
    "        toolList.append(row['tool_name'])\n",
    "\n",
    "choicesVar = random.choices(toolList, k=5) # Specific the number of objects to choose\n",
    "\n",
    "print(f'Here is what you will need for your project: {choicesVar}')"
   ]
  },
  {
   "cell_type": "markdown",
   "id": "9184893b-f2ca-4d92-ac35-7779507a21cc",
   "metadata": {},
   "source": [
    "The .sample() method will take items from an existing iterable and place them into a non-referened new iterable"
   ]
  },
  {
   "cell_type": "code",
   "execution_count": 73,
   "id": "7c8ed002-9377-4af7-b82e-833a5c83f44e",
   "metadata": {},
   "outputs": [
    {
     "data": {
      "text/plain": [
       "[14, 18, 12, 10, 11]"
      ]
     },
     "execution_count": 73,
     "metadata": {},
     "output_type": "execute_result"
    }
   ],
   "source": [
    "newList = list(range(1,20))\n",
    "diffList = random.sample(newList, 5)\n",
    "diffList"
   ]
  }
 ],
 "metadata": {
  "kernelspec": {
   "display_name": "Python 3 (ipykernel)",
   "language": "python",
   "name": "python3"
  },
  "language_info": {
   "codemirror_mode": {
    "name": "ipython",
    "version": 3
   },
   "file_extension": ".py",
   "mimetype": "text/x-python",
   "name": "python",
   "nbconvert_exporter": "python",
   "pygments_lexer": "ipython3",
   "version": "3.12.5"
  }
 },
 "nbformat": 4,
 "nbformat_minor": 5
}
