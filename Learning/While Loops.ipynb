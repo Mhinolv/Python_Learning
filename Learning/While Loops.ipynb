{
 "cells": [
  {
   "cell_type": "markdown",
   "id": "42655bf1",
   "metadata": {},
   "source": [
    "## While Loops"
   ]
  },
  {
   "cell_type": "code",
   "execution_count": 7,
   "id": "ee9d527e-9d6c-4ea1-a5d6-e17e155a4233",
   "metadata": {},
   "outputs": [],
   "source": [
    "x = 0"
   ]
  },
  {
   "cell_type": "code",
   "execution_count": 8,
   "id": "bc6e4f9d-d8f8-4c78-af18-2df97a032865",
   "metadata": {},
   "outputs": [
    {
     "name": "stdout",
     "output_type": "stream",
     "text": [
      "The current value of x is 0\n",
      "The current value of x is 1\n",
      "The current value of x is 2\n",
      "The current value of x is 3\n",
      "The current value of x is 4\n",
      "X IS NOT LESS THAN 5\n"
     ]
    }
   ],
   "source": [
    "while x < 5:\n",
    "    print(f'The current value of x is {x}')\n",
    "    x += 1\n",
    "else:\n",
    "    print('X IS NOT LESS THAN 5')"
   ]
  },
  {
   "cell_type": "code",
   "execution_count": 9,
   "id": "23fe3336-3afe-44dd-87c8-f8e6219a86c8",
   "metadata": {},
   "outputs": [],
   "source": [
    "list = [1,2,3]"
   ]
  },
  {
   "cell_type": "code",
   "execution_count": 11,
   "id": "97a770cc-be87-4085-a0ef-f3ae034c0933",
   "metadata": {},
   "outputs": [],
   "source": [
    "for items in list:\n",
    "    pass # Keyword for doing nothing"
   ]
  },
  {
   "cell_type": "code",
   "execution_count": 12,
   "id": "2c9a0a94-756b-4d97-9909-414e31b8fb9a",
   "metadata": {},
   "outputs": [],
   "source": [
    "myStr = 'Sammy'"
   ]
  },
  {
   "cell_type": "code",
   "execution_count": 16,
   "id": "7fbf58d6-6dd0-4bab-bd35-180f2a3e4519",
   "metadata": {},
   "outputs": [
    {
     "name": "stdout",
     "output_type": "stream",
     "text": [
      "S\n",
      "m\n",
      "m\n",
      "y\n"
     ]
    }
   ],
   "source": [
    "for letter in myStr:\n",
    "    if letter == 'a':\n",
    "        continue # Goes to the top of closest enclosing loop\n",
    "    print(letter)"
   ]
  },
  {
   "cell_type": "code",
   "execution_count": 17,
   "id": "f866ea1c-735e-43cc-bb79-ee2e2cd04bd0",
   "metadata": {},
   "outputs": [
    {
     "name": "stdout",
     "output_type": "stream",
     "text": [
      "S\n"
     ]
    }
   ],
   "source": [
    "for letter in myStr:\n",
    "    if letter == 'a':\n",
    "        break # Stops at the top of closest enclosing loop\n",
    "    print(letter)"
   ]
  },
  {
   "cell_type": "code",
   "execution_count": 30,
   "id": "4b830e21-5deb-4310-8de0-1e2b5997756f",
   "metadata": {},
   "outputs": [],
   "source": [
    "num = 0"
   ]
  },
  {
   "cell_type": "code",
   "execution_count": 31,
   "id": "cac5b6a7-d78b-4c46-b86b-67dbc6ce2dbf",
   "metadata": {},
   "outputs": [
    {
     "name": "stdout",
     "output_type": "stream",
     "text": [
      "0\n",
      "1\n"
     ]
    }
   ],
   "source": [
    "while num < 5:\n",
    "    if num == 2:\n",
    "        break\n",
    "    print(num)\n",
    "    num += 1"
   ]
  }
 ],
 "metadata": {
  "kernelspec": {
   "display_name": "Python 3 (ipykernel)",
   "language": "python",
   "name": "python3"
  },
  "language_info": {
   "codemirror_mode": {
    "name": "ipython",
    "version": 3
   },
   "file_extension": ".py",
   "mimetype": "text/x-python",
   "name": "python",
   "nbconvert_exporter": "python",
   "pygments_lexer": "ipython3",
   "version": "3.9.6"
  }
 },
 "nbformat": 4,
 "nbformat_minor": 5
}
