{
 "cells": [
  {
   "cell_type": "code",
   "execution_count": 3,
   "id": "a835110c-eb16-42aa-bce5-24a8dc4dafce",
   "metadata": {},
   "outputs": [
    {
     "name": "stdin",
     "output_type": "stream",
     "text": [
      "What is your Name? Mark\n"
     ]
    }
   ],
   "source": [
    "password = input('What is your Name?')"
   ]
  },
  {
   "cell_type": "code",
   "execution_count": 4,
   "id": "8ad7d3cf-329a-44c5-adce-ba886c065e91",
   "metadata": {},
   "outputs": [
    {
     "data": {
      "text/plain": [
       "'Mark'"
      ]
     },
     "execution_count": 4,
     "metadata": {},
     "output_type": "execute_result"
    }
   ],
   "source": [
    "password"
   ]
  },
  {
   "cell_type": "code",
   "execution_count": 13,
   "id": "01b06663-76f0-4b94-8b44-0e1b34098b78",
   "metadata": {},
   "outputs": [],
   "source": [
    "zpassword = password.zfill(10)"
   ]
  },
  {
   "cell_type": "code",
   "execution_count": 15,
   "id": "1bdca57d-640e-48a3-9b79-916109309b92",
   "metadata": {},
   "outputs": [],
   "source": [
    "upperpassword = zpassword.upper()"
   ]
  },
  {
   "cell_type": "code",
   "execution_count": 24,
   "id": "9c9a2554-ea78-4765-b655-15d443704e8c",
   "metadata": {},
   "outputs": [],
   "source": [
    "centeredpassword = upperpassword.center(15)"
   ]
  },
  {
   "cell_type": "code",
   "execution_count": 35,
   "id": "54dcfa99-52dd-45a9-b488-9410eef77341",
   "metadata": {},
   "outputs": [
    {
     "data": {
      "text/plain": [
       "16"
      ]
     },
     "execution_count": 35,
     "metadata": {},
     "output_type": "execute_result"
    }
   ],
   "source": [
    "centeredpassword.count('')"
   ]
  },
  {
   "cell_type": "code",
   "execution_count": 37,
   "id": "174e4380-350e-436b-b94e-c047d962440e",
   "metadata": {},
   "outputs": [
    {
     "data": {
      "text/plain": [
       "True"
      ]
     },
     "execution_count": 37,
     "metadata": {},
     "output_type": "execute_result"
    }
   ],
   "source": [
    "centeredpassword.endswith(' ')"
   ]
  },
  {
   "cell_type": "code",
   "execution_count": 38,
   "id": "1a682bc0-b541-4c72-9b72-c0f04c4b49b3",
   "metadata": {},
   "outputs": [
    {
     "data": {
      "text/plain": [
       "9"
      ]
     },
     "execution_count": 38,
     "metadata": {},
     "output_type": "execute_result"
    }
   ],
   "source": [
    "centeredpassword.index('MAR')"
   ]
  },
  {
   "cell_type": "code",
   "execution_count": 40,
   "id": "16c50d59-1e70-44a6-b4e7-cb4f35904d42",
   "metadata": {},
   "outputs": [
    {
     "data": {
      "text/plain": [
       "9"
      ]
     },
     "execution_count": 40,
     "metadata": {},
     "output_type": "execute_result"
    }
   ],
   "source": [
    "centeredpassword.find('MAR')"
   ]
  },
  {
   "cell_type": "code",
   "execution_count": 44,
   "id": "6776900e-8a29-4c0c-b388-de1e5edc66ef",
   "metadata": {},
   "outputs": [],
   "source": [
    "joinpassword = centeredpassword.join('KRAM')"
   ]
  },
  {
   "cell_type": "code",
   "execution_count": 46,
   "id": "e4f2eed6-8dbf-4270-b83b-09a716d03e5a",
   "metadata": {},
   "outputs": [],
   "source": [
    "lowerpassword = joinpassword.lower()"
   ]
  },
  {
   "cell_type": "code",
   "execution_count": 47,
   "id": "1db13e18-eccc-4b59-a9a9-7ad09c32de5d",
   "metadata": {},
   "outputs": [
    {
     "data": {
      "text/plain": [
       "'k   000000mark  r   000000mark  a   000000mark  m'"
      ]
     },
     "execution_count": 47,
     "metadata": {},
     "output_type": "execute_result"
    }
   ],
   "source": [
    "lowerpassword"
   ]
  },
  {
   "cell_type": "code",
   "execution_count": 49,
   "id": "db9bfb66-de12-4284-94c2-189426cdd2c5",
   "metadata": {},
   "outputs": [],
   "source": [
    "lstripppassword = centeredpassword.lstrip()"
   ]
  },
  {
   "cell_type": "code",
   "execution_count": 50,
   "id": "2a262200-13ac-4238-b7aa-86242eaf7f69",
   "metadata": {},
   "outputs": [
    {
     "data": {
      "text/plain": [
       "'000000MARK  '"
      ]
     },
     "execution_count": 50,
     "metadata": {},
     "output_type": "execute_result"
    }
   ],
   "source": [
    "lstripppassword"
   ]
  },
  {
   "cell_type": "code",
   "execution_count": 52,
   "id": "9098a7a1-6ef1-49bb-8d5e-c576e047fa11",
   "metadata": {},
   "outputs": [],
   "source": [
    "rstrippassowrd = lstripppassword.rstrip()"
   ]
  },
  {
   "cell_type": "code",
   "execution_count": 53,
   "id": "c7bb8c82-2769-44c8-bee5-04f7f84aeabd",
   "metadata": {},
   "outputs": [
    {
     "data": {
      "text/plain": [
       "'000000MARK'"
      ]
     },
     "execution_count": 53,
     "metadata": {},
     "output_type": "execute_result"
    }
   ],
   "source": [
    "rstrippassowrd"
   ]
  },
  {
   "cell_type": "code",
   "execution_count": 54,
   "id": "5f1d80d8-85ca-45a8-bf6f-c4036888c328",
   "metadata": {},
   "outputs": [
    {
     "data": {
      "text/plain": [
       "True"
      ]
     },
     "execution_count": 54,
     "metadata": {},
     "output_type": "execute_result"
    }
   ],
   "source": [
    "upperpassword == rstrippassowrd"
   ]
  },
  {
   "cell_type": "code",
   "execution_count": 57,
   "id": "0780a865-a7bf-4458-8da0-67a41ddbf9ab",
   "metadata": {},
   "outputs": [],
   "source": [
    "replacepassword = rstrippassowrd.replace('A','O')"
   ]
  },
  {
   "cell_type": "code",
   "execution_count": 60,
   "id": "b4a496f2-e609-48f6-9027-e24de2f13df9",
   "metadata": {},
   "outputs": [],
   "source": [
    "replacepassword = replacepassword.replace('0','-')"
   ]
  },
  {
   "cell_type": "code",
   "execution_count": 61,
   "id": "d31a7754-87aa-4361-936c-e722d1e85d12",
   "metadata": {},
   "outputs": [
    {
     "data": {
      "text/plain": [
       "'------MORK'"
      ]
     },
     "execution_count": 61,
     "metadata": {},
     "output_type": "execute_result"
    }
   ],
   "source": [
    "replacepassword"
   ]
  },
  {
   "cell_type": "code",
   "execution_count": 64,
   "id": "8b62c848-29dd-4134-ae34-c3b1137e1212",
   "metadata": {},
   "outputs": [],
   "source": [
    "tuplepassword = replacepassword.partition('M')"
   ]
  },
  {
   "cell_type": "code",
   "execution_count": 65,
   "id": "42f8468b-b4ec-47b1-bc27-a9e7f0ce0ac3",
   "metadata": {},
   "outputs": [
    {
     "data": {
      "text/plain": [
       "('------', 'M', 'ORK')"
      ]
     },
     "execution_count": 65,
     "metadata": {},
     "output_type": "execute_result"
    }
   ],
   "source": [
    "tuplepassword"
   ]
  },
  {
   "cell_type": "code",
   "execution_count": 66,
   "id": "2dd57168-d090-462b-9d87-aaa7cbcc588d",
   "metadata": {},
   "outputs": [
    {
     "data": {
      "text/plain": [
       "'000000MARK'"
      ]
     },
     "execution_count": 66,
     "metadata": {},
     "output_type": "execute_result"
    }
   ],
   "source": [
    "centeredpassword.strip()"
   ]
  },
  {
   "cell_type": "code",
   "execution_count": null,
   "id": "c6e8eac6-5c9d-4e50-ba5b-cbc2b431ec44",
   "metadata": {},
   "outputs": [],
   "source": []
  }
 ],
 "metadata": {
  "kernelspec": {
   "display_name": "Python 3 (ipykernel)",
   "language": "python",
   "name": "python3"
  },
  "language_info": {
   "codemirror_mode": {
    "name": "ipython",
    "version": 3
   },
   "file_extension": ".py",
   "mimetype": "text/x-python",
   "name": "python",
   "nbconvert_exporter": "python",
   "pygments_lexer": "ipython3",
   "version": "3.9.6"
  }
 },
 "nbformat": 4,
 "nbformat_minor": 5
}
