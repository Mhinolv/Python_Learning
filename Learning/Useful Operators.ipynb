{
 "cells": [
  {
   "cell_type": "markdown",
   "id": "91030377-796d-4d55-85f2-988a67033235",
   "metadata": {},
   "source": [
    "A collection of other useful functions"
   ]
  },
  {
   "cell_type": "code",
   "execution_count": 4,
   "id": "d39d40c8-e43d-4317-ad76-f720c8f5ac98",
   "metadata": {},
   "outputs": [
    {
     "name": "stdout",
     "output_type": "stream",
     "text": [
      "0\n",
      "1\n",
      "2\n",
      "3\n",
      "4\n",
      "5\n",
      "6\n",
      "7\n",
      "8\n",
      "9\n",
      "10\n"
     ]
    }
   ],
   "source": [
    "for num in range(11):\n",
    "    print(num)"
   ]
  },
  {
   "cell_type": "markdown",
   "id": "3af38901-fb4f-40e9-8c5b-cd2c247524d9",
   "metadata": {},
   "source": [
    "Range takes a starting, stopping, and step paramter"
   ]
  },
  {
   "cell_type": "code",
   "execution_count": 7,
   "id": "3c4ae30c-90e5-458c-8110-56c8ceb9f2b4",
   "metadata": {},
   "outputs": [
    {
     "name": "stdout",
     "output_type": "stream",
     "text": [
      "1\n",
      "6\n",
      "11\n",
      "16\n",
      "21\n",
      "26\n",
      "31\n",
      "36\n",
      "41\n",
      "46\n",
      "51\n",
      "56\n",
      "61\n",
      "66\n",
      "71\n",
      "76\n",
      "81\n",
      "86\n",
      "91\n",
      "96\n"
     ]
    }
   ],
   "source": [
    "for num in range(1,101,5):\n",
    "    print(num)"
   ]
  },
  {
   "cell_type": "markdown",
   "id": "43f35bfc-26b5-40a8-b046-7dbae8626f14",
   "metadata": {},
   "source": [
    "Range is a generator"
   ]
  },
  {
   "cell_type": "code",
   "execution_count": 10,
   "id": "d246a6a5-f202-454c-851a-b162cf383346",
   "metadata": {},
   "outputs": [
    {
     "data": {
      "text/plain": [
       "range"
      ]
     },
     "execution_count": 10,
     "metadata": {},
     "output_type": "execute_result"
    }
   ],
   "source": [
    "type(range(10))"
   ]
  },
  {
   "cell_type": "code",
   "execution_count": 9,
   "id": "00580c0d-f84d-4356-9f89-c48eb2a16729",
   "metadata": {},
   "outputs": [
    {
     "data": {
      "text/plain": [
       "[1, 3, 5, 7, 9]"
      ]
     },
     "execution_count": 9,
     "metadata": {},
     "output_type": "execute_result"
    }
   ],
   "source": [
    "list(range(1,10,2)) # Casting the generator as a list"
   ]
  },
  {
   "cell_type": "code",
   "execution_count": 15,
   "id": "5fc12638-f0d1-4569-ad67-07cc6b924285",
   "metadata": {},
   "outputs": [
    {
     "name": "stdout",
     "output_type": "stream",
     "text": [
      "a\n",
      "b\n",
      "c\n",
      "d\n",
      "e\n"
     ]
    }
   ],
   "source": [
    "idx_count = 0\n",
    "word = 'abcde'\n",
    "for letter in word:\n",
    "    print(word[idx_count])\n",
    "    idx_count += 1"
   ]
  },
  {
   "cell_type": "code",
   "execution_count": 18,
   "id": "f2db5786-64f2-42ef-94f9-d5e903b22d81",
   "metadata": {},
   "outputs": [
    {
     "name": "stdout",
     "output_type": "stream",
     "text": [
      "0\n",
      "a\n",
      "\n",
      "\n",
      "1\n",
      "b\n",
      "\n",
      "\n",
      "2\n",
      "c\n",
      "\n",
      "\n",
      "3\n",
      "d\n",
      "\n",
      "\n",
      "4\n",
      "e\n",
      "\n",
      "\n"
     ]
    }
   ],
   "source": [
    "word = 'abcde'\n",
    "\n",
    "for index,letter in enumerate(word): #Creates an index count\n",
    "    print(index)\n",
    "    print(letter)\n",
    "    print('\\n')"
   ]
  },
  {
   "cell_type": "code",
   "execution_count": 19,
   "id": "2a6c879d-9fc5-4cb0-a73f-e2f438b6c8d3",
   "metadata": {},
   "outputs": [],
   "source": [
    "mylist1 = list(range(1,11))"
   ]
  },
  {
   "cell_type": "code",
   "execution_count": 20,
   "id": "e8f8e6f9-7c78-4c9c-8b09-5076cfe17d64",
   "metadata": {},
   "outputs": [],
   "source": [
    "mylist2 = list(range(11,21))"
   ]
  },
  {
   "cell_type": "code",
   "execution_count": 28,
   "id": "62f2e5f6-9d65-4dd1-bd08-546a715685e4",
   "metadata": {},
   "outputs": [
    {
     "name": "stdout",
     "output_type": "stream",
     "text": [
      "1\n",
      "11\n",
      "\n",
      "\n",
      "2\n",
      "12\n",
      "\n",
      "\n",
      "3\n",
      "13\n",
      "\n",
      "\n",
      "4\n",
      "14\n",
      "\n",
      "\n",
      "5\n",
      "15\n",
      "\n",
      "\n",
      "6\n",
      "16\n",
      "\n",
      "\n",
      "7\n",
      "17\n",
      "\n",
      "\n",
      "8\n",
      "18\n",
      "\n",
      "\n",
      "9\n",
      "19\n",
      "\n",
      "\n",
      "10\n",
      "20\n",
      "\n",
      "\n"
     ]
    }
   ],
   "source": [
    "for item1,item2 in zip(mylist1, mylist2):\n",
    "    print(item1)\n",
    "    print(item2)\n",
    "    print('\\n')"
   ]
  },
  {
   "cell_type": "code",
   "execution_count": 29,
   "id": "807f2af8-e5ec-4c4b-b6d0-ad7192e569c0",
   "metadata": {},
   "outputs": [
    {
     "data": {
      "text/plain": [
       "[(1, 11),\n",
       " (2, 12),\n",
       " (3, 13),\n",
       " (4, 14),\n",
       " (5, 15),\n",
       " (6, 16),\n",
       " (7, 17),\n",
       " (8, 18),\n",
       " (9, 19),\n",
       " (10, 20)]"
      ]
     },
     "execution_count": 29,
     "metadata": {},
     "output_type": "execute_result"
    }
   ],
   "source": [
    "list(zip(mylist1,mylist2))"
   ]
  },
  {
   "cell_type": "code",
   "execution_count": 30,
   "id": "55fe2f0f-6abd-4052-bab7-40d454e84c76",
   "metadata": {},
   "outputs": [
    {
     "data": {
      "text/plain": [
       "False"
      ]
     },
     "execution_count": 30,
     "metadata": {},
     "output_type": "execute_result"
    }
   ],
   "source": [
    " 'x' in [1,2,3]"
   ]
  },
  {
   "cell_type": "code",
   "execution_count": 31,
   "id": "eda482ca-4215-407f-ba9c-6a75b2612a75",
   "metadata": {},
   "outputs": [
    {
     "data": {
      "text/plain": [
       "True"
      ]
     },
     "execution_count": 31,
     "metadata": {},
     "output_type": "execute_result"
    }
   ],
   "source": [
    "1 in [1,2,3]"
   ]
  },
  {
   "cell_type": "code",
   "execution_count": 34,
   "id": "8559ba59-a0e5-4265-a1fa-920b8916f3fa",
   "metadata": {},
   "outputs": [
    {
     "data": {
      "text/plain": [
       "True"
      ]
     },
     "execution_count": 34,
     "metadata": {},
     "output_type": "execute_result"
    }
   ],
   "source": [
    "'x' in ['x','y','z']"
   ]
  },
  {
   "cell_type": "code",
   "execution_count": 35,
   "id": "45404822-8d7e-4183-a0d8-d266bbac8ef3",
   "metadata": {},
   "outputs": [
    {
     "data": {
      "text/plain": [
       "True"
      ]
     },
     "execution_count": 35,
     "metadata": {},
     "output_type": "execute_result"
    }
   ],
   "source": [
    "'a' in 'a world'"
   ]
  },
  {
   "cell_type": "code",
   "execution_count": 40,
   "id": "88984719-96a1-422c-b336-4b75d2caac70",
   "metadata": {},
   "outputs": [
    {
     "data": {
      "text/plain": [
       "True"
      ]
     },
     "execution_count": 40,
     "metadata": {},
     "output_type": "execute_result"
    }
   ],
   "source": [
    "'k1' in {'k1':1, 'k2':2}"
   ]
  },
  {
   "cell_type": "code",
   "execution_count": 39,
   "id": "a687c177-7b3e-4e8a-b013-897b6aee77c5",
   "metadata": {},
   "outputs": [
    {
     "data": {
      "text/plain": [
       "True"
      ]
     },
     "execution_count": 39,
     "metadata": {},
     "output_type": "execute_result"
    }
   ],
   "source": [
    "1 in {'k1':1, 'k2':2}.values()"
   ]
  },
  {
   "cell_type": "code",
   "execution_count": 44,
   "id": "8b9b671e-2a65-49ab-b689-b3a396b1d408",
   "metadata": {},
   "outputs": [],
   "source": [
    "newList = list(range(0,101,10))"
   ]
  },
  {
   "cell_type": "code",
   "execution_count": 45,
   "id": "1c24dc10-b0a7-4f94-a93a-c39a6602bbd2",
   "metadata": {},
   "outputs": [
    {
     "data": {
      "text/plain": [
       "0"
      ]
     },
     "execution_count": 45,
     "metadata": {},
     "output_type": "execute_result"
    }
   ],
   "source": [
    "min(newList)"
   ]
  },
  {
   "cell_type": "code",
   "execution_count": 46,
   "id": "4095a1b2-1c16-47ba-8f10-4f4410385f76",
   "metadata": {},
   "outputs": [
    {
     "data": {
      "text/plain": [
       "100"
      ]
     },
     "execution_count": 46,
     "metadata": {},
     "output_type": "execute_result"
    }
   ],
   "source": [
    "max(newList)"
   ]
  },
  {
   "cell_type": "code",
   "execution_count": 47,
   "id": "3d9aa192-20ee-4297-9f9f-ff1f3b6f5607",
   "metadata": {},
   "outputs": [],
   "source": [
    "import random"
   ]
  },
  {
   "cell_type": "code",
   "execution_count": 48,
   "id": "5cab2b80-02a9-467e-8eed-e15e3b93e3bd",
   "metadata": {},
   "outputs": [
    {
     "data": {
      "text/plain": [
       "80"
      ]
     },
     "execution_count": 48,
     "metadata": {},
     "output_type": "execute_result"
    }
   ],
   "source": [
    "random.choice(newList)"
   ]
  },
  {
   "cell_type": "code",
   "execution_count": 49,
   "id": "0c6de729-036b-46af-a023-463f700a03fa",
   "metadata": {},
   "outputs": [],
   "source": [
    "from random import shuffle # Shuffle is an in-place funnction"
   ]
  },
  {
   "cell_type": "code",
   "execution_count": 53,
   "id": "5a10c046-085b-40f0-9235-e85978638bfe",
   "metadata": {},
   "outputs": [],
   "source": [
    "random.shuffle(newList)"
   ]
  },
  {
   "cell_type": "code",
   "execution_count": 54,
   "id": "93496a9a-cc35-49e6-92b4-030290eec06a",
   "metadata": {},
   "outputs": [
    {
     "data": {
      "text/plain": [
       "[10, 90, 40, 30, 20, 50, 60, 100, 0, 70, 80]"
      ]
     },
     "execution_count": 54,
     "metadata": {},
     "output_type": "execute_result"
    }
   ],
   "source": [
    "newList"
   ]
  },
  {
   "cell_type": "code",
   "execution_count": 63,
   "id": "f03d5f8b-5834-401c-a847-14831a5e54e2",
   "metadata": {},
   "outputs": [
    {
     "data": {
      "text/plain": [
       "[76, 11, 1, 71, 51, 46, 36, 91, 31, 41, 6, 21, 56, 96, 61, 16, 81, 66, 26, 86]"
      ]
     },
     "execution_count": 63,
     "metadata": {},
     "output_type": "execute_result"
    }
   ],
   "source": [
    "newList2 = list(range(1,100,5))\n",
    "random.shuffle(newList2)\n",
    "newList2"
   ]
  },
  {
   "cell_type": "code",
   "execution_count": 64,
   "id": "17bd9d81-e87c-4537-8729-0dd726509819",
   "metadata": {},
   "outputs": [],
   "source": [
    "from random import randint"
   ]
  },
  {
   "cell_type": "code",
   "execution_count": 65,
   "id": "3586e781-20dd-49ea-994e-99e693a933f6",
   "metadata": {},
   "outputs": [
    {
     "data": {
      "text/plain": [
       "3"
      ]
     },
     "execution_count": 65,
     "metadata": {},
     "output_type": "execute_result"
    }
   ],
   "source": [
    "randint(1,100)"
   ]
  },
  {
   "cell_type": "code",
   "execution_count": 69,
   "id": "53cb935a-dfda-46fe-bb1a-b08084604bdd",
   "metadata": {},
   "outputs": [
    {
     "name": "stdin",
     "output_type": "stream",
     "text": [
      "User input 12\n"
     ]
    },
    {
     "data": {
      "text/plain": [
       "12"
      ]
     },
     "execution_count": 69,
     "metadata": {},
     "output_type": "execute_result"
    }
   ],
   "source": [
    "result = int(input('User input'))\n",
    "result"
   ]
  }
 ],
 "metadata": {
  "kernelspec": {
   "display_name": "Python 3 (ipykernel)",
   "language": "python",
   "name": "python3"
  },
  "language_info": {
   "codemirror_mode": {
    "name": "ipython",
    "version": 3
   },
   "file_extension": ".py",
   "mimetype": "text/x-python",
   "name": "python",
   "nbconvert_exporter": "python",
   "pygments_lexer": "ipython3",
   "version": "3.12.5"
  }
 },
 "nbformat": 4,
 "nbformat_minor": 5
}
