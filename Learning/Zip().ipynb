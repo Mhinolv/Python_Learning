{
 "cells": [
  {
   "cell_type": "markdown",
   "id": "b3be03d2-72b7-44bd-b975-cfb417d28168",
   "metadata": {},
   "source": [
    "I dont know a lot about zip just yet or it's use-cases except for the fact that it can compact two lists together."
   ]
  },
  {
   "cell_type": "code",
   "execution_count": 4,
   "id": "a5bf837b-a36d-423d-8a08-41c9771f2c42",
   "metadata": {},
   "outputs": [],
   "source": [
    "list1 = [1,2,3]\n",
    "list2 = [4,5,6]\n",
    "\n",
    "list3 = list(zip(list1,list2))"
   ]
  }
 ],
 "metadata": {
  "kernelspec": {
   "display_name": "Python 3 (ipykernel)",
   "language": "python",
   "name": "python3"
  },
  "language_info": {
   "codemirror_mode": {
    "name": "ipython",
    "version": 3
   },
   "file_extension": ".py",
   "mimetype": "text/x-python",
   "name": "python",
   "nbconvert_exporter": "python",
   "pygments_lexer": "ipython3",
   "version": "3.12.5"
  }
 },
 "nbformat": 4,
 "nbformat_minor": 5
}
