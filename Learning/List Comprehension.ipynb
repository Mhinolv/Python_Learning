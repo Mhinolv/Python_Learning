{
 "cells": [
  {
   "cell_type": "code",
   "execution_count": 1,
   "id": "09f2f219-15ab-4dfa-8675-6af76618071e",
   "metadata": {},
   "outputs": [],
   "source": [
    "strVar = 'Hello'"
   ]
  },
  {
   "cell_type": "code",
   "execution_count": 2,
   "id": "647beb74-dd79-46ab-bdec-cc2b354ca090",
   "metadata": {},
   "outputs": [
    {
     "data": {
      "text/plain": [
       "['H', 'e', 'l', 'l', 'o']"
      ]
     },
     "execution_count": 2,
     "metadata": {},
     "output_type": "execute_result"
    }
   ],
   "source": [
    "mylist = []\n",
    "\n",
    "for letter in strVar:\n",
    "    mylist.append(letter)\n",
    "\n",
    "mylist"
   ]
  },
  {
   "cell_type": "code",
   "execution_count": 3,
   "id": "67fe3b28-7bdf-44df-83f5-ed09aa43f763",
   "metadata": {},
   "outputs": [
    {
     "data": {
      "text/plain": [
       "['H', 'e', 'l', 'l', 'o']"
      ]
     },
     "execution_count": 3,
     "metadata": {},
     "output_type": "execute_result"
    }
   ],
   "source": [
    "mylist = [letter for letter in strVar]\n",
    "mylist"
   ]
  },
  {
   "cell_type": "code",
   "execution_count": 5,
   "id": "ce11899e-b53b-454f-a757-26164c8f4378",
   "metadata": {},
   "outputs": [
    {
     "data": {
      "text/plain": [
       "['w', 'o', 'r', 'd']"
      ]
     },
     "execution_count": 5,
     "metadata": {},
     "output_type": "execute_result"
    }
   ],
   "source": [
    "mylist = [x for x in 'word']\n",
    "mylist"
   ]
  },
  {
   "cell_type": "code",
   "execution_count": 6,
   "id": "b1e924e1-071d-4b3c-88d5-61997abbb2c3",
   "metadata": {},
   "outputs": [
    {
     "data": {
      "text/plain": [
       "[1, 2, 3, 4, 5, 6, 7, 8, 9, 10]"
      ]
     },
     "execution_count": 6,
     "metadata": {},
     "output_type": "execute_result"
    }
   ],
   "source": [
    "numList = [num for num in range(1,11)]\n",
    "numList"
   ]
  },
  {
   "cell_type": "code",
   "execution_count": 8,
   "id": "129abc83-95b9-4b92-930c-3e89553f4d07",
   "metadata": {},
   "outputs": [
    {
     "data": {
      "text/plain": [
       "[0.0,\n",
       " 1.0837983867343681,\n",
       " 1.1220184543019633,\n",
       " 1.144997564643589,\n",
       " 1.1615863496415424]"
      ]
     },
     "execution_count": 8,
     "metadata": {},
     "output_type": "execute_result"
    }
   ],
   "source": [
    "squareList = [num**.05 for num in range(0,21,5)]\n",
    "squareList"
   ]
  },
  {
   "cell_type": "code",
   "execution_count": 10,
   "id": "9c05949a-9fb8-4489-82e8-472d5a3e7ae8",
   "metadata": {},
   "outputs": [
    {
     "data": {
      "text/plain": [
       "[0, 2, 4, 6, 8, 10, 12, 14, 16, 18, 20]"
      ]
     },
     "execution_count": 10,
     "metadata": {},
     "output_type": "execute_result"
    }
   ],
   "source": [
    "evenList = [num for num in range(0,21) if num % 2 == 0]\n",
    "evenList"
   ]
  },
  {
   "cell_type": "code",
   "execution_count": 13,
   "id": "6ce16c67-cbf5-401c-ad9d-e910ae4c6b6b",
   "metadata": {},
   "outputs": [
    {
     "data": {
      "text/plain": [
       "[71.6, 113.0, 87.8, 60.8]"
      ]
     },
     "execution_count": 13,
     "metadata": {},
     "output_type": "execute_result"
    }
   ],
   "source": [
    "celcius = [22,45,31,16]\n",
    "\n",
    "fahrenheit = [round((9/5 * temp + 32),1)  for temp in celcius]\n",
    "fahrenheit"
   ]
  },
  {
   "cell_type": "code",
   "execution_count": 14,
   "id": "0c98f294-d157-4fe7-bcfb-58e8ff32b34b",
   "metadata": {},
   "outputs": [
    {
     "data": {
      "text/plain": [
       "[0, 'ODD', 2, 'ODD', 4, 'ODD', 6, 'ODD', 8, 'ODD', 10]"
      ]
     },
     "execution_count": 14,
     "metadata": {},
     "output_type": "execute_result"
    }
   ],
   "source": [
    "results = [x if x % 2 == 0 else 'ODD' for x in range(0,11)]\n",
    "results"
   ]
  },
  {
   "cell_type": "code",
   "execution_count": 15,
   "id": "39c4dd37-70c4-4726-a1f5-b5a6d11601b3",
   "metadata": {},
   "outputs": [
    {
     "data": {
      "text/plain": [
       "[200, 400, 600, 400, 800, 1200, 600, 1200, 1800]"
      ]
     },
     "execution_count": 15,
     "metadata": {},
     "output_type": "execute_result"
    }
   ],
   "source": [
    "mylist = [] \n",
    "\n",
    "for x in [2,4,6]:\n",
    "    for y in [100,200,300]:\n",
    "        mylist.append(x*y)\n",
    "\n",
    "mylist"
   ]
  },
  {
   "cell_type": "code",
   "execution_count": 17,
   "id": "135d2772-17ed-446d-988f-d7ee1fd807b9",
   "metadata": {},
   "outputs": [
    {
     "data": {
      "text/plain": [
       "[2, 20, 2000, 4, 40, 4000, 6, 60, 6000]"
      ]
     },
     "execution_count": 17,
     "metadata": {},
     "output_type": "execute_result"
    }
   ],
   "source": [
    "mylist = [x*y for x in [2,4,6] for y in [1,10,1000]]\n",
    "mylist"
   ]
  }
 ],
 "metadata": {
  "kernelspec": {
   "display_name": "Python 3 (ipykernel)",
   "language": "python",
   "name": "python3"
  },
  "language_info": {
   "codemirror_mode": {
    "name": "ipython",
    "version": 3
   },
   "file_extension": ".py",
   "mimetype": "text/x-python",
   "name": "python",
   "nbconvert_exporter": "python",
   "pygments_lexer": "ipython3",
   "version": "3.12.5"
  }
 },
 "nbformat": 4,
 "nbformat_minor": 5
}
