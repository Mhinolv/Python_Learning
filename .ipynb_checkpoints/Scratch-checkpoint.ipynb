{
 "cells": [
  {
   "cell_type": "code",
   "execution_count": 12,
   "id": "3d3aa669-1371-4e5b-bc26-fc06572fb57d",
   "metadata": {},
   "outputs": [],
   "source": [
    "a = 'a2'"
   ]
  },
  {
   "cell_type": "code",
   "execution_count": 7,
   "id": "8e627325-2bc4-4f14-96e1-909f3252c0b1",
   "metadata": {},
   "outputs": [
    {
     "data": {
      "text/plain": [
       "False"
      ]
     },
     "execution_count": 7,
     "metadata": {},
     "output_type": "execute_result"
    }
   ],
   "source": [
    "a.isalpha()"
   ]
  },
  {
   "cell_type": "code",
   "execution_count": 8,
   "id": "0e9f3676-f6e7-4c65-9ecd-e56f01653d91",
   "metadata": {},
   "outputs": [
    {
     "name": "stdin",
     "output_type": "stream",
     "text": [
      "What is your password Cherrytree1\n"
     ]
    }
   ],
   "source": [
    "password = input('What is your password')"
   ]
  },
  {
   "cell_type": "code",
   "execution_count": 9,
   "id": "62b83adb-6b88-4bd1-b363-44e7ddcc84e0",
   "metadata": {},
   "outputs": [
    {
     "data": {
      "text/plain": [
       "True"
      ]
     },
     "execution_count": 9,
     "metadata": {},
     "output_type": "execute_result"
    }
   ],
   "source": [
    "password.isalnum()"
   ]
  },
  {
   "cell_type": "code",
   "execution_count": 13,
   "id": "bba3e8e5-eecc-47a2-bb9f-40fde85ded5a",
   "metadata": {},
   "outputs": [
    {
     "data": {
      "text/plain": [
       "False"
      ]
     },
     "execution_count": 13,
     "metadata": {},
     "output_type": "execute_result"
    }
   ],
   "source": [
    "a.isalpha()"
   ]
  },
  {
   "cell_type": "code",
   "execution_count": 14,
   "id": "cbde5630-53c3-46f2-bf56-631a47eb9e70",
   "metadata": {},
   "outputs": [
    {
     "data": {
      "text/plain": [
       "False"
      ]
     },
     "execution_count": 14,
     "metadata": {},
     "output_type": "execute_result"
    }
   ],
   "source": [
    "a.isnumeric()"
   ]
  },
  {
   "cell_type": "code",
   "execution_count": 15,
   "id": "c6dacabf-5f4b-453d-9833-d71892940235",
   "metadata": {},
   "outputs": [],
   "source": [
    "a = 375"
   ]
  },
  {
   "cell_type": "code",
   "execution_count": 24,
   "id": "e2ad7be9-940a-4011-9b22-175af5c2473c",
   "metadata": {},
   "outputs": [
    {
     "data": {
      "text/plain": [
       "7"
      ]
     },
     "execution_count": 24,
     "metadata": {},
     "output_type": "execute_result"
    }
   ],
   "source": [
    "a % 16"
   ]
  },
  {
   "cell_type": "code",
   "execution_count": 25,
   "id": "fc40784e-65a9-4378-bffa-30117eaccd43",
   "metadata": {},
   "outputs": [
    {
     "data": {
      "text/plain": [
       "23"
      ]
     },
     "execution_count": 25,
     "metadata": {},
     "output_type": "execute_result"
    }
   ],
   "source": [
    "a % 32"
   ]
  },
  {
   "cell_type": "code",
   "execution_count": 20,
   "id": "940a11c6-7187-4489-a64d-7cf40cc5cdbf",
   "metadata": {},
   "outputs": [
    {
     "data": {
      "text/plain": [
       "7"
      ]
     },
     "execution_count": 20,
     "metadata": {},
     "output_type": "execute_result"
    }
   ],
   "source": [
    "a % 8"
   ]
  },
  {
   "cell_type": "code",
   "execution_count": 26,
   "id": "5b76b942-9704-47db-b9e7-5d9467af80c7",
   "metadata": {},
   "outputs": [],
   "source": [
    "b = '12'"
   ]
  },
  {
   "cell_type": "code",
   "execution_count": 27,
   "id": "9bcf5afe-22d8-491c-9d3a-f02507cc95c6",
   "metadata": {},
   "outputs": [
    {
     "data": {
      "text/plain": [
       "True"
      ]
     },
     "execution_count": 27,
     "metadata": {},
     "output_type": "execute_result"
    }
   ],
   "source": [
    "b.isdecimal()"
   ]
  },
  {
   "cell_type": "code",
   "execution_count": 32,
   "id": "0eb5d3d8-cdd3-486a-9b81-5b217a3aa55d",
   "metadata": {},
   "outputs": [],
   "source": [
    "b = 375"
   ]
  },
  {
   "cell_type": "code",
   "execution_count": 33,
   "id": "de5c19c3-7e3c-4624-b75f-6b15357eb520",
   "metadata": {},
   "outputs": [
    {
     "data": {
      "text/plain": [
       "7"
      ]
     },
     "execution_count": 33,
     "metadata": {},
     "output_type": "execute_result"
    }
   ],
   "source": [
    "b % 16"
   ]
  },
  {
   "cell_type": "code",
   "execution_count": 35,
   "id": "c5d155e9-a1d8-466d-bd07-9b40afae7b1b",
   "metadata": {},
   "outputs": [
    {
     "data": {
      "text/plain": [
       "23.0"
      ]
     },
     "execution_count": 35,
     "metadata": {},
     "output_type": "execute_result"
    }
   ],
   "source": [
    "(b - (b % 16)) / 16"
   ]
  },
  {
   "cell_type": "code",
   "execution_count": 38,
   "id": "5db1b11d-4253-480b-ba39-56464b05116d",
   "metadata": {},
   "outputs": [
    {
     "data": {
      "text/plain": [
       "0.0"
      ]
     },
     "execution_count": 38,
     "metadata": {},
     "output_type": "execute_result"
    }
   ],
   "source": [
    "(.375 * 16) % .0625"
   ]
  },
  {
   "cell_type": "code",
   "execution_count": 46,
   "id": "f9fcf5a7-669c-4575-9308-7d351f182bac",
   "metadata": {},
   "outputs": [
    {
     "data": {
      "text/plain": [
       "0.375"
      ]
     },
     "execution_count": 46,
     "metadata": {},
     "output_type": "execute_result"
    }
   ],
   "source": [
    "375 / 1000"
   ]
  },
  {
   "cell_type": "code",
   "execution_count": 42,
   "id": "26ca735f-b44f-41bd-9274-d02c9a6855e8",
   "metadata": {},
   "outputs": [
    {
     "data": {
      "text/plain": [
       "False"
      ]
     },
     "execution_count": 42,
     "metadata": {},
     "output_type": "execute_result"
    }
   ],
   "source": [
    "a.isdecimal()"
   ]
  },
  {
   "cell_type": "code",
   "execution_count": 52,
   "id": "95680ac4-16a1-4e6d-a092-c93cfbe725f1",
   "metadata": {},
   "outputs": [
    {
     "data": {
      "text/plain": [
       "False"
      ]
     },
     "execution_count": 52,
     "metadata": {},
     "output_type": "execute_result"
    }
   ],
   "source": [
    "'.375'.isdigit()"
   ]
  },
  {
   "cell_type": "code",
   "execution_count": 53,
   "id": "ea0ef087-56e7-41e8-89e4-31d62e7d0915",
   "metadata": {},
   "outputs": [
    {
     "data": {
      "text/plain": [
       "0.03125"
      ]
     },
     "execution_count": 53,
     "metadata": {},
     "output_type": "execute_result"
    }
   ],
   "source": [
    "1/32"
   ]
  },
  {
   "cell_type": "code",
   "execution_count": 54,
   "id": "2e8f1f5b-7d6e-4b6c-8eaa-950ece989f66",
   "metadata": {},
   "outputs": [
    {
     "data": {
      "text/plain": [
       "6.0"
      ]
     },
     "execution_count": 54,
     "metadata": {},
     "output_type": "execute_result"
    }
   ],
   "source": [
    "(.375 * 16)"
   ]
  },
  {
   "cell_type": "code",
   "execution_count": 56,
   "id": "8e09124f-d443-4d18-abcd-19f44c7ed262",
   "metadata": {},
   "outputs": [
    {
     "data": {
      "text/plain": [
       "False"
      ]
     },
     "execution_count": 56,
     "metadata": {},
     "output_type": "execute_result"
    }
   ],
   "source": [
    "(.375 * 16) % .0625  < (.375 * 32) % .03125"
   ]
  },
  {
   "cell_type": "code",
   "execution_count": 59,
   "id": "89c302c8-c336-41bb-8b28-b7eebdc5eecc",
   "metadata": {},
   "outputs": [
    {
     "data": {
      "text/plain": [
       "0.04999999999999982"
      ]
     },
     "execution_count": 59,
     "metadata": {},
     "output_type": "execute_result"
    }
   ],
   "source": [
    "(.425 * 16) % .0625"
   ]
  },
  {
   "cell_type": "code",
   "execution_count": 60,
   "id": "d1fdef1a-f4d9-4236-ae83-fc0a68090a03",
   "metadata": {},
   "outputs": [
    {
     "data": {
      "text/plain": [
       "0.006249999999999645"
      ]
     },
     "execution_count": 60,
     "metadata": {},
     "output_type": "execute_result"
    }
   ],
   "source": [
    "(.425 * 32) % .03125"
   ]
  },
  {
   "cell_type": "code",
   "execution_count": 61,
   "id": "7d53e604-19c3-4362-9dd8-17187758c426",
   "metadata": {},
   "outputs": [
    {
     "data": {
      "text/plain": [
       "13.6"
      ]
     },
     "execution_count": 61,
     "metadata": {},
     "output_type": "execute_result"
    }
   ],
   "source": [
    "(.425 * 32)"
   ]
  },
  {
   "cell_type": "code",
   "execution_count": 62,
   "id": "c97c4b62-7755-41b7-80bf-fe3d8ef94f6e",
   "metadata": {},
   "outputs": [
    {
     "data": {
      "text/plain": [
       "0.006249999999999645"
      ]
     },
     "execution_count": 62,
     "metadata": {},
     "output_type": "execute_result"
    }
   ],
   "source": [
    "13.6 % .03125"
   ]
  },
  {
   "cell_type": "code",
   "execution_count": 69,
   "id": "f3d69d18-da54-4e47-aeec-6171504a432b",
   "metadata": {},
   "outputs": [
    {
     "data": {
      "text/plain": [
       "0.006249999999999645"
      ]
     },
     "execution_count": 69,
     "metadata": {},
     "output_type": "execute_result"
    }
   ],
   "source": [
    "(.425 * 32) % .03125"
   ]
  },
  {
   "cell_type": "code",
   "execution_count": 68,
   "id": "60b48803-3735-4ec0-82bb-e12f85ea876a",
   "metadata": {},
   "outputs": [
    {
     "data": {
      "text/plain": [
       "13"
      ]
     },
     "execution_count": 68,
     "metadata": {},
     "output_type": "execute_result"
    }
   ],
   "source": [
    "int(13.59375)"
   ]
  },
  {
   "cell_type": "code",
   "execution_count": 75,
   "id": "90e5ca5b-abe9-45bd-b134-60eda416cfde",
   "metadata": {},
   "outputs": [],
   "source": [
    "c = .497"
   ]
  },
  {
   "cell_type": "code",
   "execution_count": 76,
   "id": "759cd017-e189-480f-beb3-a6cbb680f35a",
   "metadata": {},
   "outputs": [
    {
     "data": {
      "text/plain": [
       "0.0"
      ]
     },
     "execution_count": 76,
     "metadata": {},
     "output_type": "execute_result"
    }
   ],
   "source": [
    "round(c, 0)"
   ]
  },
  {
   "cell_type": "code",
   "execution_count": 1,
   "id": "c2d50033-a916-4346-9a0a-c5362f071d10",
   "metadata": {},
   "outputs": [],
   "source": [
    "newList = []"
   ]
  },
  {
   "cell_type": "code",
   "execution_count": 3,
   "id": "ceedbda9-7db4-40c4-9ae8-7e7a1fcd0068",
   "metadata": {},
   "outputs": [
    {
     "name": "stdin",
     "output_type": "stream",
     "text": [
      "What is your favorite fruit? Apple\n"
     ]
    }
   ],
   "source": [
    "newList.append(input('What is your favorite fruit?'))"
   ]
  },
  {
   "cell_type": "code",
   "execution_count": 4,
   "id": "43a9bd34-c779-4c12-ab42-44bf7d1bc264",
   "metadata": {},
   "outputs": [
    {
     "data": {
      "text/plain": [
       "['Apple']"
      ]
     },
     "execution_count": 4,
     "metadata": {},
     "output_type": "execute_result"
    }
   ],
   "source": [
    "newList"
   ]
  },
  {
   "cell_type": "code",
   "execution_count": 5,
   "id": "e19cab10-a18b-4d33-a483-b9df496507aa",
   "metadata": {},
   "outputs": [
    {
     "name": "stdin",
     "output_type": "stream",
     "text": [
      "What is your favorite number 12\n"
     ]
    }
   ],
   "source": [
    "newList.append(input('What is your favorite number'))"
   ]
  },
  {
   "cell_type": "code",
   "execution_count": 6,
   "id": "1bd3a493-7cf0-4373-92a3-e06dc3b9c0a8",
   "metadata": {},
   "outputs": [
    {
     "data": {
      "text/plain": [
       "['Apple', '12']"
      ]
     },
     "execution_count": 6,
     "metadata": {},
     "output_type": "execute_result"
    }
   ],
   "source": [
    "newList"
   ]
  },
  {
   "cell_type": "code",
   "execution_count": 7,
   "id": "dcd6ce38-2fae-4b6a-90bd-846007b75949",
   "metadata": {},
   "outputs": [],
   "source": [
    "newDict = {}"
   ]
  },
  {
   "cell_type": "code",
   "execution_count": 19,
   "id": "ca97809f-2dcb-477c-8162-4840636925b8",
   "metadata": {},
   "outputs": [
    {
     "name": "stdin",
     "output_type": "stream",
     "text": [
      "What is your password? Password1\n"
     ]
    }
   ],
   "source": [
    "newDict = {'Pass':input('What is your password?')}"
   ]
  },
  {
   "cell_type": "code",
   "execution_count": 20,
   "id": "b05c9612-0505-450a-8140-c98c4f67b89e",
   "metadata": {},
   "outputs": [
    {
     "data": {
      "text/plain": [
       "{'Pass': 'Password1'}"
      ]
     },
     "execution_count": 20,
     "metadata": {},
     "output_type": "execute_result"
    }
   ],
   "source": [
    "newDict"
   ]
  },
  {
   "cell_type": "code",
   "execution_count": 21,
   "id": "3e89ba71-7da0-48f4-85ac-2bf8428e9ee5",
   "metadata": {},
   "outputs": [
    {
     "data": {
      "text/plain": [
       "'12'"
      ]
     },
     "execution_count": 21,
     "metadata": {},
     "output_type": "execute_result"
    }
   ],
   "source": [
    "newList.pop()"
   ]
  },
  {
   "cell_type": "code",
   "execution_count": 22,
   "id": "b5af77b7-2e9c-4845-a391-554fe27ac30b",
   "metadata": {},
   "outputs": [
    {
     "data": {
      "text/plain": [
       "['Apple']"
      ]
     },
     "execution_count": 22,
     "metadata": {},
     "output_type": "execute_result"
    }
   ],
   "source": [
    "newList"
   ]
  },
  {
   "cell_type": "code",
   "execution_count": 23,
   "id": "8b2e7764-8ef7-4553-bf2c-b71e382bc70c",
   "metadata": {},
   "outputs": [],
   "source": [
    "newList.append(13)"
   ]
  },
  {
   "cell_type": "code",
   "execution_count": 25,
   "id": "a1716022-9f3c-44a9-a2ab-a7349e692c85",
   "metadata": {},
   "outputs": [],
   "source": [
    "newList.extend([1,2,3])"
   ]
  },
  {
   "cell_type": "code",
   "execution_count": 26,
   "id": "b17d0f3d-e2bd-4c15-94bb-4430130e0b33",
   "metadata": {},
   "outputs": [
    {
     "data": {
      "text/plain": [
       "['Apple', 13, 1, 2, 3]"
      ]
     },
     "execution_count": 26,
     "metadata": {},
     "output_type": "execute_result"
    }
   ],
   "source": [
    "newList"
   ]
  },
  {
   "cell_type": "code",
   "execution_count": 27,
   "id": "4200d2c3-3cfb-45f7-901d-397d70d0f3a1",
   "metadata": {},
   "outputs": [
    {
     "data": {
      "text/plain": [
       "['Apple', 13, 1, 2, 3, 4, 5, 6]"
      ]
     },
     "execution_count": 27,
     "metadata": {},
     "output_type": "execute_result"
    }
   ],
   "source": [
    "newList + [4,5,6]"
   ]
  },
  {
   "cell_type": "code",
   "execution_count": 37,
   "id": "5a1420a4-7b57-4490-9908-4c99fdc6655d",
   "metadata": {},
   "outputs": [
    {
     "data": {
      "text/plain": [
       "'Apple'"
      ]
     },
     "execution_count": 37,
     "metadata": {},
     "output_type": "execute_result"
    }
   ],
   "source": [
    "newList.pop(0)"
   ]
  },
  {
   "cell_type": "code",
   "execution_count": 38,
   "id": "15b2b332-e6e5-4c5c-876e-9f42e3d007c7",
   "metadata": {},
   "outputs": [
    {
     "data": {
      "text/plain": [
       "[13, 3, 2, 1]"
      ]
     },
     "execution_count": 38,
     "metadata": {},
     "output_type": "execute_result"
    }
   ],
   "source": [
    "newList"
   ]
  },
  {
   "cell_type": "code",
   "execution_count": 39,
   "id": "fa7793d9-cc79-448a-8d0b-cc31b0157a9e",
   "metadata": {},
   "outputs": [],
   "source": [
    "newList.sort()"
   ]
  },
  {
   "cell_type": "code",
   "execution_count": 40,
   "id": "67911a4c-ebd5-45a4-ab22-566b55a48a56",
   "metadata": {},
   "outputs": [
    {
     "data": {
      "text/plain": [
       "[1, 2, 3, 13]"
      ]
     },
     "execution_count": 40,
     "metadata": {},
     "output_type": "execute_result"
    }
   ],
   "source": [
    "newList"
   ]
  },
  {
   "cell_type": "code",
   "execution_count": 43,
   "id": "da1b62d4-6c25-4413-8813-904bf3b62c26",
   "metadata": {},
   "outputs": [
    {
     "data": {
      "text/plain": [
       "{1, 2, 3, 13}"
      ]
     },
     "execution_count": 43,
     "metadata": {},
     "output_type": "execute_result"
    }
   ],
   "source": [
    "set(newList)"
   ]
  },
  {
   "cell_type": "code",
   "execution_count": 46,
   "id": "ac5ba74d-868f-4d8a-b647-1a2024ef1696",
   "metadata": {},
   "outputs": [],
   "source": [
    "setList = {1,1,2,3}"
   ]
  },
  {
   "cell_type": "code",
   "execution_count": 48,
   "id": "648713f3-f813-42da-ba38-33fd7d5124d9",
   "metadata": {},
   "outputs": [],
   "source": [
    "newDict = {}"
   ]
  },
  {
   "cell_type": "code",
   "execution_count": 49,
   "id": "fcf825e0-ba7a-4007-a0b0-802e2232f1ff",
   "metadata": {},
   "outputs": [],
   "source": [
    "strVar = 'Hello'"
   ]
  },
  {
   "cell_type": "code",
   "execution_count": 50,
   "id": "fa986a27-cf52-4ac7-ad1e-f489dde0e4b4",
   "metadata": {},
   "outputs": [
    {
     "data": {
      "text/plain": [
       "1"
      ]
     },
     "execution_count": 50,
     "metadata": {},
     "output_type": "execute_result"
    }
   ],
   "source": [
    "strVar.find('e')"
   ]
  },
  {
   "cell_type": "code",
   "execution_count": 51,
   "id": "386b9bc2-7c1f-491c-af97-1764dd302064",
   "metadata": {},
   "outputs": [],
   "source": [
    "if strVar.find('e') < 2:\n",
    "    strVar = strVar + 'e'*3"
   ]
  },
  {
   "cell_type": "code",
   "execution_count": 53,
   "id": "fd2d51c2-121e-4a40-af5c-2ca08271bcaa",
   "metadata": {},
   "outputs": [
    {
     "data": {
      "text/plain": [
       "'Helloeee'"
      ]
     },
     "execution_count": 53,
     "metadata": {},
     "output_type": "execute_result"
    }
   ],
   "source": [
    "strVar.expandtabs()"
   ]
  },
  {
   "cell_type": "code",
   "execution_count": 54,
   "id": "30b05bb4-d6c2-4026-a9dc-4afde4eda73b",
   "metadata": {},
   "outputs": [
    {
     "data": {
      "text/plain": [
       "True"
      ]
     },
     "execution_count": 54,
     "metadata": {},
     "output_type": "execute_result"
    }
   ],
   "source": [
    "strVar.startswith('H')"
   ]
  },
  {
   "cell_type": "code",
   "execution_count": 56,
   "id": "26d7a59a-1ec0-4a51-9b13-862f9e4aa664",
   "metadata": {},
   "outputs": [
    {
     "name": "stdout",
     "output_type": "stream",
     "text": [
      "Sick H\n"
     ]
    }
   ],
   "source": [
    "if strVar.startswith('H'):\n",
    "    print('Sick H')"
   ]
  },
  {
   "cell_type": "code",
   "execution_count": 57,
   "id": "f75f2c1b-89fa-4f08-9e11-de685974a4ed",
   "metadata": {},
   "outputs": [
    {
     "data": {
      "text/plain": [
       "True"
      ]
     },
     "execution_count": 57,
     "metadata": {},
     "output_type": "execute_result"
    }
   ],
   "source": [
    "strVar.istitle()"
   ]
  },
  {
   "cell_type": "code",
   "execution_count": 58,
   "id": "8b0d9132-324b-4ad9-8144-b61bb6c8df16",
   "metadata": {},
   "outputs": [],
   "source": [
    "strVar = 'banana'"
   ]
  },
  {
   "cell_type": "code",
   "execution_count": 59,
   "id": "74827264-a0b9-4727-aa66-77f997f10c1b",
   "metadata": {},
   "outputs": [
    {
     "data": {
      "text/plain": [
       "2"
      ]
     },
     "execution_count": 59,
     "metadata": {},
     "output_type": "execute_result"
    }
   ],
   "source": [
    "strVar.count('na')"
   ]
  },
  {
   "cell_type": "code",
   "execution_count": 60,
   "id": "49159fa0-554c-4f12-afaf-962f4507e2e3",
   "metadata": {},
   "outputs": [],
   "source": [
    "if strVar.count('na') < 4:\n",
    "    strVar = (strVar + 'na' * 3).upper()"
   ]
  },
  {
   "cell_type": "code",
   "execution_count": 61,
   "id": "00bddf38-3ff2-4063-ac7e-3e701b0a40bf",
   "metadata": {},
   "outputs": [
    {
     "data": {
      "text/plain": [
       "'BANANANANANA'"
      ]
     },
     "execution_count": 61,
     "metadata": {},
     "output_type": "execute_result"
    }
   ],
   "source": [
    "strVar"
   ]
  },
  {
   "cell_type": "code",
   "execution_count": 62,
   "id": "a6a9a8ad-c3e7-43d7-a934-3d3451088274",
   "metadata": {},
   "outputs": [],
   "source": [
    "newDict = {'Number' : 2}"
   ]
  },
  {
   "cell_type": "code",
   "execution_count": 75,
   "id": "dfd7238c-a38e-4a30-b643-2ff08580584d",
   "metadata": {},
   "outputs": [],
   "source": [
    "newDict['Number'] = 3"
   ]
  },
  {
   "cell_type": "code",
   "execution_count": 76,
   "id": "bf3e948a-9267-41b1-ad46-3f647cfb76bb",
   "metadata": {},
   "outputs": [
    {
     "data": {
      "text/plain": [
       "{'Number': 3}"
      ]
     },
     "execution_count": 76,
     "metadata": {},
     "output_type": "execute_result"
    }
   ],
   "source": [
    "newDict"
   ]
  },
  {
   "cell_type": "code",
   "execution_count": 79,
   "id": "cae48cbb-5600-499f-a895-f5a606bbda57",
   "metadata": {},
   "outputs": [],
   "source": [
    "newDict = {'Position':1,'Car':'Honda'}"
   ]
  },
  {
   "cell_type": "code",
   "execution_count": 80,
   "id": "db95009a-3212-4739-91bf-074b779058d1",
   "metadata": {},
   "outputs": [],
   "source": [
    "listTest = newDict.keys()"
   ]
  },
  {
   "cell_type": "code",
   "execution_count": 81,
   "id": "3a06819d-2cfe-4b9f-9d72-82437df4f5fb",
   "metadata": {},
   "outputs": [
    {
     "data": {
      "text/plain": [
       "dict_keys(['Position', 'Car'])"
      ]
     },
     "execution_count": 81,
     "metadata": {},
     "output_type": "execute_result"
    }
   ],
   "source": [
    "listTest"
   ]
  },
  {
   "cell_type": "code",
   "execution_count": 82,
   "id": "32203a7c-bc5e-4046-9eb1-597ee6cef744",
   "metadata": {},
   "outputs": [
    {
     "name": "stdout",
     "output_type": "stream",
     "text": [
      "Yee-haw\n"
     ]
    }
   ],
   "source": [
    "if newDict['Position'] != 1:\n",
    "    print('If you are not first, you are last')\n",
    "else:\n",
    "    print('Yee-haw')"
   ]
  },
  {
   "cell_type": "code",
   "execution_count": 84,
   "id": "1a073d17-1d08-4d6c-b294-f25488303f76",
   "metadata": {},
   "outputs": [],
   "source": [
    "newDict.update({'Position':5})"
   ]
  },
  {
   "cell_type": "code",
   "execution_count": 86,
   "id": "b2ca9664-cae9-40e9-a9fe-7d52986b9b12",
   "metadata": {},
   "outputs": [
    {
     "name": "stdout",
     "output_type": "stream",
     "text": [
      "If you are not first, you are last\n"
     ]
    }
   ],
   "source": [
    "if newDict['Position'] != 1:\n",
    "    print('If you are not first, you are last')\n",
    "else:\n",
    "    print('Yee-haw')"
   ]
  },
  {
   "cell_type": "code",
   "execution_count": 3,
   "id": "9b9cac59-b398-4fa5-a152-2f95c8eb5cfc",
   "metadata": {},
   "outputs": [],
   "source": [
    "newList = [1,[1,2],[1,2],2]"
   ]
  },
  {
   "cell_type": "code",
   "execution_count": 4,
   "id": "860c3033-b87b-4ce6-8b61-395cd1d20add",
   "metadata": {},
   "outputs": [
    {
     "data": {
      "text/plain": [
       "[1, [1, 2], [1, 2], 2]"
      ]
     },
     "execution_count": 4,
     "metadata": {},
     "output_type": "execute_result"
    }
   ],
   "source": [
    "newList"
   ]
  },
  {
   "cell_type": "code",
   "execution_count": 5,
   "id": "5a0f6455-55f0-49b8-8997-8f1aaca3bb39",
   "metadata": {},
   "outputs": [],
   "source": [
    "newList2 = newList.copy()"
   ]
  },
  {
   "cell_type": "code",
   "execution_count": 6,
   "id": "bb8ea7b9-8983-4e6b-89a1-1a4727c60988",
   "metadata": {},
   "outputs": [
    {
     "data": {
      "text/plain": [
       "[1, [1, 2], [1, 2], 2]"
      ]
     },
     "execution_count": 6,
     "metadata": {},
     "output_type": "execute_result"
    }
   ],
   "source": [
    "newList2"
   ]
  },
  {
   "cell_type": "code",
   "execution_count": 7,
   "id": "8a5f3868-4abe-428f-96a9-9977625347bc",
   "metadata": {},
   "outputs": [],
   "source": [
    "newList2[1][0] = 3"
   ]
  },
  {
   "cell_type": "code",
   "execution_count": 8,
   "id": "ed45f2ad-7400-46fc-803d-df54ef337522",
   "metadata": {},
   "outputs": [
    {
     "data": {
      "text/plain": [
       "[1, [3, 2], [1, 2], 2]"
      ]
     },
     "execution_count": 8,
     "metadata": {},
     "output_type": "execute_result"
    }
   ],
   "source": [
    "newList2"
   ]
  },
  {
   "cell_type": "code",
   "execution_count": 9,
   "id": "fac6c574-6b4b-4fd8-8f7a-71fe06ca1129",
   "metadata": {},
   "outputs": [
    {
     "data": {
      "text/plain": [
       "[1, [3, 2], [1, 2], 2]"
      ]
     },
     "execution_count": 9,
     "metadata": {},
     "output_type": "execute_result"
    }
   ],
   "source": [
    "newList"
   ]
  },
  {
   "cell_type": "code",
   "execution_count": 55,
   "id": "6b5e4b45-71f4-4d4c-95ad-2339aad925a8",
   "metadata": {},
   "outputs": [],
   "source": [
    "newList = []"
   ]
  },
  {
   "cell_type": "code",
   "execution_count": 56,
   "id": "a7a26755-6cb2-41be-af0f-e15d3a34c2b0",
   "metadata": {},
   "outputs": [],
   "source": [
    "for nums in range(1,21):\n",
    "    newList.append(nums)"
   ]
  },
  {
   "cell_type": "code",
   "execution_count": 57,
   "id": "3ebc4b43-7276-418b-8d8a-21b943c6f8fc",
   "metadata": {},
   "outputs": [
    {
     "data": {
      "text/plain": [
       "[1, 2, 3, 4, 5, 6, 7, 8, 9, 10, 11, 12, 13, 14, 15, 16, 17, 18, 19, 20]"
      ]
     },
     "execution_count": 57,
     "metadata": {},
     "output_type": "execute_result"
    }
   ],
   "source": [
    "newList"
   ]
  },
  {
   "cell_type": "code",
   "execution_count": 58,
   "id": "ecb12036-6b5b-48a2-998b-48f59b3483ae",
   "metadata": {},
   "outputs": [],
   "source": [
    "for nums in newList:\n",
    "    if nums % 2 == 0:\n",
    "        newList.remove(nums)"
   ]
  },
  {
   "cell_type": "code",
   "execution_count": 59,
   "id": "6eebe0ea-f12a-4d5d-8a3b-6ed4ce3bf05a",
   "metadata": {},
   "outputs": [
    {
     "data": {
      "text/plain": [
       "[1, 3, 5, 7, 9, 11, 13, 15, 17, 19]"
      ]
     },
     "execution_count": 59,
     "metadata": {},
     "output_type": "execute_result"
    }
   ],
   "source": [
    "newList"
   ]
  },
  {
   "cell_type": "code",
   "execution_count": 64,
   "id": "e9af9ae3-9912-43c6-9b1e-b706c9357c44",
   "metadata": {},
   "outputs": [],
   "source": [
    "for nums in range(21,41,2):\n",
    "    newList.extend([nums])"
   ]
  },
  {
   "cell_type": "code",
   "execution_count": 65,
   "id": "17f9218f-8451-4af8-8f3f-1c56f4e28b35",
   "metadata": {},
   "outputs": [
    {
     "data": {
      "text/plain": [
       "[1, 3, 5, 7, 9, 11, 13, 15, 17, 19, 21, 23, 25, 27, 29, 31, 33, 35, 37, 39]"
      ]
     },
     "execution_count": 65,
     "metadata": {},
     "output_type": "execute_result"
    }
   ],
   "source": [
    "newList"
   ]
  },
  {
   "cell_type": "code",
   "execution_count": 72,
   "id": "926548b8-d505-4824-a5d5-9897689a7662",
   "metadata": {},
   "outputs": [],
   "source": [
    "counter = 1"
   ]
  },
  {
   "cell_type": "code",
   "execution_count": 73,
   "id": "40c4dc8d-c474-456a-92f4-d077893b4359",
   "metadata": {},
   "outputs": [
    {
     "name": "stdout",
     "output_type": "stream",
     "text": [
      "Hello number 1\n",
      "Hello number 2\n",
      "Hello number 3\n",
      "Hello number 4\n",
      "Hello number 5\n",
      "Hello number 6\n",
      "Hello number 7\n",
      "Hello number 8\n",
      "Hello number 9\n",
      "Hello number 10\n"
     ]
    }
   ],
   "source": [
    "while counter <= 10:\n",
    "    print(f'Hello number {counter}')\n",
    "    counter = counter + 1"
   ]
  },
  {
   "cell_type": "code",
   "execution_count": 75,
   "id": "bb7cb8c4-5607-4b0a-8f26-9bdddbbb3289",
   "metadata": {},
   "outputs": [],
   "source": [
    "cars = {'Cars':['Honda','Toyota','Kia']}"
   ]
  },
  {
   "cell_type": "code",
   "execution_count": 76,
   "id": "48480614-e888-4473-867a-a2a0491e273e",
   "metadata": {},
   "outputs": [
    {
     "data": {
      "text/plain": [
       "dict_items([('Cars', ['Honda', 'Toyota', 'Kia'])])"
      ]
     },
     "execution_count": 76,
     "metadata": {},
     "output_type": "execute_result"
    }
   ],
   "source": [
    "cars.items()"
   ]
  },
  {
   "cell_type": "code",
   "execution_count": 78,
   "id": "0771bdd6-04c7-4874-bb14-597e8abecde7",
   "metadata": {},
   "outputs": [
    {
     "name": "stdout",
     "output_type": "stream",
     "text": [
      "The car is a Honda\n",
      "The car is a Toyota\n",
      "The car is a Kia\n"
     ]
    }
   ],
   "source": [
    "for items in cars['Cars']:\n",
    "    print(f'The car is a {items}')"
   ]
  },
  {
   "cell_type": "code",
   "execution_count": 79,
   "id": "ee232b95-d502-450d-81d1-8d7bda17a63e",
   "metadata": {},
   "outputs": [],
   "source": [
    "dict = {'k1':1,'k2':2,'k3':3}"
   ]
  },
  {
   "cell_type": "code",
   "execution_count": 83,
   "id": "76f8e5c3-6f38-4360-826a-4307e5836715",
   "metadata": {},
   "outputs": [
    {
     "name": "stdout",
     "output_type": "stream",
     "text": [
      "k1\n",
      "k2\n",
      "k3\n"
     ]
    }
   ],
   "source": [
    "for item in dict:\n",
    "    print(item)"
   ]
  },
  {
   "cell_type": "code",
   "execution_count": 84,
   "id": "4ee4a7b0-8c2f-44c1-a556-d105b3504bf5",
   "metadata": {},
   "outputs": [
    {
     "name": "stdout",
     "output_type": "stream",
     "text": [
      "('k1', 1)\n",
      "('k2', 2)\n",
      "('k3', 3)\n"
     ]
    }
   ],
   "source": [
    "for item in dict.items():\n",
    "    print(item)"
   ]
  },
  {
   "cell_type": "code",
   "execution_count": 88,
   "id": "88e0ab94-122d-41f0-8503-42946b7022de",
   "metadata": {},
   "outputs": [
    {
     "name": "stdout",
     "output_type": "stream",
     "text": [
      "1 is a small number\n",
      "2 is a small number\n",
      "3 is a small number\n"
     ]
    }
   ],
   "source": [
    "for a,b in dict.items():\n",
    "    if b < 5:\n",
    "        print(f'{b} is a small number')"
   ]
  },
  {
   "cell_type": "code",
   "execution_count": 89,
   "id": "7e04d772-3f3f-4b7a-8273-1cf1d6163d5c",
   "metadata": {},
   "outputs": [],
   "source": [
    "strVar = 'hello world'"
   ]
  },
  {
   "cell_type": "code",
   "execution_count": 90,
   "id": "493d56a6-3852-4984-ae9f-8a8be941e595",
   "metadata": {},
   "outputs": [
    {
     "name": "stdout",
     "output_type": "stream",
     "text": [
      "D\n",
      "L\n",
      "R\n",
      "O\n",
      "W\n",
      " \n",
      "O\n",
      "L\n",
      "L\n",
      "E\n",
      "H\n"
     ]
    }
   ],
   "source": [
    "for letters in strVar[::-1]:\n",
    "    print(letters.upper())"
   ]
  },
  {
   "cell_type": "code",
   "execution_count": 112,
   "id": "67c5ed4b-9170-432f-ac74-b88cbf734fba",
   "metadata": {},
   "outputs": [],
   "source": [
    "#Fizz Buzz Pop\n",
    "intVar = []"
   ]
  },
  {
   "cell_type": "code",
   "execution_count": 113,
   "id": "db21fdb1-dfc7-464b-b570-af93f6098947",
   "metadata": {},
   "outputs": [
    {
     "data": {
      "text/plain": [
       "[]"
      ]
     },
     "execution_count": 113,
     "metadata": {},
     "output_type": "execute_result"
    }
   ],
   "source": [
    "intVar"
   ]
  },
  {
   "cell_type": "code",
   "execution_count": 114,
   "id": "f2a913c8-8255-4cdf-bf29-407eaf24f62f",
   "metadata": {},
   "outputs": [],
   "source": [
    "for _ in range(1,101):\n",
    "    intVar.append(_)"
   ]
  },
  {
   "cell_type": "code",
   "execution_count": 115,
   "id": "11bec8af-50e7-40bf-b2bc-5efa42ee88fd",
   "metadata": {},
   "outputs": [
    {
     "data": {
      "text/plain": [
       "100"
      ]
     },
     "execution_count": 115,
     "metadata": {},
     "output_type": "execute_result"
    }
   ],
   "source": [
    "len(intVar)"
   ]
  },
  {
   "cell_type": "code",
   "execution_count": 117,
   "id": "0a0e5fa5-1b02-4891-9761-ce691c42e60b",
   "metadata": {},
   "outputs": [
    {
     "name": "stdout",
     "output_type": "stream",
     "text": [
      "1 - Buzz\n",
      "2 - Fizz\n",
      "3 - Buzz\n",
      "4 - Fizz\n",
      "5 - Buzz\n",
      "6 - Fizz\n",
      "7 - Buzz\n",
      "8 - Fizz\n",
      "9 - Buzz\n",
      "10 - Fizz\n",
      "11 - Buzz\n",
      "12 - Fizz\n",
      "13 - Buzz\n",
      "14 - Fizz\n",
      "15 - Buzz\n",
      "16 - Fizz\n",
      "17 - Buzz\n",
      "18 - Fizz\n",
      "19 - Buzz\n",
      "20 - Fizz\n",
      "21 - Buzz\n",
      "22 - Fizz\n",
      "23 - Buzz\n",
      "24 - Fizz\n",
      "25 - Buzz\n",
      "26 - Fizz\n",
      "27 - Buzz\n",
      "28 - Fizz\n",
      "29 - Buzz\n",
      "30 - Fizz\n",
      "31 - Buzz\n",
      "32 - Fizz\n",
      "33 - Buzz\n",
      "34 - Fizz\n",
      "35 - Buzz\n",
      "36 - Fizz\n",
      "37 - Buzz\n",
      "38 - Fizz\n",
      "39 - Buzz\n",
      "40 - Fizz\n",
      "41 - Buzz\n",
      "42 - Fizz\n",
      "43 - Buzz\n",
      "44 - Fizz\n",
      "45 - Buzz\n",
      "46 - Fizz\n",
      "47 - Buzz\n",
      "48 - Fizz\n",
      "49 - Buzz\n",
      "50 - Pop\n",
      "51 - Buzz\n",
      "52 - Fizz\n",
      "53 - Buzz\n",
      "54 - Fizz\n",
      "55 - Buzz\n",
      "56 - Fizz\n",
      "57 - Buzz\n",
      "58 - Fizz\n",
      "59 - Buzz\n",
      "60 - Fizz\n",
      "61 - Buzz\n",
      "62 - Fizz\n",
      "63 - Buzz\n",
      "64 - Fizz\n",
      "65 - Buzz\n",
      "66 - Fizz\n",
      "67 - Buzz\n",
      "68 - Fizz\n",
      "69 - Buzz\n",
      "70 - Fizz\n",
      "71 - Buzz\n",
      "72 - Fizz\n",
      "73 - Buzz\n",
      "74 - Fizz\n",
      "75 - Buzz\n",
      "76 - Fizz\n",
      "77 - Buzz\n",
      "78 - Fizz\n",
      "79 - Buzz\n",
      "80 - Fizz\n",
      "81 - Buzz\n",
      "82 - Fizz\n",
      "83 - Buzz\n",
      "84 - Fizz\n",
      "85 - Buzz\n",
      "86 - Fizz\n",
      "87 - Buzz\n",
      "88 - Fizz\n",
      "89 - Buzz\n",
      "90 - Fizz\n",
      "91 - Buzz\n",
      "92 - Fizz\n",
      "93 - Buzz\n",
      "94 - Fizz\n",
      "95 - Buzz\n",
      "96 - Fizz\n",
      "97 - Buzz\n",
      "98 - Fizz\n",
      "99 - Buzz\n",
      "100 - Pop\n"
     ]
    }
   ],
   "source": [
    "for nums in intVar:\n",
    "    if nums % 50 == 0:\n",
    "        print(f'{nums} - Pop')\n",
    "    elif nums % 2 == 0:\n",
    "        print(f'{nums} - Fizz')\n",
    "    else:\n",
    "        print(f'{nums} - Buzz')"
   ]
  },
  {
   "cell_type": "code",
   "execution_count": 162,
   "id": "f3838115-008e-443e-ab3d-1d76c4615bd1",
   "metadata": {},
   "outputs": [],
   "source": [
    "newDict = open('/Users/MarkHinojosa/Python_Learn/names and ages.txt')"
   ]
  },
  {
   "cell_type": "code",
   "execution_count": 163,
   "id": "91370365-2449-4305-8942-330f49a5ab04",
   "metadata": {},
   "outputs": [],
   "source": [
    "ageDict = newDict.read()"
   ]
  },
  {
   "cell_type": "code",
   "execution_count": 164,
   "id": "2015b563-90e8-4ef0-868e-c5aca813bc4a",
   "metadata": {},
   "outputs": [
    {
     "data": {
      "text/plain": [
       "0"
      ]
     },
     "execution_count": 164,
     "metadata": {},
     "output_type": "execute_result"
    }
   ],
   "source": [
    "newDict.seek(0) # Reset the position of the cursor"
   ]
  },
  {
   "cell_type": "code",
   "execution_count": 165,
   "id": "22abcf57-7972-4100-b6cd-8bb8b897ff04",
   "metadata": {},
   "outputs": [
    {
     "data": {
      "text/plain": [
       "\"{'Brad': 21, 'Alissa': 34, 'Courtney':19, 'Steve': 15, 'Rube': int(), 'Martin':50}\""
      ]
     },
     "execution_count": 165,
     "metadata": {},
     "output_type": "execute_result"
    }
   ],
   "source": [
    "newDict.read()"
   ]
  },
  {
   "cell_type": "code",
   "execution_count": 170,
   "id": "673acfcc-f2aa-49ce-8df7-0d465e9d849e",
   "metadata": {},
   "outputs": [],
   "source": [
    "newDict.close()"
   ]
  },
  {
   "cell_type": "code",
   "execution_count": 167,
   "id": "0fa2d1c3-3616-474b-a94e-53aa10735c19",
   "metadata": {},
   "outputs": [
    {
     "data": {
      "text/plain": [
       "\"{'Brad': 21, 'Alissa': 34, 'Courtney':19, 'Steve': 15, 'Rube': int(), 'Martin':50}\""
      ]
     },
     "execution_count": 167,
     "metadata": {},
     "output_type": "execute_result"
    }
   ],
   "source": [
    "ageDict"
   ]
  },
  {
   "cell_type": "code",
   "execution_count": 168,
   "id": "ec7fd83c-db98-4d7c-9971-13a6b8baffa5",
   "metadata": {},
   "outputs": [
    {
     "data": {
      "text/plain": [
       "str"
      ]
     },
     "execution_count": 168,
     "metadata": {},
     "output_type": "execute_result"
    }
   ],
   "source": [
    "type(ageDict)"
   ]
  },
  {
   "cell_type": "code",
   "execution_count": 267,
   "id": "6df68f0a-456c-4b4b-ac28-e1f1e55d70b3",
   "metadata": {},
   "outputs": [],
   "source": [
    "import pandas as pd"
   ]
  },
  {
   "cell_type": "code",
   "execution_count": 268,
   "id": "a9bd427b-deab-4851-9098-49839ea36822",
   "metadata": {},
   "outputs": [],
   "source": [
    "df = pd.read_csv('/Users/MarkHinojosa/Python_Learn/people.csv')"
   ]
  },
  {
   "cell_type": "code",
   "execution_count": 269,
   "id": "696028db-f96f-474f-a550-477d7c6d2894",
   "metadata": {},
   "outputs": [],
   "source": [
    "ageList = []\n",
    "nameList = []\n",
    "newDict = {}"
   ]
  },
  {
   "cell_type": "code",
   "execution_count": 270,
   "id": "4c3c599b-18a4-4ac9-a21b-1266cf800102",
   "metadata": {},
   "outputs": [],
   "source": [
    "for a in df['age']:\n",
    "    ageList.append(a)"
   ]
  },
  {
   "cell_type": "code",
   "execution_count": 271,
   "id": "c6851940-fdc6-40be-ac9e-7ae851820631",
   "metadata": {},
   "outputs": [],
   "source": [
    "for a in df['name']:\n",
    "    nameList.append(a)"
   ]
  },
  {
   "cell_type": "code",
   "execution_count": 272,
   "id": "3bff5314-b4c1-46b7-83f6-b2c5e80c312c",
   "metadata": {},
   "outputs": [],
   "source": [
    "ageList.reverse()"
   ]
  },
  {
   "cell_type": "code",
   "execution_count": 273,
   "id": "a5c86fc5-64bc-46b6-8cd4-34f81011b6e0",
   "metadata": {},
   "outputs": [],
   "source": [
    "for x in nameList:\n",
    "    newDict[x] = ageList.pop()"
   ]
  },
  {
   "cell_type": "code",
   "execution_count": 274,
   "id": "f333e775-58bc-4473-a7d9-53b86abba7a0",
   "metadata": {},
   "outputs": [
    {
     "data": {
      "text/plain": [
       "{'Brad': 21,\n",
       " 'Courtney': 29,\n",
       " 'Steve': 19,\n",
       " 'Martha': 56,\n",
       " 'Josh': 15,\n",
       " 'Alana': 14,\n",
       " 'David': 36}"
      ]
     },
     "execution_count": 274,
     "metadata": {},
     "output_type": "execute_result"
    }
   ],
   "source": [
    "newDict"
   ]
  },
  {
   "cell_type": "code",
   "execution_count": 276,
   "id": "4b2dfd9a-ff91-4810-bdf4-0ec55488c87c",
   "metadata": {},
   "outputs": [],
   "source": [
    "allowedList = []\n",
    "deniedList = []"
   ]
  },
  {
   "cell_type": "code",
   "execution_count": 277,
   "id": "e82391cc-ceed-4727-958b-5363b97a259e",
   "metadata": {},
   "outputs": [],
   "source": [
    "for a,b in newDict.items():\n",
    "    if b < 21:\n",
    "        deniedList.append(a)\n",
    "    if b >= 21:\n",
    "        allowedList.append(a)"
   ]
  },
  {
   "cell_type": "code",
   "execution_count": 278,
   "id": "74d4f3bf-f1d3-4e6f-9e2c-ac52e7d29685",
   "metadata": {},
   "outputs": [
    {
     "data": {
      "text/plain": [
       "['Brad', 'Courtney', 'Martha', 'David']"
      ]
     },
     "execution_count": 278,
     "metadata": {},
     "output_type": "execute_result"
    }
   ],
   "source": [
    "allowedList"
   ]
  },
  {
   "cell_type": "code",
   "execution_count": 279,
   "id": "ac5e444d-1db0-40b4-a8db-db6e4bd7c1dc",
   "metadata": {},
   "outputs": [
    {
     "data": {
      "text/plain": [
       "['Steve', 'Josh', 'Alana']"
      ]
     },
     "execution_count": 279,
     "metadata": {},
     "output_type": "execute_result"
    }
   ],
   "source": [
    "deniedList"
   ]
  },
  {
   "cell_type": "code",
   "execution_count": 280,
   "id": "f12567c7-72b2-4166-afb3-2f9901b431b8",
   "metadata": {},
   "outputs": [],
   "source": [
    "import csv"
   ]
  },
  {
   "cell_type": "code",
   "execution_count": 294,
   "id": "607c54f5-6a56-4aa9-b7d6-c1b6f449fc2a",
   "metadata": {},
   "outputs": [],
   "source": [
    "people = {}"
   ]
  },
  {
   "cell_type": "code",
   "execution_count": 295,
   "id": "183378b0-2b7a-4177-948a-824e73a1dc95",
   "metadata": {},
   "outputs": [
    {
     "name": "stdout",
     "output_type": "stream",
     "text": [
      "Brad\n",
      "21\n",
      "Courtney\n",
      "29\n",
      "Steve\n",
      "19\n",
      "Martha\n",
      "56\n",
      "Josh\n",
      "15\n",
      "Alana\n",
      "14\n",
      "David\n",
      "36\n"
     ]
    }
   ],
   "source": [
    "with open('/Users/MarkHinojosa/Python_Learn/people.csv','r') as file:\n",
    "    reader = csv.DictReader(file)\n",
    "    for row in reader:\n",
    "        name = row['name']\n",
    "        print(name)\n",
    "        age = int(row['age'])\n",
    "        print(age)\n",
    "        people[name] = age"
   ]
  },
  {
   "cell_type": "code",
   "execution_count": 296,
   "id": "e166fa89-3670-4525-9859-9fcd9477ca4e",
   "metadata": {},
   "outputs": [
    {
     "data": {
      "text/plain": [
       "{'Brad': 21,\n",
       " 'Courtney': 29,\n",
       " 'Steve': 19,\n",
       " 'Martha': 56,\n",
       " 'Josh': 15,\n",
       " 'Alana': 14,\n",
       " 'David': 36}"
      ]
     },
     "execution_count": 296,
     "metadata": {},
     "output_type": "execute_result"
    }
   ],
   "source": [
    "people"
   ]
  },
  {
   "cell_type": "code",
   "execution_count": 297,
   "id": "e82bb732-6950-4764-9588-8646b47ad8d2",
   "metadata": {},
   "outputs": [
    {
     "name": "stdout",
     "output_type": "stream",
     "text": [
      "Steve is not old enough to drink\n",
      "Josh is not old enough to drink\n",
      "Alana is not old enough to drink\n"
     ]
    }
   ],
   "source": [
    "for a,b in people.items():\n",
    "    if b < 21:\n",
    "        print(f'{a} is not old enough to drink')"
   ]
  },
  {
   "cell_type": "code",
   "execution_count": 298,
   "id": "e4b8a092-ba6b-4bbd-a689-d50fd062f021",
   "metadata": {},
   "outputs": [],
   "source": [
    "students = {}"
   ]
  },
  {
   "cell_type": "code",
   "execution_count": 300,
   "id": "29e00d71-2b50-45c3-8d73-4a9773b4e076",
   "metadata": {},
   "outputs": [],
   "source": [
    "with open('/Users/MarkHinojosa/Python_Learn/students.csv','r') as csvFile:\n",
    "    reader = csv.DictReader(csvFile)\n",
    "    for row in reader:\n",
    "        name = row['student_name']\n",
    "        gpa = float(row['gpa'])\n",
    "        grade = row['college_year']\n",
    "        students[name] = [gpa, grade]"
   ]
  },
  {
   "cell_type": "code",
   "execution_count": 301,
   "id": "ba289a36-3cdf-4400-b7da-edaf081064ee",
   "metadata": {},
   "outputs": [
    {
     "data": {
      "text/plain": [
       "{'Skyler': [3.89, 'Senior'],\n",
       " 'Drew': [3.13, 'Freshman'],\n",
       " 'Casey': [3.49, 'Freshman'],\n",
       " 'Alex': [2.93, 'Senior'],\n",
       " 'Jordan': [2.21, 'Senior'],\n",
       " 'Taylor': [2.08, 'Junior'],\n",
       " 'Avery': [3.71, 'Sophomore'],\n",
       " 'Riley': [3.66, 'Junior']}"
      ]
     },
     "execution_count": 301,
     "metadata": {},
     "output_type": "execute_result"
    }
   ],
   "source": [
    "students"
   ]
  },
  {
   "cell_type": "code",
   "execution_count": 306,
   "id": "7561a868-c867-458b-a153-65b871b779f5",
   "metadata": {},
   "outputs": [
    {
     "name": "stdout",
     "output_type": "stream",
     "text": [
      "Skyler is Senior in college and has a 3.89 gpa\n",
      "Drew is Freshman in college and has a 3.13 gpa\n",
      "Casey is Freshman in college and has a 3.49 gpa\n",
      "Alex is Senior in college and has a 2.93 gpa\n",
      "Jordan is Senior in college and has a 2.21 gpa\n",
      "Taylor is Junior in college and has a 2.08 gpa\n",
      "Avery is Sophomore in college and has a 3.71 gpa\n",
      "Riley is Junior in college and has a 3.66 gpa\n"
     ]
    }
   ],
   "source": [
    "for a,b in students.items():\n",
    "    print(f'{a} is {b[1]} in college and has a {b[0]} gpa')"
   ]
  },
  {
   "cell_type": "code",
   "execution_count": null,
   "id": "7ed72716-18a0-4c03-8272-3d92970cc0eb",
   "metadata": {},
   "outputs": [],
   "source": []
  }
 ],
 "metadata": {
  "kernelspec": {
   "display_name": "Python 3 (ipykernel)",
   "language": "python",
   "name": "python3"
  },
  "language_info": {
   "codemirror_mode": {
    "name": "ipython",
    "version": 3
   },
   "file_extension": ".py",
   "mimetype": "text/x-python",
   "name": "python",
   "nbconvert_exporter": "python",
   "pygments_lexer": "ipython3",
   "version": "3.9.6"
  }
 },
 "nbformat": 4,
 "nbformat_minor": 5
}
