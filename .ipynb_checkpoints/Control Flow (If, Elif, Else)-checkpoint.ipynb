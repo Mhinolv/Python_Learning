{
 "cells": [
  {
   "cell_type": "markdown",
   "id": "6adb6f54-5242-49ff-9ddb-c365da7cd67a",
   "metadata": {},
   "source": [
    "Whitespace (indentation) is very important control flow"
   ]
  },
  {
   "cell_type": "code",
   "execution_count": 1,
   "id": "797ca8b4-5059-4fcc-996a-ea44bd62837e",
   "metadata": {},
   "outputs": [],
   "source": [
    "a = 2"
   ]
  },
  {
   "cell_type": "code",
   "execution_count": 2,
   "id": "d320d170-e139-4c85-90e5-efcc80ff9673",
   "metadata": {},
   "outputs": [
    {
     "name": "stdout",
     "output_type": "stream",
     "text": [
      "Large\n"
     ]
    }
   ],
   "source": [
    "if a < 2:\n",
    "    print('Small')\n",
    "else:\n",
    "    print('Large')"
   ]
  },
  {
   "cell_type": "code",
   "execution_count": 4,
   "id": "0fc7c453-313a-4462-bc3a-c620a3aac9e4",
   "metadata": {},
   "outputs": [
    {
     "name": "stdout",
     "output_type": "stream",
     "text": [
      "True\n"
     ]
    }
   ],
   "source": [
    "if 3 > 2:\n",
    "    print('True')"
   ]
  },
  {
   "cell_type": "code",
   "execution_count": 8,
   "id": "0c88ba33-c995-4bd5-8395-5dbf6c69fd83",
   "metadata": {},
   "outputs": [],
   "source": [
    "hungry = False"
   ]
  },
  {
   "cell_type": "code",
   "execution_count": 9,
   "id": "67f55c11-a5c9-468a-a1ce-54c77cee9195",
   "metadata": {},
   "outputs": [
    {
     "name": "stdout",
     "output_type": "stream",
     "text": [
      "Im Good\n"
     ]
    }
   ],
   "source": [
    "if hungry:\n",
    "    print('Feed Me')\n",
    "else:\n",
    "    print('Im Good')"
   ]
  },
  {
   "cell_type": "code",
   "execution_count": 21,
   "id": "46e6fce5-3047-48dd-ace5-6d2e67954418",
   "metadata": {},
   "outputs": [],
   "source": [
    "loc = 'Bank'"
   ]
  },
  {
   "cell_type": "code",
   "execution_count": 22,
   "id": "5ec249d0-e7c2-4ce0-8a19-d15abae7d031",
   "metadata": {},
   "outputs": [
    {
     "name": "stdout",
     "output_type": "stream",
     "text": [
      "Money!\n"
     ]
    }
   ],
   "source": [
    "if loc == 'Auto Shop':\n",
    "    print('Cars are cool')\n",
    "elif loc == 'Bank':\n",
    "    print('Money!')\n",
    "elif loc == 'Store':\n",
    "    print('Cereal!')\n",
    "else:\n",
    "    print('Im Not Sure')"
   ]
  },
  {
   "cell_type": "code",
   "execution_count": 26,
   "id": "5fd2ed12-4eb1-4d2d-a7be-9c6b9c5963d4",
   "metadata": {},
   "outputs": [],
   "source": [
    "name = 'Jules'"
   ]
  },
  {
   "cell_type": "code",
   "execution_count": 27,
   "id": "97ff5083-c187-4c1f-a5b7-e2de8c42b7cc",
   "metadata": {},
   "outputs": [
    {
     "name": "stdout",
     "output_type": "stream",
     "text": [
      "Who TF Are You?\n"
     ]
    }
   ],
   "source": [
    "if name == 'Frankie':\n",
    "    print('Hello Frankie')\n",
    "elif name == 'Sammy':\n",
    "    print('Hello Sammy')\n",
    "else:\n",
    "    print('Who TF Are You?')"
   ]
  },
  {
   "cell_type": "code",
   "execution_count": null,
   "id": "361528df-fd7c-4f28-86e9-a999dd289a21",
   "metadata": {},
   "outputs": [],
   "source": []
  }
 ],
 "metadata": {
  "kernelspec": {
   "display_name": "Python 3 (ipykernel)",
   "language": "python",
   "name": "python3"
  },
  "language_info": {
   "codemirror_mode": {
    "name": "ipython",
    "version": 3
   },
   "file_extension": ".py",
   "mimetype": "text/x-python",
   "name": "python",
   "nbconvert_exporter": "python",
   "pygments_lexer": "ipython3",
   "version": "3.9.6"
  }
 },
 "nbformat": 4,
 "nbformat_minor": 5
}
