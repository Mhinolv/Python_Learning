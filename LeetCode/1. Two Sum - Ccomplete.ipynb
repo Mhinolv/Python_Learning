{
 "cells": [
  {
   "cell_type": "markdown",
   "id": "d1f50281-7e49-45ac-b1e7-2810c4a1579b",
   "metadata": {},
   "source": [
    "## Problem"
   ]
  },
  {
   "cell_type": "markdown",
   "id": "42df56dd-b94f-4850-bdf4-44f606c6a3c3",
   "metadata": {},
   "source": [
    "Given an array of integers ```nums``` and an integer ```target```, return indices of the two numbers such that they add up to ```target```.\n",
    "\n",
    "You may assume that each input would have exactly one solution, and you may not use the same element twice.\n",
    "\n",
    "You can return the answer in any order."
   ]
  },
  {
   "cell_type": "markdown",
   "id": "3c202952-1bbf-4649-ad86-53ea8189c980",
   "metadata": {},
   "source": [
    "#### Example 1:\n",
    "\n",
    "Input: nums = [2,7,11,15], target = 9\n",
    "Output: [0,1]\n",
    "Explanation: Because nums[0] + nums[1] == 9, we return [0, 1]."
   ]
  },
  {
   "cell_type": "markdown",
   "id": "a9ed8f0f-8572-4ef5-8ec5-1767a8ac777f",
   "metadata": {},
   "source": [
    "#### Example 2:\n",
    "\n",
    "Input: nums = [3,2,4], target = 6\n",
    "Output: [1,2]"
   ]
  },
  {
   "cell_type": "markdown",
   "id": "b709418f-6252-481d-a5b8-d791de90267d",
   "metadata": {},
   "source": [
    "#### Example 3:\n",
    "\n",
    "Input: nums = [3,3], target = 6\n",
    "Output: [0,1]"
   ]
  },
  {
   "cell_type": "markdown",
   "id": "956b638b-768c-4eb5-b7e8-bc0f0fd1a7df",
   "metadata": {},
   "source": [
    "#### Constraints:\n",
    "\n",
    "```2 <= nums.length <= 10^4``` <br>\n",
    "```-10^9 <= nums[i] <= 10^9``` <br>\n",
    "```> -10^9 <= target <= 10^9```\n",
    "\n",
    "Only one valid answer exists."
   ]
  },
  {
   "cell_type": "markdown",
   "id": "ce973e5a-b47e-49b9-b124-2fdb3e54a7c7",
   "metadata": {},
   "source": [
    "## Code"
   ]
  },
  {
   "cell_type": "code",
   "execution_count": 175,
   "id": "f97beb53-e5a6-49a3-b332-1be4affc7cbf",
   "metadata": {},
   "outputs": [],
   "source": [
    "# Create a handle function that enumerates through a list and returns the first value that hits a target\n",
    "def target_finder(nums_list,target):\n",
    "\n",
    "    current_num = 0\n",
    "    \n",
    "    for idx1,num in enumerate(nums_list):\n",
    "        for idx2, nums in enumerate(nums_list):\n",
    "            if idx1 != idx2:\n",
    "                current_num = num + nums\n",
    "                if current_num != target:\n",
    "                    pass\n",
    "                else:\n",
    "                    break\n",
    "        if current_num != target:\n",
    "            pass\n",
    "        else:\n",
    "            break\n",
    "    if current_num != target:\n",
    "        pass\n",
    "    else:\n",
    "        return [idx1,idx2]"
   ]
  },
  {
   "cell_type": "markdown",
   "id": "2c220436-a7c8-4f59-b9e2-ab26f49ea5bb",
   "metadata": {},
   "source": [
    "## Test Cases"
   ]
  },
  {
   "cell_type": "markdown",
   "id": "26ab5d8b-1380-4dad-96e3-5bcb1616be69",
   "metadata": {},
   "source": [
    "Integer List: [2,7,11,15] <br>\n",
    "Target: 9"
   ]
  },
  {
   "cell_type": "code",
   "execution_count": 176,
   "id": "e5aaf888-536a-470c-9a3a-10ecae5c470a",
   "metadata": {},
   "outputs": [
    {
     "data": {
      "text/plain": [
       "[0, 1]"
      ]
     },
     "execution_count": 176,
     "metadata": {},
     "output_type": "execute_result"
    }
   ],
   "source": [
    "num_list = [2,7,11,15]\n",
    "result = target_finder(num_list,9)\n",
    "result"
   ]
  },
  {
   "cell_type": "markdown",
   "id": "58990ab8-8feb-48d7-8826-6e35ff049bb3",
   "metadata": {},
   "source": [
    "Integer List: [3,2,4] <br>\n",
    "Target: 6"
   ]
  },
  {
   "cell_type": "code",
   "execution_count": 177,
   "id": "56ac95b4-ef9e-440b-b4a8-25644695e8ee",
   "metadata": {},
   "outputs": [
    {
     "data": {
      "text/plain": [
       "[1, 2]"
      ]
     },
     "execution_count": 177,
     "metadata": {},
     "output_type": "execute_result"
    }
   ],
   "source": [
    "num_list = [3,2,4]\n",
    "result = target_finder(num_list,6)\n",
    "result"
   ]
  },
  {
   "cell_type": "markdown",
   "id": "803b0d59-9e2b-41b0-b309-588eadd035dc",
   "metadata": {},
   "source": [
    "Integer List: [3,3] <br>\n",
    "Target: 6"
   ]
  },
  {
   "cell_type": "code",
   "execution_count": 178,
   "id": "1d2a1502-07fb-490a-9d2f-a23820286877",
   "metadata": {},
   "outputs": [
    {
     "data": {
      "text/plain": [
       "[0, 1]"
      ]
     },
     "execution_count": 178,
     "metadata": {},
     "output_type": "execute_result"
    }
   ],
   "source": [
    "num_list = [3,3]\n",
    "result = target_finder(num_list,6)\n",
    "result"
   ]
  },
  {
   "cell_type": "markdown",
   "id": "9bdae532-0883-48dc-87c0-0ab2f1536ee6",
   "metadata": {},
   "source": [
    "## Learning"
   ]
  },
  {
   "cell_type": "markdown",
   "id": "629eff0f-49ad-4923-b840-6700ab1da955",
   "metadata": {},
   "source": [
    "There are a few things that I had to deploy in order to come up with a solution for this problem:\n",
    "\n",
    "1. Reading the speciic language of the problem thouroughly, I created the incorrect answer the first time\n",
    "2. Created nested for loops to enumerate through all values of a single list\n",
    "3. Execution flow with break and pass\n",
    "4. Return the final values as a list and storing that in a variable to be called\n",
    "5. Using enumerate to return creating a index for each value\n",
    "\n",
    "Though I did not deploy it in my original solution something else I learned is that the return keyword can be used in anywhere in the control flow"
   ]
  },
  {
   "cell_type": "markdown",
   "id": "8c2f7c87-1e18-4372-bcdc-15b8d4a1ac9f",
   "metadata": {},
   "source": [
    "This solution was long and potentially memory intensive. I am hoping to come back to this problem as I learn more"
   ]
  },
  {
   "cell_type": "markdown",
   "id": "b8419c81-de2a-4684-b381-c87cc267633b",
   "metadata": {},
   "source": [
    "## Solution"
   ]
  },
  {
   "cell_type": "code",
   "execution_count": 179,
   "id": "6e9a9507-7bf5-4776-9b1e-1f967aeeda5f",
   "metadata": {},
   "outputs": [],
   "source": [
    "def two_sum(nums, target):\n",
    "    seen = {}  # num -> its index\n",
    "    for i, num in enumerate(nums):\n",
    "        complement = target - num\n",
    "        if complement in seen:\n",
    "            return [seen[complement], i]\n",
    "        seen[num] = i"
   ]
  },
  {
   "cell_type": "code",
   "execution_count": 180,
   "id": "408d0204-d4a4-4fe4-b1ac-05f90f80e668",
   "metadata": {},
   "outputs": [
    {
     "data": {
      "text/plain": [
       "[0, 1]"
      ]
     },
     "execution_count": 180,
     "metadata": {},
     "output_type": "execute_result"
    }
   ],
   "source": [
    "num_list = [2,7,11,15]\n",
    "result = two_sum(num_list,9)\n",
    "result"
   ]
  },
  {
   "cell_type": "code",
   "execution_count": 181,
   "id": "b8f6c8ab-8d85-44b9-9c6e-5f7a481b9d2f",
   "metadata": {},
   "outputs": [
    {
     "data": {
      "text/plain": [
       "[1, 2]"
      ]
     },
     "execution_count": 181,
     "metadata": {},
     "output_type": "execute_result"
    }
   ],
   "source": [
    "num_list = [3,2,4]\n",
    "result = target_finder(num_list,6)\n",
    "result"
   ]
  },
  {
   "cell_type": "code",
   "execution_count": 182,
   "id": "92e219d6-a347-4bbd-b627-aa09a2d9e370",
   "metadata": {},
   "outputs": [
    {
     "data": {
      "text/plain": [
       "[0, 1]"
      ]
     },
     "execution_count": 182,
     "metadata": {},
     "output_type": "execute_result"
    }
   ],
   "source": [
    "num_list = [3,3]\n",
    "result = target_finder(num_list,6)\n",
    "result"
   ]
  }
 ],
 "metadata": {
  "kernelspec": {
   "display_name": "Python 3 (ipykernel)",
   "language": "python",
   "name": "python3"
  },
  "language_info": {
   "codemirror_mode": {
    "name": "ipython",
    "version": 3
   },
   "file_extension": ".py",
   "mimetype": "text/x-python",
   "name": "python",
   "nbconvert_exporter": "python",
   "pygments_lexer": "ipython3",
   "version": "3.12.5"
  }
 },
 "nbformat": 4,
 "nbformat_minor": 5
}
