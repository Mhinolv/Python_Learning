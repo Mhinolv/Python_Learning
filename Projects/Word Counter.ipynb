{
 "cells": [
  {
   "cell_type": "markdown",
   "id": "1b56b835-1154-470c-904f-57806287759e",
   "metadata": {},
   "source": [
    "## Word and Character Counter"
   ]
  },
  {
   "cell_type": "markdown",
   "id": "ef8130ca-66c7-456c-bbb0-c0331b66541e",
   "metadata": {},
   "source": [
    "This little program takes an input paragraph and returns a word and letter counter"
   ]
  },
  {
   "cell_type": "code",
   "execution_count": 90,
   "id": "8c3426c1-ff0c-4a71-89a0-6cbc454f7294",
   "metadata": {},
   "outputs": [
    {
     "name": "stdin",
     "output_type": "stream",
     "text": [
      "Enter a paragraph! Two roads diverged in a yellow wood, And sorry I could not travel both And be one traveller, long I stood And looked down one as far as I could To where it bent in the undergrowth; Then took the other, as just as fair, And having perhaps the better claim, Because it was grassy and wanted wear; Though as for that the passing there Had worn them really about the same, And both that morning equally lay In leaves no step had trodden black. Oh, I kept the first for another day! Yet knowing how way leads on to way, I doubted if I should ever come back. I shall be telling this with a sigh Somewhere ages and ages hence: Two roads diverged in a wood, and I— I took the one less travelled by, And that has made all the difference.\n"
     ]
    }
   ],
   "source": [
    "paragraph = input('''Enter a paragraph!''')\n",
    "cleaned = str()\n",
    "charCount = int()"
   ]
  },
  {
   "cell_type": "code",
   "execution_count": 91,
   "id": "ce8953bc-aac9-4eb2-b394-83aa9499b3a3",
   "metadata": {},
   "outputs": [],
   "source": [
    "for char in paragraph:\n",
    "    if char.isascii() == True and char.isspace() == False:\n",
    "        charCount = charCount + 1\n",
    "    if char.isalpha() == True or char.isspace() == True:\n",
    "        cleaned = cleaned + char"
   ]
  },
  {
   "cell_type": "code",
   "execution_count": 92,
   "id": "149f5460-3a08-437c-8f30-fe047dd28eda",
   "metadata": {},
   "outputs": [],
   "source": [
    "wordCount = len(cleaned.split())"
   ]
  },
  {
   "cell_type": "code",
   "execution_count": 93,
   "id": "6447f525-02f4-405b-897f-1a78d916735f",
   "metadata": {},
   "outputs": [
    {
     "name": "stdout",
     "output_type": "stream",
     "text": [
      "The number of words for the entry is 144 and the character count is 584\n"
     ]
    }
   ],
   "source": [
    "print(f'The number of words for the entry is {wordCount} and the character count is {charCount}')"
   ]
  }
 ],
 "metadata": {
  "kernelspec": {
   "display_name": "Python 3 (ipykernel)",
   "language": "python",
   "name": "python3"
  },
  "language_info": {
   "codemirror_mode": {
    "name": "ipython",
    "version": 3
   },
   "file_extension": ".py",
   "mimetype": "text/x-python",
   "name": "python",
   "nbconvert_exporter": "python",
   "pygments_lexer": "ipython3",
   "version": "3.9.6"
  }
 },
 "nbformat": 4,
 "nbformat_minor": 5
}
