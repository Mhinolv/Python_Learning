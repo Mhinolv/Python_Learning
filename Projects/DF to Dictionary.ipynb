{
 "cells": [
  {
   "cell_type": "markdown",
   "id": "242e0603-25d7-4382-b179-096038db7c3c",
   "metadata": {},
   "source": [
    "This is the easiest way to load a .csv into a dictionary."
   ]
  },
  {
   "cell_type": "code",
   "execution_count": 1,
   "id": "8c8586ae-f415-4f7a-96ea-e154cedc6bd1",
   "metadata": {},
   "outputs": [],
   "source": [
    "import csv #library for opening and reading .csv files"
   ]
  },
  {
   "cell_type": "code",
   "execution_count": 2,
   "id": "6b6a7081-c170-48ac-8c9d-a206c58253b3",
   "metadata": {},
   "outputs": [],
   "source": [
    "people = {}"
   ]
  },
  {
   "cell_type": "code",
   "execution_count": 13,
   "id": "f8b0f6bf-d55a-4a41-a469-fa258a958159",
   "metadata": {},
   "outputs": [],
   "source": [
    "with open('/Users/MarkHinojosa/Python_Learn/people.csv', 'r') as file: #file is a variable name\n",
    "    reader = csv.DictReader(file)\n",
    "    for row in reader:\n",
    "        name = row['name']\n",
    "        age = int(row['age'])\n",
    "        people[name] = age"
   ]
  },
  {
   "cell_type": "code",
   "execution_count": 21,
   "id": "b184a2ca-ca67-43c8-9788-7fb7467b427c",
   "metadata": {},
   "outputs": [
    {
     "data": {
      "text/plain": [
       "{'Brad': 21,\n",
       " 'Courtney': 29,\n",
       " 'Steve': 19,\n",
       " 'Martha': 56,\n",
       " 'Josh': 15,\n",
       " 'Alana': 14,\n",
       " 'David': 36}"
      ]
     },
     "execution_count": 21,
     "metadata": {},
     "output_type": "execute_result"
    }
   ],
   "source": [
    "people"
   ]
  },
  {
   "cell_type": "markdown",
   "id": "16da9f3e-f840-4102-ab90-100e21392d59",
   "metadata": {},
   "source": [
    "Here is an example with a list as a value"
   ]
  },
  {
   "cell_type": "code",
   "execution_count": 14,
   "id": "52a799b3-00b2-41c1-920f-38890938e736",
   "metadata": {},
   "outputs": [],
   "source": [
    "students = {}"
   ]
  },
  {
   "cell_type": "code",
   "execution_count": 15,
   "id": "94a4494f-e3ea-4167-9583-132b12e5fe35",
   "metadata": {},
   "outputs": [],
   "source": [
    "with open('/Users/MarkHinojosa/Python_Learn/students.csv', 'r') as file: #opens and then closes the file once it is done\n",
    "    reader = csv.DictReader(file) #compiles rows into dictionaries\n",
    "    for row in reader:\n",
    "        name = row['student_name']\n",
    "        gpa = float(row['gpa'])\n",
    "        year = row['college_year']\n",
    "        students[name] = [gpa, year]"
   ]
  },
  {
   "cell_type": "code",
   "execution_count": 16,
   "id": "66e9ad9e-35a7-4889-a459-1731b15290c1",
   "metadata": {},
   "outputs": [
    {
     "data": {
      "text/plain": [
       "{'Skyler': [3.89, 'Senior'],\n",
       " 'Drew': [3.13, 'Freshman'],\n",
       " 'Casey': [3.49, 'Freshman'],\n",
       " 'Alex': [2.93, 'Senior'],\n",
       " 'Jordan': [2.21, 'Senior'],\n",
       " 'Taylor': [2.08, 'Junior'],\n",
       " 'Avery': [3.71, 'Sophomore'],\n",
       " 'Riley': [3.66, 'Junior']}"
      ]
     },
     "execution_count": 16,
     "metadata": {},
     "output_type": "execute_result"
    }
   ],
   "source": [
    "students"
   ]
  },
  {
   "cell_type": "code",
   "execution_count": 18,
   "id": "3c46aae2-eedc-4ad0-ad96-0d3435bc0e1c",
   "metadata": {},
   "outputs": [
    {
     "data": {
      "text/plain": [
       "'Freshman'"
      ]
     },
     "execution_count": 18,
     "metadata": {},
     "output_type": "execute_result"
    }
   ],
   "source": [
    "students['Casey'][1]"
   ]
  },
  {
   "cell_type": "markdown",
   "id": "56368195-0e56-47d4-a986-d636fa801096",
   "metadata": {},
   "source": [
    "These values can be unpacked using the same multi-variable method in for loops"
   ]
  },
  {
   "cell_type": "code",
   "execution_count": 20,
   "id": "67b5b634-852b-4aad-b076-daee2d1ea736",
   "metadata": {},
   "outputs": [
    {
     "name": "stdout",
     "output_type": "stream",
     "text": [
      "Skyler is Senior in college and has a 3.89 gpa\n",
      "Drew is Freshman in college and has a 3.13 gpa\n",
      "Casey is Freshman in college and has a 3.49 gpa\n",
      "Alex is Senior in college and has a 2.93 gpa\n",
      "Jordan is Senior in college and has a 2.21 gpa\n",
      "Taylor is Junior in college and has a 2.08 gpa\n",
      "Avery is Sophomore in college and has a 3.71 gpa\n",
      "Riley is Junior in college and has a 3.66 gpa\n"
     ]
    }
   ],
   "source": [
    "for a,b in students.items():\n",
    "        print(f'{a} is {b[1]} in college and has a {b[0]} gpa') #The index value has to be called to fully unpack"
   ]
  }
 ],
 "metadata": {
  "kernelspec": {
   "display_name": "Python 3 (ipykernel)",
   "language": "python",
   "name": "python3"
  },
  "language_info": {
   "codemirror_mode": {
    "name": "ipython",
    "version": 3
   },
   "file_extension": ".py",
   "mimetype": "text/x-python",
   "name": "python",
   "nbconvert_exporter": "python",
   "pygments_lexer": "ipython3",
   "version": "3.12.5"
  }
 },
 "nbformat": 4,
 "nbformat_minor": 5
}
