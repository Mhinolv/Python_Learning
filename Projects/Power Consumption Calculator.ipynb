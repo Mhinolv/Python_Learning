{
 "cells": [
  {
   "cell_type": "markdown",
   "id": "52bf3c4f-c915-4c2d-b6b9-e17edd69f828",
   "metadata": {},
   "source": [
    "## Overview"
   ]
  },
  {
   "cell_type": "markdown",
   "id": "ffe1c30b-c36b-4dcc-8d96-a1ef1e37b916",
   "metadata": {},
   "source": [
    "It has been a little bit since my last entry, but I have been traveling. On my travels I realized both how much and how little power that I need in order to be self sustaining in my van. With that said, I want to create a tracker to aggregate my total power consumption based on usage and time. It will also feature a way to convert watts to amps and amps to watts for each entry. The caveat is that I want to create functions for almost every interaction that the user (me) will have."
   ]
  },
  {
   "cell_type": "markdown",
   "id": "1a9d0bcc-55ce-4c16-b41d-526b7825afa6",
   "metadata": {},
   "source": [
    "## Code"
   ]
  },
  {
   "cell_type": "code",
   "execution_count": 3,
   "id": "b80aa0e2-9268-44fd-9da9-0bc9ece73c30",
   "metadata": {},
   "outputs": [],
   "source": [
    "# Importing the csv library to write to later"
   ]
  },
  {
   "cell_type": "code",
   "execution_count": 4,
   "id": "70459e75-22f0-49d1-a20a-9a84a345117c",
   "metadata": {},
   "outputs": [],
   "source": [
    "import csv "
   ]
  },
  {
   "cell_type": "code",
   "execution_count": 16,
   "id": "182570f7-32fe-4f46-85bf-5124edd405ec",
   "metadata": {},
   "outputs": [],
   "source": [
    "# Create conversion functions from watts to amps and amps to watts\n",
    "def convert_to_amps(wattage, voltage):\n",
    "    return float( wattage / voltage)\n",
    "\n",
    "def convert_to_watts(amps, voltage):\n",
    "    return float(amps * voltage)"
   ]
  },
  {
   "cell_type": "code",
   "execution_count": 98,
   "id": "ce60806a-42b6-4c0b-9fc5-adf87c5bd54b",
   "metadata": {},
   "outputs": [],
   "source": [
    "# Create a function that takes in input\n",
    "def user_logging():\n",
    "    objectName = input('What is the name of the item?').upper()\n",
    "\n",
    "    powerType = input('Is consumption in amps (A) or watts (W)?').upper()\n",
    "    \n",
    "    while powerType.upper() != 'A' and powerType != 'W':\n",
    "        powerType = input('Please enter A for amps or W for wattage').upper()\n",
    "\n",
    "    voltage = input('Is the voltage 12 or 110?')\n",
    "\n",
    "    while voltage != '12' and voltage != '110':\n",
    "         voltage = input('Please enter a voltage of 12 or 110?')\n",
    "\n",
    "    voltage = int(voltage)\n",
    "\n",
    "    consumption = float(input('What is the consumption per hour?'))\n",
    "\n",
    "    usageTime = float(input('How much time in minutes are you planning on using the item?'))\n",
    "\n",
    "    item_dict[objectName] = [powerType, voltage, consumption, usageTime]\n",
    "\n",
    "    return objectName,powerType,voltage,consumption,usageTime"
   ]
  },
  {
   "cell_type": "code",
   "execution_count": 99,
   "id": "7731f7c5-befc-455d-93d4-488071dc8499",
   "metadata": {},
   "outputs": [],
   "source": [
    "# Create function to convert and total the power consumption\n",
    "\n",
    "def convert_and_total(power,voltage,consumption,time):\n",
    "    \n",
    "    if power == 'A':\n",
    "        consumptionWattage = convert_to_watts(consumption,voltage)\n",
    "    else:\n",
    "        consumptionWattage = consumption\n",
    "\n",
    "    total_consumption = consumptionWattage * time/60\n",
    "\n",
    "    total_amperage = convert_to_amps(consumptionWattage,voltage)\n",
    "\n",
    "    return consumptionWattage,total_consumption,total_amperage"
   ]
  },
  {
   "cell_type": "code",
   "execution_count": 100,
   "id": "82e2bb2e-8c50-4c13-a293-cd1731d6ffcc",
   "metadata": {},
   "outputs": [],
   "source": [
    "# Create a function that calculates % of power bank and charge time\n",
    "\n",
    "def power_draw_calculator(consumption):\n",
    "    percentage = float(consumption / 2200)\n",
    "    chargeTime = (consumption / 250) / 60\n",
    "    \n",
    "    return percentage, chargeTime"
   ]
  },
  {
   "cell_type": "code",
   "execution_count": 107,
   "id": "7ae204f1-5127-4bb6-acae-d38cf16d0591",
   "metadata": {},
   "outputs": [],
   "source": [
    "# Putting all the functions together\n",
    "\n",
    "def workflow_():\n",
    "    objectName, powerType,voltage,consumption,usageTime = user_logging()\n",
    "    consumptionWattage,total_consumption,total_amperage = convert_and_total(powerType,voltage,consumption,usageTime)\n",
    "    percentage, chargeTime = power_draw_calculator(total_consumption)\n",
    "\n",
    "    item_dict[objectName] = [powerType, voltage, usageTime, consumptionWattage, total_consumption, total_amperage, percentage, chargeTime]"
   ]
  },
  {
   "cell_type": "code",
   "execution_count": 108,
   "id": "fa135df2-ca89-4283-8391-242c18b212e5",
   "metadata": {},
   "outputs": [],
   "source": [
    "def start():\n",
    "    continueVar = str()\n",
    "\n",
    "    while continueVar.upper() != 'N':\n",
    "        workflow_()\n",
    "        \n",
    "        continueVar = input('Do you want to add another item Y/N?').upper()\n",
    "\n",
    "        while continueVar.upper() != 'Y' and continueVar.upper() != 'N':\n",
    "            continueVar = input('Please enter Y/N?').upper()"
   ]
  },
  {
   "cell_type": "code",
   "execution_count": 111,
   "id": "d79c2061-b87c-47b5-ac74-3e887d2bc978",
   "metadata": {},
   "outputs": [
    {
     "name": "stdin",
     "output_type": "stream",
     "text": [
      "What is the name of the item? Headphones\n",
      "Is consumption in amps (A) or watts (W)? W\n",
      "Is the voltage 12 or 110? 13\n",
      "Please enter a voltage of 12 or 110? 12\n",
      "What is the consumption per hour? 13\n",
      "How much time in minutes are you planning on using the item? 60\n",
      "Do you want to add another item Y/N? N\n"
     ]
    },
    {
     "data": {
      "text/plain": [
       "{'HEADPHONES': ['W',\n",
       "  12,\n",
       "  60.0,\n",
       "  13.0,\n",
       "  13.0,\n",
       "  1.0833333333333333,\n",
       "  0.005909090909090909,\n",
       "  0.0008666666666666666]}"
      ]
     },
     "execution_count": 111,
     "metadata": {},
     "output_type": "execute_result"
    }
   ],
   "source": [
    "item_dict = {}\n",
    "start()\n",
    "item_dict"
   ]
  },
  {
   "cell_type": "markdown",
   "id": "9e9ea374-940f-4d6a-813e-6f28b5d73b0a",
   "metadata": {},
   "source": [
    "#### When you start coding again, creating functions to read and write lines to CSV using the dictionary entries"
   ]
  },
  {
   "cell_type": "code",
   "execution_count": null,
   "id": "35b9a37b-2dbf-4249-a4ad-26cfa9171bd5",
   "metadata": {},
   "outputs": [],
   "source": []
  }
 ],
 "metadata": {
  "kernelspec": {
   "display_name": "Python 3 (ipykernel)",
   "language": "python",
   "name": "python3"
  },
  "language_info": {
   "codemirror_mode": {
    "name": "ipython",
    "version": 3
   },
   "file_extension": ".py",
   "mimetype": "text/x-python",
   "name": "python",
   "nbconvert_exporter": "python",
   "pygments_lexer": "ipython3",
   "version": "3.9.6"
  }
 },
 "nbformat": 4,
 "nbformat_minor": 5
}
