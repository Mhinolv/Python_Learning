{
 "cells": [
  {
   "cell_type": "markdown",
   "id": "52bf3c4f-c915-4c2d-b6b9-e17edd69f828",
   "metadata": {},
   "source": [
    "## Overview"
   ]
  },
  {
   "cell_type": "markdown",
   "id": "ffe1c30b-c36b-4dcc-8d96-a1ef1e37b916",
   "metadata": {},
   "source": [
    "It has been a little bit since my last entry, but I have been traveling. On my travels I realized both how much and how little power that I need in order to be self sustaining in my van. With that said, I want to create a tracker to aggregate my total power consumption based on usage and time. It will also feature a way to convert watts to amps and amps to watts for each entry. The caveat is that I want to create functions for almost every interaction that the user (me) will have."
   ]
  },
  {
   "cell_type": "markdown",
   "id": "1a9d0bcc-55ce-4c16-b41d-526b7825afa6",
   "metadata": {},
   "source": [
    "## Code"
   ]
  },
  {
   "cell_type": "code",
   "execution_count": 251,
   "id": "b80aa0e2-9268-44fd-9da9-0bc9ece73c30",
   "metadata": {},
   "outputs": [],
   "source": [
    "# Importing the csv library to write to later"
   ]
  },
  {
   "cell_type": "code",
   "execution_count": 252,
   "id": "70459e75-22f0-49d1-a20a-9a84a345117c",
   "metadata": {},
   "outputs": [],
   "source": [
    "import csv "
   ]
  },
  {
   "cell_type": "code",
   "execution_count": 253,
   "id": "182570f7-32fe-4f46-85bf-5124edd405ec",
   "metadata": {},
   "outputs": [],
   "source": [
    "# Create conversion functions from watts to amps and amps to watts\n",
    "def convert_to_amps(wattage, voltage):\n",
    "    return float( wattage / voltage)\n",
    "\n",
    "def convert_to_watts(amps, voltage):\n",
    "    return float(amps * voltage)"
   ]
  },
  {
   "cell_type": "code",
   "execution_count": 254,
   "id": "ce60806a-42b6-4c0b-9fc5-adf87c5bd54b",
   "metadata": {},
   "outputs": [],
   "source": [
    "# Create a function that takes in input\n",
    "def user_logging():\n",
    "    objectName = input('What is the name of the item?').upper()\n",
    "\n",
    "    powerType = input('Is consumption in amps (A) or watts (W)?').upper()\n",
    "    \n",
    "    while powerType.upper() != 'A' and powerType != 'W':\n",
    "        powerType = input('Please enter A for amps or W for wattage').upper()\n",
    "\n",
    "    voltage = input('Is the voltage 12 or 110?')\n",
    "\n",
    "    while voltage not in ['12','110']:\n",
    "         voltage = input('Please enter a voltage of 12 or 110?')\n",
    "\n",
    "    voltage = int(voltage)\n",
    "\n",
    "    consumption = float(input('What is the consumption per hour?'))\n",
    "\n",
    "    usageTime = float(input('How much time in minutes are you planning on using the item?'))\n",
    "\n",
    "    item_dict[objectName] = [powerType, voltage, consumption, usageTime]\n",
    "\n",
    "    return objectName,powerType,voltage,consumption,usageTime"
   ]
  },
  {
   "cell_type": "code",
   "execution_count": 255,
   "id": "7731f7c5-befc-455d-93d4-488071dc8499",
   "metadata": {},
   "outputs": [],
   "source": [
    "# Create function to convert and total the power consumption\n",
    "\n",
    "def convert_and_total(power,voltage,consumption,time):\n",
    "    \n",
    "    if power == 'A':\n",
    "        consumptionWattage = convert_to_watts(consumption,voltage)\n",
    "    else:\n",
    "        consumptionWattage = consumption\n",
    "\n",
    "    total_consumption = consumptionWattage * time/60\n",
    "\n",
    "    total_amperage = convert_to_amps(consumptionWattage,voltage)\n",
    "\n",
    "    return consumptionWattage,total_consumption,total_amperage"
   ]
  },
  {
   "cell_type": "code",
   "execution_count": 256,
   "id": "82e2bb2e-8c50-4c13-a293-cd1731d6ffcc",
   "metadata": {},
   "outputs": [],
   "source": [
    "# Create a function that calculates % of power bank and charge time\n",
    "\n",
    "def power_draw_calculator(consumption):\n",
    "    percentage = float(consumption / 2200)\n",
    "    chargeTime = round((consumption / 220) * 60,1)\n",
    "    \n",
    "    return percentage, chargeTime"
   ]
  },
  {
   "cell_type": "code",
   "execution_count": 257,
   "id": "7ae204f1-5127-4bb6-acae-d38cf16d0591",
   "metadata": {},
   "outputs": [],
   "source": [
    "# Putting all the functions together\n",
    "\n",
    "def workflow_():\n",
    "    objectName, powerType,voltage,consumption,usageTime = user_logging()\n",
    "    consumptionWattage,total_consumption,total_amperage = convert_and_total(powerType,voltage,consumption,usageTime)\n",
    "    percentage, chargeTime = power_draw_calculator(total_consumption)\n",
    "\n",
    "    item_dict[objectName] = [powerType, voltage, usageTime, consumptionWattage, total_consumption, round(total_amperage,1), round(percentage,3), round(chargeTime,3)]"
   ]
  },
  {
   "cell_type": "code",
   "execution_count": 258,
   "id": "fa135df2-ca89-4283-8391-242c18b212e5",
   "metadata": {},
   "outputs": [],
   "source": [
    "def start():\n",
    "    continueVar = str()\n",
    "\n",
    "    while continueVar.upper() != 'N':\n",
    "        workflow_()\n",
    "        \n",
    "        continueVar = input('Do you want to add another item Y/N?').upper()\n",
    "\n",
    "        while continueVar.upper() not in ['Y','N']:\n",
    "            continueVar = input('Please enter Y/N?').upper()"
   ]
  },
  {
   "cell_type": "code",
   "execution_count": 259,
   "id": "59d7e507-2c86-445d-9f23-87ebdf20e2d1",
   "metadata": {},
   "outputs": [],
   "source": [
    "# Open a file and check the for existing items from the dictionary. If items exist remove the values from the dictionary\n",
    "# to prepare for processing\n",
    "\n",
    "def check_file(dict):\n",
    "\n",
    "    decisionVar = str()\n",
    "    \n",
    "    with open('/Users/MarkHinojosa/Python_Learn/Files/power_consumption.csv','r') as file:\n",
    "        reader = csv.DictReader(file)\n",
    "    \n",
    "        for row in reader:\n",
    "            if row['item'] in dict.keys():\n",
    "                decisionVar = input(f\"{row['item']} already exists do you want to add a new line? Y/N?\")\n",
    "\n",
    "                while decisionVar.upper() not in ['Y','N']:\n",
    "                    decisionVar = input(f\"Please enter Y/N to add new line for {row['item']}\")\n",
    "\n",
    "                if decisionVar.upper() == 'N':\n",
    "                    dict.pop(row['item'])\n",
    "                elif decisionVar.upper() == 'Y':\n",
    "                    pass"
   ]
  },
  {
   "cell_type": "code",
   "execution_count": 260,
   "id": "554d25a1-9477-4bd4-af22-64d2c81c8665",
   "metadata": {},
   "outputs": [],
   "source": [
    "# Unpack the dictionary into a nested list to unpack later for csv writing\n",
    "\n",
    "def prepare_for_csv(dict):\n",
    "    csv_list = str()\n",
    "    value_list = []\n",
    "    \n",
    "    for keys in item_dict.keys():\n",
    "        value_list.append(keys)\n",
    "            \n",
    "        for value in item_dict[keys]:\n",
    "            value_list.append(value)\n",
    "\n",
    "    return value_list"
   ]
  },
  {
   "cell_type": "code",
   "execution_count": 261,
   "id": "c7b99670-cc86-4b70-a4d4-ba807b4e73bf",
   "metadata": {},
   "outputs": [],
   "source": [
    "# Split a part the list into a nested list for each key from the dictionary\n",
    "\n",
    "def list_split(list):\n",
    "    final_list = []\n",
    "    idx_counter = 0\n",
    "    start_position, end_position = 0,9\n",
    "    \n",
    "    while idx_counter < int(len(list) / 9):\n",
    "    \n",
    "        final_list.append(list[start_position:end_position])\n",
    "    \n",
    "        idx_counter += 1\n",
    "        start_position += 9\n",
    "        end_position += 9\n",
    "\n",
    "    return final_list"
   ]
  },
  {
   "cell_type": "code",
   "execution_count": 262,
   "id": "fcc8050c-8e37-4195-a668-cd2ec554874b",
   "metadata": {},
   "outputs": [],
   "source": [
    "# Enumerate through list and add to file before closing\n",
    "\n",
    "def write_lines(list):\n",
    "    \n",
    "    with open('/Users/MarkHinojosa/Python_Learn/Files/power_consumption.csv','a') as file:\n",
    "        writer = csv.writer(file)\n",
    "\n",
    "        for idx, value in enumerate(list):\n",
    "            writer.writerow(list[idx])"
   ]
  },
  {
   "cell_type": "code",
   "execution_count": 263,
   "id": "dd46598d-05f7-4ed2-bcd8-33824369ca4f",
   "metadata": {},
   "outputs": [],
   "source": [
    "# Create a function to return the total power consumption and charge time needed\n",
    "\n",
    "def power_and_time():\n",
    "\n",
    "    total_power = float()\n",
    "    total_time =float()\n",
    "    power_percentage = float()\n",
    "    record_count = 0\n",
    "    \n",
    "    with open('/Users/MarkHinojosa/Python_Learn/Files/power_consumption.csv','r') as file:\n",
    "        reader = csv.DictReader(file)\n",
    "\n",
    "        for row in reader:\n",
    "            total_power = total_power + float(row['total_consumption'])\n",
    "            record_count += 1\n",
    "\n",
    "\n",
    "    power_percentage = round(total_power / 2200,3)\n",
    "\n",
    "    return total_power,power_percentage,record_count"
   ]
  },
  {
   "cell_type": "code",
   "execution_count": 264,
   "id": "c92101fb-113b-4fdc-ab24-08326667bb50",
   "metadata": {},
   "outputs": [
    {
     "name": "stdin",
     "output_type": "stream",
     "text": [
      "Do you want to add a new entry? Y/N Y\n",
      "What is the name of the item? PC\n",
      "Is consumption in amps (A) or watts (W)? w\n",
      "Is the voltage 12 or 110? 110\n",
      "What is the consumption per hour? 330\n",
      "How much time in minutes are you planning on using the item? 60\n",
      "Do you want to add another item Y/N? n\n"
     ]
    },
    {
     "name": "stdout",
     "output_type": "stream",
     "text": [
      "1 items were added to the list\n",
      "\n",
      "There are 9 entries in the power journal. \n",
      "The total consumed wattage is 1376.0 which is 62.5 of available power.\n",
      "Based on average solar input, it will take 375 minutes to charge.\n",
      "In optimal conditions, the daily expected charge is 1760 watts, which is a difference of -384.0.\n",
      "The charge time for the remaainder is -105 minutes.\n"
     ]
    }
   ],
   "source": [
    "# Sets the starting dictionary to a blank value and estimated charging time\n",
    "# Starts the workflow by asking if an entry should be added or not\n",
    "\n",
    "item_dict = {}\n",
    "daily_charge = 220 * 8\n",
    "\n",
    "start_var = input('Do you want to add a new entry? Y/N')\n",
    "\n",
    "while start_var.upper() not in ['Y','N']:\n",
    "    start_var = input('Please enter a Y/N')\n",
    "\n",
    "if start_var.upper() == 'Y':\n",
    "    start()\n",
    "    check_file(item_dict)\n",
    "    write_lines(list_split(prepare_for_csv(item_dict)))\n",
    "    print(f'{len(item_dict)} items were added to the list')\n",
    "\n",
    "power,percentage,records = power_and_time()\n",
    "print(f'''\n",
    "There are {records} entries in the power journal. \n",
    "The total consumed wattage is {power} which is {percentage * 100} of available power.\n",
    "Based on average solar input, it will take {int(round((power / 220) * 60,0))} minutes to charge.\n",
    "In optimal conditions, the daily expected charge is {daily_charge} watts, which is a difference of {power - daily_charge}.\n",
    "The charge time for the remainder is {int(round(((power - daily_charge) / 220) * 60,0))} minutes.''')"
   ]
  },
  {
   "cell_type": "markdown",
   "id": "af08ad36-ed64-43b7-8967-0d74438c19af",
   "metadata": {},
   "source": [
    "## Conclusion"
   ]
  },
  {
   "cell_type": "markdown",
   "id": "b30ee7c0-8647-43a2-919c-397a314893cc",
   "metadata": {},
   "source": [
    "This was such an ambitious project but completing it gave me more confidence to at least try amibtious projects in the future. There were many moments where I had to stop to really think about the outcome and looking back already, I think I could have been more efficient. Here is what a I learned from this project:\n",
    "\n",
    "- How to fully take advantage of 'not in' to in order to force the correct type of input from the user\n",
    "- How to open files to check for an existing index\n",
    "- How to move dictionar keys and values into a list as a single entry\n",
    "- How to write into a file from a list\n",
    "- How to next functions to get a desired output"
   ]
  }
 ],
 "metadata": {
  "kernelspec": {
   "display_name": "Python 3 (ipykernel)",
   "language": "python",
   "name": "python3"
  },
  "language_info": {
   "codemirror_mode": {
    "name": "ipython",
    "version": 3
   },
   "file_extension": ".py",
   "mimetype": "text/x-python",
   "name": "python",
   "nbconvert_exporter": "python",
   "pygments_lexer": "ipython3",
   "version": "3.9.6"
  }
 },
 "nbformat": 4,
 "nbformat_minor": 5
}
