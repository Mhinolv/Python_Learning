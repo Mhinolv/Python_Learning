{
 "cells": [
  {
   "cell_type": "markdown",
   "id": "0cfab8a2-342e-4a16-9d95-db2a79fdefd7",
   "metadata": {},
   "source": [
    "When I was younger I was always looking to see if odd sets of words would spell something by just their first letter. Today I am making a pythong script that will do that for me after pasting in the words."
   ]
  },
  {
   "cell_type": "code",
   "execution_count": 24,
   "id": "02d7c81f-5467-4e79-bf1b-cee9839c71fa",
   "metadata": {},
   "outputs": [
    {
     "name": "stdin",
     "output_type": "stream",
     "text": [
      "What is the phrase we are extracting letters from? all of the toys in the world\n"
     ]
    }
   ],
   "source": [
    "phrase = input('What is the phrase we are extracting letters from?')"
   ]
  },
  {
   "cell_type": "code",
   "execution_count": 25,
   "id": "67b13d72-27a6-474a-872f-280f06b27b32",
   "metadata": {},
   "outputs": [],
   "source": [
    "phraseList = phrase.split()"
   ]
  },
  {
   "cell_type": "markdown",
   "id": "837e7206-af3f-4a07-960e-e82f4bf3b585",
   "metadata": {},
   "source": [
    "This next line will clean the words 'and' or 'the' or 'of' from the list"
   ]
  },
  {
   "cell_type": "code",
   "execution_count": 26,
   "id": "ada72df5-f586-411f-8019-b58045a4359d",
   "metadata": {},
   "outputs": [],
   "source": [
    "for items in phraseList:\n",
    "    if items.lower() == 'and' or items.lower() == 'the' or items.lower() == 'of':\n",
    "        phraseList.remove(items)"
   ]
  },
  {
   "cell_type": "markdown",
   "id": "55be5da4-fa9c-43ee-b08a-872e89fed4e7",
   "metadata": {},
   "source": [
    "This next snippet actually extracts the first letter from the items in the list and return it into a string"
   ]
  },
  {
   "cell_type": "code",
   "execution_count": 27,
   "id": "d70a7f70-8b8e-40ea-ad60-85b3d2ef5a3b",
   "metadata": {},
   "outputs": [],
   "source": [
    "extractedChars = str()\n",
    "for letters in phraseList:\n",
    "     extractedChars = extractedChars + letters[0][0]"
   ]
  },
  {
   "cell_type": "code",
   "execution_count": 30,
   "id": "13fff43d-e6de-48d6-9717-55b6f138eeb7",
   "metadata": {},
   "outputs": [
    {
     "name": "stdout",
     "output_type": "stream",
     "text": [
      "Your extracted letters spell: ATITW\n"
     ]
    }
   ],
   "source": [
    "extractedChars = extractedChars.upper()\n",
    "print(f'Your extracted letters spell: {extractedChars}')"
   ]
  }
 ],
 "metadata": {
  "kernelspec": {
   "display_name": "Python 3 (ipykernel)",
   "language": "python",
   "name": "python3"
  },
  "language_info": {
   "codemirror_mode": {
    "name": "ipython",
    "version": 3
   },
   "file_extension": ".py",
   "mimetype": "text/x-python",
   "name": "python",
   "nbconvert_exporter": "python",
   "pygments_lexer": "ipython3",
   "version": "3.9.6"
  }
 },
 "nbformat": 4,
 "nbformat_minor": 5
}
