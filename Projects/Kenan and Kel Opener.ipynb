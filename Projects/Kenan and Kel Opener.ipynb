{
 "cells": [
  {
   "cell_type": "markdown",
   "id": "2a3f2530-eae3-4be5-971b-e72c809b0b58",
   "metadata": {},
   "source": [
    "## Overview"
   ]
  },
  {
   "cell_type": "markdown",
   "id": "900cb79b-5783-43b0-adf3-68c234fa0f88",
   "metadata": {},
   "source": [
    "When I was younger I such a fondness with the show Kenan and Kel. In the opening segment they were in front of an audience introducing the episode and the final lines of the opener went something like \"Not Kel I want you to meet by behind the supermarket with a tape, a hose and a fish. This will by no means be a complicated program but it is still fun! (at least for me)"
   ]
  },
  {
   "cell_type": "markdown",
   "id": "68953b1e-20f3-4204-a24f-0419ffd3235b",
   "metadata": {},
   "source": [
    "## Code"
   ]
  },
  {
   "cell_type": "markdown",
   "id": "aff11dbb-12bb-4e1d-8b80-030bf626d1b7",
   "metadata": {},
   "source": [
    "This first snipper is going to compile the list of items and places we are going to use for the dialogue"
   ]
  },
  {
   "cell_type": "code",
   "execution_count": 16,
   "id": "6d2d3277-3d4a-43b7-93e7-44a90ae3c592",
   "metadata": {},
   "outputs": [],
   "source": [
    "import csv\n",
    "\n",
    "itemList = []\n",
    "placeList = []\n",
    "\n",
    "with open('/Users/mhino/Documents/Python_Learning/Files/items.csv') as itemFile:\n",
    "    itemReader = csv.DictReader(itemFile)\n",
    "    for items in itemReader:\n",
    "        itemList.append(items['item_name'])\n",
    "\n",
    "with open('/Users/mhino/Documents/Python_Learning/Files/places.csv') as placeFile:\n",
    "    placeReader = csv.DictReader(placeFile)\n",
    "    for items in placeReader:\n",
    "        placeList.append(items['place_name'])"
   ]
  },
  {
   "cell_type": "markdown",
   "id": "924abea0-75a0-47cb-a2c1-950242bde8ea",
   "metadata": {},
   "source": [
    "Now we need to store the choices to use for the dialogue"
   ]
  },
  {
   "cell_type": "code",
   "execution_count": 17,
   "id": "e728a1c7-ad52-4f04-adec-000bde0c62e7",
   "metadata": {},
   "outputs": [],
   "source": [
    "import random\n",
    "\n",
    "placeChoice = random.choice(placeList)\n",
    "itemChoices = random.choices(itemList,k=3)\n",
    "timeChoice = random.randint(5,30)"
   ]
  },
  {
   "cell_type": "markdown",
   "id": "1005f0a8-2996-4b07-b7d2-a750779445f5",
   "metadata": {},
   "source": [
    "Lastly, we need to compile the dialogue to be used"
   ]
  },
  {
   "cell_type": "code",
   "execution_count": 18,
   "id": "f89c295c-7d02-43a5-9167-c89be27aaf19",
   "metadata": {},
   "outputs": [
    {
     "name": "stdout",
     "output_type": "stream",
     "text": [
      "Alright Kel, lets get this epsidode started, but before we do I need you to grab these items ['helmet', 'blanket', 'bottle'] and meet me behind the marina in exactly 10 minutes\n"
     ]
    }
   ],
   "source": [
    "print(f'Alright Kel, lets get this epsidode started, but before we do I need you to grab these items {itemChoices} and meet me behind the {placeChoice} in exactly {timeChoice} minutes')"
   ]
  }
 ],
 "metadata": {
  "kernelspec": {
   "display_name": "Python 3 (ipykernel)",
   "language": "python",
   "name": "python3"
  },
  "language_info": {
   "codemirror_mode": {
    "name": "ipython",
    "version": 3
   },
   "file_extension": ".py",
   "mimetype": "text/x-python",
   "name": "python",
   "nbconvert_exporter": "python",
   "pygments_lexer": "ipython3",
   "version": "3.12.5"
  }
 },
 "nbformat": 4,
 "nbformat_minor": 5
}
