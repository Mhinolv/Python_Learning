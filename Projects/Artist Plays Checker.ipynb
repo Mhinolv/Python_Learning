{
 "cells": [
  {
   "cell_type": "markdown",
   "id": "3273afd5-2438-4af5-914f-4f1e7688ff56",
   "metadata": {},
   "source": [
    "## Overview"
   ]
  },
  {
   "cell_type": "markdown",
   "id": "85eb5102-3bbb-47d8-abbd-d13e0cd4d707",
   "metadata": {},
   "source": [
    "For this project I am going to be practicing the opening of a file to create lists, creating a tuple unpacking function, unpacking tuples into individual variables and then calling those variables in a print statement"
   ]
  },
  {
   "cell_type": "markdown",
   "id": "d596e888-843c-4433-9102-166a1bb2e7cb",
   "metadata": {},
   "source": [
    "Let's say that we have a list of artists, and their monthly streams. I want to create a function that will return the artist that has the greatest number of plays and then give me more information about that aritst. "
   ]
  },
  {
   "cell_type": "markdown",
   "id": "596c4fc5-c0c3-48b1-b9fe-ca2cc5c00bba",
   "metadata": {},
   "source": [
    "## Code"
   ]
  },
  {
   "cell_type": "code",
   "execution_count": 46,
   "id": "6378a396-d450-4f61-baa4-cf204fa0fc00",
   "metadata": {},
   "outputs": [
    {
     "data": {
      "text/plain": [
       "[('Silver Echo', 523400, '2008'),\n",
       " ('Lunar Tide', 412300, '2012'),\n",
       " ('Neon Harbor', 785200, '2015'),\n",
       " ('Crimson Vale', 309800, '2003'),\n",
       " ('Desert Bloom', 245600, '2019'),\n",
       " ('Velvet Horizon', 678900, '2005'),\n",
       " ('Aurora Drift', 159400, '2010'),\n",
       " ('Iron Skyline', 334500, '2007'),\n",
       " ('Echoing Pines', 442100, '2014'),\n",
       " ('Golden Meadow', 273900, '2000'),\n",
       " ('Midnight Solace', 598700, '2018'),\n",
       " ('Paper Lanterns', 198300, '2011'),\n",
       " ('Chrome Atlas', 726800, '2002'),\n",
       " ('Silent Whispers', 387200, '2016'),\n",
       " ('Electric Mirage', 812500, '2013'),\n",
       " ('Opal Dreams', 146900, '2001'),\n",
       " ('Rust & Roses', 254700, '2009'),\n",
       " ('Crystal Canyon', 491200, '2004'),\n",
       " ('Shadow Mosaic', 369800, '2017'),\n",
       " ('White Dune', 223400, '2006'),\n",
       " ('Verdant Echoes', 158600, '1998'),\n",
       " ('Glass Carousel', 402300, '2010'),\n",
       " ('Solar Flare', 719500, '2012'),\n",
       " ('Twilight Ember', 286100, '2015'),\n",
       " ('Midday Reverie', 134800, '1999')]"
      ]
     },
     "execution_count": 46,
     "metadata": {},
     "output_type": "execute_result"
    }
   ],
   "source": [
    "# Open a csv file and write the data into a list of tuples for each artist\n",
    "import csv\n",
    "\n",
    "with open(r'C:\\Users\\mhino\\Documents\\Python_Learning\\Files\\artist_plays.csv') as file:\n",
    "    fileReader = csv.DictReader(file)\n",
    "    artist = []\n",
    "    monthly_plays = []\n",
    "    artist_start_year = []\n",
    "    \n",
    "    for row in fileReader:\n",
    "        artist.append(row['artist']) \n",
    "        monthly_plays.append(int(row['monthly_plays']))\n",
    "        artist_start_year.append(row['artist_start_year'])\n",
    "\n",
    "artist_list = list(zip(artist, monthly_plays, artist_start_year))\n",
    "\n",
    "artist_list"
   ]
  },
  {
   "cell_type": "code",
   "execution_count": 47,
   "id": "2158d0a2-3fde-4d38-9ef8-8adb1c3d1b63",
   "metadata": {},
   "outputs": [],
   "source": [
    "# Create a function that can intake a list of tuples and return the max value of monthly_plays and associated attributes\n",
    "def artist_check(artists):\n",
    "    \n",
    "    plays_check = 0\n",
    "    artist_name = str()\n",
    "    year_start = str()\n",
    "    \n",
    "    for artist,plays,year in artist_list:\n",
    "        if plays > plays_check:\n",
    "            plays_check = plays\n",
    "            artist_name = artist\n",
    "            year_start = year\n",
    "\n",
    "    return(artist_name,plays_check,year_start)"
   ]
  },
  {
   "cell_type": "code",
   "execution_count": 48,
   "id": "98268e6a-7607-46ad-befb-80d4642f71c5",
   "metadata": {},
   "outputs": [
    {
     "name": "stdout",
     "output_type": "stream",
     "text": [
      "The artist with the highest plays was Electric Mirage with 812500 monthly plays, who debuted in 2013\n"
     ]
    }
   ],
   "source": [
    "# Call the function to unpack and compare the values inside the tuples and return the artist with the highest mothly_plays\n",
    "\n",
    "artist,plays,year = artist_check(artist_list)\n",
    "\n",
    "print(f'The artist with the highest plays was {artist} with {plays} monthly plays, who debuted in {year}')"
   ]
  },
  {
   "cell_type": "markdown",
   "id": "b669f334-912c-4219-a9e3-2a90f505e41f",
   "metadata": {},
   "source": [
    "We have to check to make sure the function will always return the artists with the most plays, we will manufacture data and add in into the list and run the function again"
   ]
  },
  {
   "cell_type": "code",
   "execution_count": 49,
   "id": "c24c2e05-3046-4b8b-800b-c493a42ac696",
   "metadata": {},
   "outputs": [
    {
     "data": {
      "text/plain": [
       "('Half Empty', 925500, '2021')"
      ]
     },
     "execution_count": 49,
     "metadata": {},
     "output_type": "execute_result"
    }
   ],
   "source": [
    "# Adding a new row into artist_list with a higher monthly_plays and verify it was added\n",
    "artist_list.append(('Half Empty', 925500, '2021'))\n",
    "\n",
    "artist_list[-1]"
   ]
  },
  {
   "cell_type": "code",
   "execution_count": 51,
   "id": "01fe927d-04a4-41e6-8ef9-deb20e723a58",
   "metadata": {},
   "outputs": [
    {
     "name": "stdout",
     "output_type": "stream",
     "text": [
      "The artist with the highest plays was Half Empty with 925500 monthly plays, who debuted in 2021\n"
     ]
    }
   ],
   "source": [
    "# Run function again with newvalues to ensure it returns the new expected artist Half Empty\n",
    "\n",
    "artist,plays,year = artist_check(artist_list)\n",
    "\n",
    "print(f'The artist with the highest plays was {artist} with {plays} monthly plays, who debuted in {year}')"
   ]
  },
  {
   "cell_type": "markdown",
   "id": "220b4413-7e66-4e68-bc9e-e1e8b629bb1e",
   "metadata": {},
   "source": [
    "## Conclusion"
   ]
  },
  {
   "cell_type": "markdown",
   "id": "25fa0315-23e9-43d7-8670-3e86b7972910",
   "metadata": {},
   "source": [
    "This was a relatively straightforward project but there were a few things that I had to learn to make it work:\n",
    "\n",
    "- When appending values into a new list from the csv reader, ensure you are casting the the correct type\n",
    "- Zip compresses multiple lists into a single list following index order\n",
    "- Proper usage of temp variables inside of a function"
   ]
  },
  {
   "cell_type": "code",
   "execution_count": null,
   "id": "1efcd54d-3b4a-4c80-9b28-b825e6ef6a9c",
   "metadata": {},
   "outputs": [],
   "source": []
  }
 ],
 "metadata": {
  "kernelspec": {
   "display_name": "Python 3 (ipykernel)",
   "language": "python",
   "name": "python3"
  },
  "language_info": {
   "codemirror_mode": {
    "name": "ipython",
    "version": 3
   },
   "file_extension": ".py",
   "mimetype": "text/x-python",
   "name": "python",
   "nbconvert_exporter": "python",
   "pygments_lexer": "ipython3",
   "version": "3.12.5"
  }
 },
 "nbformat": 4,
 "nbformat_minor": 5
}
