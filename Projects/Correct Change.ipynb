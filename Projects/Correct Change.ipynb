{
 "cells": [
  {
   "cell_type": "markdown",
   "id": "04726a6b-f85e-4ea6-86a1-2052141d422d",
   "metadata": {},
   "source": [
    "## Overview"
   ]
  },
  {
   "cell_type": "markdown",
   "id": "211ca9fa-4d0e-4eb0-b7f0-92dc2e86114f",
   "metadata": {},
   "source": [
    "WHen I was younger I really did not like math at all. It really was not until I got my first taste of Data Science that I became more of a fan of math and math related problems. I remember early problems problems that always REALLY bothered me for some reason was correct change questions. As in \"if an apple is 29 cents and you pay 50 cents how much will you get back?\" To prove that I have turned a new leaf I am going to design something similar where a target amount is given, and based on a list on items, two must create the correct change."
   ]
  },
  {
   "cell_type": "markdown",
   "id": "d907aa6e-3c00-40e4-97df-797f7c4d9c9d",
   "metadata": {},
   "source": [
    "Let's say that Johnny has 1 penny, a nickel, a dime and quarter in his pocket. If someone were to ask for 26 cents, could we develop a program that returns the correct coins based on their index to make exact change?"
   ]
  },
  {
   "cell_type": "markdown",
   "id": "fac1e36f-51d6-4ff2-829d-3823aa4270e9",
   "metadata": {},
   "source": [
    "## Code"
   ]
  },
  {
   "cell_type": "code",
   "execution_count": 68,
   "id": "43ae49a2-6bf4-4ed4-af34-822a25b954e8",
   "metadata": {},
   "outputs": [],
   "source": [
    "# Create a list of correct change for us to use\n",
    "\n",
    "coinList = [.01,.05,.1,.25]\n",
    "amount = .26"
   ]
  },
  {
   "cell_type": "code",
   "execution_count": 75,
   "id": "198dc363-8ba3-4917-9a1b-b0b6c2c6ca9d",
   "metadata": {},
   "outputs": [],
   "source": [
    "# Define a function that can return the items from the list to make correct change\n",
    "\n",
    "def exact_change(coins, target):\n",
    "    coinDict = {}\n",
    "    for idx, item in enumerate(coins):\n",
    "        remainder = round(target - item,2)\n",
    "        if remainder in coinDict:\n",
    "            return [coinDict[remainder],idx]\n",
    "        coinDict[item] = idx"
   ]
  },
  {
   "cell_type": "code",
   "execution_count": 72,
   "id": "1471682a-ead2-407c-a77f-609cbefd59c3",
   "metadata": {},
   "outputs": [
    {
     "data": {
      "text/plain": [
       "[0, 3]"
      ]
     },
     "execution_count": 72,
     "metadata": {},
     "output_type": "execute_result"
    }
   ],
   "source": [
    "result = exact_change(coinList, amount)\n",
    "result"
   ]
  },
  {
   "cell_type": "markdown",
   "id": "e976f979-9e43-4640-b795-6a9169822d44",
   "metadata": {},
   "source": [
    "## Conclusion"
   ]
  },
  {
   "cell_type": "markdown",
   "id": "53341057-2884-45f1-b64b-ae5f898fed18",
   "metadata": {},
   "source": [
    "While this was not super complex code it did provide with a few challenges and learning:\n",
    "\n",
    "- Using a dictionary to lookup stored values to compare from an iteration\n",
    "- THe precise nature of floating point numbers\n",
    "- Using return within control logic and not at the very end"
   ]
  }
 ],
 "metadata": {
  "kernelspec": {
   "display_name": "Python 3 (ipykernel)",
   "language": "python",
   "name": "python3"
  },
  "language_info": {
   "codemirror_mode": {
    "name": "ipython",
    "version": 3
   },
   "file_extension": ".py",
   "mimetype": "text/x-python",
   "name": "python",
   "nbconvert_exporter": "python",
   "pygments_lexer": "ipython3",
   "version": "3.12.5"
  }
 },
 "nbformat": 4,
 "nbformat_minor": 5
}
