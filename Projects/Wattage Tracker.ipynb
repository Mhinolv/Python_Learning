{
 "cells": [
  {
   "cell_type": "code",
   "execution_count": 80,
   "id": "9e0294ed-f9c3-41c0-9874-244cfa528e4d",
   "metadata": {},
   "outputs": [],
   "source": [
    "## Tracks wattage of items base on items and wattage listed"
   ]
  },
  {
   "cell_type": "code",
   "execution_count": 81,
   "id": "c94d3ba8-bd8d-40c7-a1d3-d3c600678750",
   "metadata": {},
   "outputs": [],
   "source": [
    "decision = 'Y'\n",
    "items = {}"
   ]
  },
  {
   "cell_type": "code",
   "execution_count": 82,
   "id": "e3668a43-c021-4a64-98d2-e5ec7e68b306",
   "metadata": {},
   "outputs": [
    {
     "name": "stdin",
     "output_type": "stream",
     "text": [
      "Wattage 13\n",
      "Item Name piano\n",
      "Do you want to add a new item Y/N? N\n"
     ]
    }
   ],
   "source": [
    "while decision != 'N':\n",
    "    while decision != 'Y' and decision != 'N':\n",
    "        print('Must input Y/N')\n",
    "        decision = input('Do you want to add a new item Y/N?')\n",
    "    items[input('Item Name')] = input('Wattage')\n",
    "    decision = input('Do you want to add a new item Y/N?')"
   ]
  },
  {
   "cell_type": "code",
   "execution_count": 83,
   "id": "1bcd61d4-eea9-45f9-b2af-879dc351b198",
   "metadata": {},
   "outputs": [
    {
     "name": "stdin",
     "output_type": "stream",
     "text": [
      "How many hours of usage? 2\n"
     ]
    }
   ],
   "source": [
    "hours = int(input('How many hours of usage?'))"
   ]
  },
  {
   "cell_type": "code",
   "execution_count": 84,
   "id": "8b8b306c-07de-4dd7-9b69-2f95d58cb40c",
   "metadata": {},
   "outputs": [
    {
     "name": "stdout",
     "output_type": "stream",
     "text": [
      "piano will consume 26 watts (1.0% of power bank) in 2 hours and will take 0.2 hours to charge\n"
     ]
    }
   ],
   "source": [
    "for a,b in items.items():\n",
    "    wattage = int(b) * hours\n",
    "    percentOfPower = round(wattage/2200,2) * 100\n",
    "    chargeTime = round(wattage / 150,1)\n",
    "    print(f'{a} will consume {wattage} watts ({percentOfPower}% of power bank) in {hours} hours and will take {chargeTime} hours to charge')"
   ]
  }
 ],
 "metadata": {
  "kernelspec": {
   "display_name": "Python 3 (ipykernel)",
   "language": "python",
   "name": "python3"
  },
  "language_info": {
   "codemirror_mode": {
    "name": "ipython",
    "version": 3
   },
   "file_extension": ".py",
   "mimetype": "text/x-python",
   "name": "python",
   "nbconvert_exporter": "python",
   "pygments_lexer": "ipython3",
   "version": "3.9.6"
  }
 },
 "nbformat": 4,
 "nbformat_minor": 5
}
