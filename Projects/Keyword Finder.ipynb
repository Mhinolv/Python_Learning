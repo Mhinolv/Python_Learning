{
 "cells": [
  {
   "cell_type": "markdown",
   "id": "5defbb29-628e-4b4f-b82d-e570db064280",
   "metadata": {},
   "source": [
    "I have personally never done this before but maybe with this program I will start. I am talking about the number of times a word appears in a collection of words. It seems like it would be useful for something but I don't know what that something is. Either way, I thought it would be cool to put something together that not only returns the final count of instances but tells you exactly where those instances of an item is."
   ]
  },
  {
   "cell_type": "code",
   "execution_count": 1,
   "id": "cb18a8d3-a715-4cd6-ad36-1b99a190e5a3",
   "metadata": {},
   "outputs": [],
   "source": [
    "# Create a variable for the long for text"
   ]
  },
  {
   "cell_type": "code",
   "execution_count": 19,
   "id": "c9ee5d05-1fa2-41c2-8041-ff1255106113",
   "metadata": {},
   "outputs": [
    {
     "name": "stdin",
     "output_type": "stream",
     "text": [
      "Enter text that you want to search through Two roads diverged in a yellow wood, And sorry I could not travel both And be one traveler, long I stood And looked down one as far as I could To where it bent in the undergrowth;\n",
      "Please enter a search term AND\n"
     ]
    },
    {
     "name": "stdout",
     "output_type": "stream",
     "text": [
      "The word AND is on word 8\n",
      "The word AND is on word 15\n",
      "The word AND is on word 22\n",
      "There was 3 instances of the word: and\n"
     ]
    }
   ],
   "source": [
    "paraVar = input('Enter text that you want to search through')\n",
    "cleanedVar = str()\n",
    "\n",
    "# Clean up punction and only keep word terms\n",
    "for letters in paraVar:\n",
    "    if letters.isalpha() == True or letters.isspace() == True:\n",
    "        cleanedVar = cleanedVar + letters\n",
    "\n",
    "# Split the words into a list\n",
    "wordList = cleanedVar.split()\n",
    "\n",
    "wordList\n",
    "\n",
    "# User input for term to search for\n",
    "searchWord = input('Please enter a search term')\n",
    "\n",
    "# Iterates through list and adds index with enumerate()\n",
    "wordCounter = 0\n",
    "for idx, item in enumerate(wordList):\n",
    "    if item.lower() == searchWord.lower():\n",
    "        print(f'The word {searchWord} is on word {idx + 1}')\n",
    "        wordCounter += 1\n",
    "\n",
    "# Print the final tally\n",
    "print(f'There was {wordCounter} instances of the word: {searchWord.lower()}')"
   ]
  },
  {
   "cell_type": "code",
   "execution_count": null,
   "id": "971e94c4-8ffe-4a87-ad3d-06e8c7ebe67c",
   "metadata": {},
   "outputs": [],
   "source": []
  }
 ],
 "metadata": {
  "kernelspec": {
   "display_name": "Python 3 (ipykernel)",
   "language": "python",
   "name": "python3"
  },
  "language_info": {
   "codemirror_mode": {
    "name": "ipython",
    "version": 3
   },
   "file_extension": ".py",
   "mimetype": "text/x-python",
   "name": "python",
   "nbconvert_exporter": "python",
   "pygments_lexer": "ipython3",
   "version": "3.12.5"
  }
 },
 "nbformat": 4,
 "nbformat_minor": 5
}
