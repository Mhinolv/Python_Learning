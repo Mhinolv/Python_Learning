{
 "cells": [
  {
   "cell_type": "code",
   "execution_count": 16,
   "id": "14c15434-6c36-48a2-b10d-4d39b53b9abd",
   "metadata": {},
   "outputs": [
    {
     "name": "stdin",
     "output_type": "stream",
     "text": [
      "Name of item lights\n",
      "Watts per hour 12\n"
     ]
    }
   ],
   "source": [
    "newDict = {input('Name of item'):input('Watts per hour')}"
   ]
  },
  {
   "cell_type": "code",
   "execution_count": 17,
   "id": "e8f05686-cb3b-485d-9c5a-08b8e1325f69",
   "metadata": {},
   "outputs": [
    {
     "data": {
      "text/plain": [
       "{'lights': '12'}"
      ]
     },
     "execution_count": 17,
     "metadata": {},
     "output_type": "execute_result"
    }
   ],
   "source": [
    "newDict"
   ]
  },
  {
   "cell_type": "code",
   "execution_count": 18,
   "id": "cacb26ee-5a81-4aa1-b16d-370086e7c5a3",
   "metadata": {},
   "outputs": [
    {
     "name": "stdin",
     "output_type": "stream",
     "text": [
      "Do you want to add a new item? Y\n"
     ]
    }
   ],
   "source": [
    "decisionVar = input('Do you want to add a new item?')"
   ]
  },
  {
   "cell_type": "code",
   "execution_count": 19,
   "id": "fda6dc7a-f701-400c-bebf-61e6110d3a72",
   "metadata": {},
   "outputs": [
    {
     "name": "stdin",
     "output_type": "stream",
     "text": [
      "Watts per hour 53\n",
      "Name of item phone\n"
     ]
    }
   ],
   "source": [
    "if decisionVar == 'Y':\n",
    "    newDict[input('Name of item')] = input('Watts per hour')\n",
    "else:\n",
    "    print('All done then')"
   ]
  },
  {
   "cell_type": "code",
   "execution_count": null,
   "id": "9e0294ed-f9c3-41c0-9874-244cfa528e4d",
   "metadata": {},
   "outputs": [],
   "source": []
  }
 ],
 "metadata": {
  "kernelspec": {
   "display_name": "Python 3 (ipykernel)",
   "language": "python",
   "name": "python3"
  },
  "language_info": {
   "codemirror_mode": {
    "name": "ipython",
    "version": 3
   },
   "file_extension": ".py",
   "mimetype": "text/x-python",
   "name": "python",
   "nbconvert_exporter": "python",
   "pygments_lexer": "ipython3",
   "version": "3.9.6"
  }
 },
 "nbformat": 4,
 "nbformat_minor": 5
}
