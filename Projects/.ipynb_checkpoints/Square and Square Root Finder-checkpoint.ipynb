{
 "cells": [
  {
   "cell_type": "code",
   "execution_count": 31,
   "id": "961769f4-e9d8-4178-b62c-210a1fe05db8",
   "metadata": {},
   "outputs": [],
   "source": [
    "import math"
   ]
  },
  {
   "cell_type": "code",
   "execution_count": 25,
   "id": "7b3c982c-0b3c-4cd7-852f-67a172e8b91f",
   "metadata": {},
   "outputs": [
    {
     "name": "stdin",
     "output_type": "stream",
     "text": [
      "Please enter a number 737\n"
     ]
    }
   ],
   "source": [
    "var = input('Please entemr a number')"
   ]
  },
  {
   "cell_type": "code",
   "execution_count": 26,
   "id": "a5270df5-1d5a-4093-b8f5-711dafbf38c5",
   "metadata": {},
   "outputs": [],
   "source": [
    "intvar = int(var)"
   ]
  },
  {
   "cell_type": "code",
   "execution_count": 27,
   "id": "47bac688-ef92-4888-93b7-3183b3eb52c2",
   "metadata": {},
   "outputs": [],
   "source": [
    "sq = intvar ** 2"
   ]
  },
  {
   "cell_type": "code",
   "execution_count": 28,
   "id": "e4c822c9-0bd2-4d17-999a-d4d20dc2b8c5",
   "metadata": {},
   "outputs": [],
   "source": [
    "sqrt = intvar ** .5"
   ]
  },
  {
   "cell_type": "code",
   "execution_count": 30,
   "id": "7909b965-e484-4b03-9f56-f8ae9e0b7e59",
   "metadata": {},
   "outputs": [
    {
     "name": "stdout",
     "output_type": "stream",
     "text": [
      "The square of your number is 543169 and the square root is 27.147743920996454\n"
     ]
    }
   ],
   "source": [
    "print(f'The square of your number is {sq} and the square root is {sqrt}')"
   ]
  }
 ],
 "metadata": {
  "kernelspec": {
   "display_name": "Python 3 (ipykernel)",
   "language": "python",
   "name": "python3"
  },
  "language_info": {
   "codemirror_mode": {
    "name": "ipython",
    "version": 3
   },
   "file_extension": ".py",
   "mimetype": "text/x-python",
   "name": "python",
   "nbconvert_exporter": "python",
   "pygments_lexer": "ipython3",
   "version": "3.9.6"
  }
 },
 "nbformat": 4,
 "nbformat_minor": 5
}
