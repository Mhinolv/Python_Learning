{
 "cells": [
  {
   "cell_type": "markdown",
   "id": "aac9c0db-d3d8-48e4-b070-6d9614a7e9e6",
   "metadata": {},
   "source": [
    "## Woodworking Fraction Generator"
   ]
  },
  {
   "cell_type": "markdown",
   "id": "111fc31a-25b1-4be7-8889-fd6c387f7733",
   "metadata": {},
   "source": [
    "Calculates the nearest fraction in wood working to the 16th or 32nd"
   ]
  },
  {
   "cell_type": "code",
   "execution_count": 70,
   "id": "964edb52-d055-4a61-a8fa-7dc5333e30e3",
   "metadata": {},
   "outputs": [
    {
     "name": "stdin",
     "output_type": "stream",
     "text": [
      "What is the decimal? .4125\n"
     ]
    }
   ],
   "source": [
    "num = float(input('What is the decimal?'))"
   ]
  },
  {
   "cell_type": "code",
   "execution_count": 71,
   "id": "1cc6fe6a-b9e5-4872-982f-d3d62e9357ff",
   "metadata": {},
   "outputs": [
    {
     "name": "stdout",
     "output_type": "stream",
     "text": [
      "32nds are closer so we will use that\n",
      "The cloest fraction is 13/32\n"
     ]
    }
   ],
   "source": [
    "if (num * 16) % .0625 < (num * 32) % .03125:\n",
    "    print('16ths are closer so we will use that')\n",
    "    num = int(round((num * 16),0))\n",
    "    print(f'The cloest fraction is {num}/16')\n",
    "elif (num * 16) % .0625 > (num * 32) % .03125:\n",
    "    print('32nds are closer so we will use that')\n",
    "    num = int(round((num * 32),0))\n",
    "    print(f'The cloest fraction is {num}/32')\n",
    "elif (num * 16) % .0625  == (num * 32) % .03125:\n",
    "    print('They are the same we will use 16ths')\n",
    "    num = int(num * 16)\n",
    "    print(f'The cloest fraction is {num}/16')\n",
    "else:\n",
    "    print('Unknown')"
   ]
  }
 ],
 "metadata": {
  "kernelspec": {
   "display_name": "Python 3 (ipykernel)",
   "language": "python",
   "name": "python3"
  },
  "language_info": {
   "codemirror_mode": {
    "name": "ipython",
    "version": 3
   },
   "file_extension": ".py",
   "mimetype": "text/x-python",
   "name": "python",
   "nbconvert_exporter": "python",
   "pygments_lexer": "ipython3",
   "version": "3.9.6"
  }
 },
 "nbformat": 4,
 "nbformat_minor": 5
}
