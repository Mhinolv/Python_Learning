{
 "cells": [
  {
   "cell_type": "markdown",
   "id": "f97595f9-004f-4b99-9963-e52a573cd0fe",
   "metadata": {},
   "source": [
    "## To Drink or Not to Drink"
   ]
  },
  {
   "cell_type": "markdown",
   "id": "75064264-b850-4961-8a13-6b3ae656845a",
   "metadata": {},
   "source": [
    "This is a simple exercise that opens a csv file, writes it to a dataframe loads the columns into lists and then a dictioanry and then creates an allowed or denied list based on who can and can't drink"
   ]
  },
  {
   "cell_type": "code",
   "execution_count": 2,
   "id": "d2f58aaf-770a-49bf-a32a-1e5429a37584",
   "metadata": {},
   "outputs": [],
   "source": [
    "import pandas as pd"
   ]
  },
  {
   "cell_type": "code",
   "execution_count": 3,
   "id": "ba73e982-2fb5-4f05-9c2a-dbc25d3850b6",
   "metadata": {},
   "outputs": [],
   "source": [
    "df = pd.read_csv('/Users/MarkHinojosa/Python_Learn/people.csv')"
   ]
  },
  {
   "cell_type": "code",
   "execution_count": 4,
   "id": "4a1c145d-fe24-4c1b-96a1-c09de2235081",
   "metadata": {},
   "outputs": [],
   "source": [
    "ageList = []\n",
    "nameList = []\n",
    "newDict = {}"
   ]
  },
  {
   "cell_type": "code",
   "execution_count": 5,
   "id": "c15bce7d-48d1-48ac-985f-caf002cc4f93",
   "metadata": {},
   "outputs": [],
   "source": [
    "for a in df['age']:\n",
    "    ageList.append(a)"
   ]
  },
  {
   "cell_type": "code",
   "execution_count": 6,
   "id": "daa3e70d-914f-4d7a-9112-b3c5d853b79b",
   "metadata": {},
   "outputs": [
    {
     "data": {
      "text/plain": [
       "[21, 29, 19, 56, 15, 14, 36]"
      ]
     },
     "execution_count": 6,
     "metadata": {},
     "output_type": "execute_result"
    }
   ],
   "source": [
    "ageList"
   ]
  },
  {
   "cell_type": "code",
   "execution_count": 7,
   "id": "ae2aef48-7d14-4700-8aad-d8dedc606a1e",
   "metadata": {},
   "outputs": [],
   "source": [
    "for a in df['name']:\n",
    "    nameList.append(a)"
   ]
  },
  {
   "cell_type": "code",
   "execution_count": 8,
   "id": "a13cf0fb-f286-47b4-a84e-3bcf1cf90452",
   "metadata": {},
   "outputs": [
    {
     "data": {
      "text/plain": [
       "['Brad', 'Courtney', 'Steve', 'Martha', 'Josh', 'Alana', 'David']"
      ]
     },
     "execution_count": 8,
     "metadata": {},
     "output_type": "execute_result"
    }
   ],
   "source": [
    "nameList"
   ]
  },
  {
   "cell_type": "code",
   "execution_count": 9,
   "id": "2deb8586-a0cf-4a6f-930e-ae5a85002284",
   "metadata": {},
   "outputs": [],
   "source": [
    "ageList.reverse()"
   ]
  },
  {
   "cell_type": "code",
   "execution_count": 10,
   "id": "17cf5519-d80c-4bb1-9478-05064dae5217",
   "metadata": {},
   "outputs": [],
   "source": [
    "for x in nameList:\n",
    "    newDict[x] = ageList.pop()"
   ]
  },
  {
   "cell_type": "code",
   "execution_count": 11,
   "id": "c2a979b6-120d-4277-96be-e75530ea50cd",
   "metadata": {},
   "outputs": [
    {
     "data": {
      "text/plain": [
       "{'Brad': 21,\n",
       " 'Courtney': 29,\n",
       " 'Steve': 19,\n",
       " 'Martha': 56,\n",
       " 'Josh': 15,\n",
       " 'Alana': 14,\n",
       " 'David': 36}"
      ]
     },
     "execution_count": 11,
     "metadata": {},
     "output_type": "execute_result"
    }
   ],
   "source": [
    "newDict"
   ]
  },
  {
   "cell_type": "code",
   "execution_count": 12,
   "id": "d4254885-6402-4efe-bb29-51aadd488c59",
   "metadata": {},
   "outputs": [],
   "source": [
    "allowedList = []\n",
    "deniedList = []"
   ]
  },
  {
   "cell_type": "code",
   "execution_count": 13,
   "id": "36efb9d6-e9f8-4542-8a46-84fe67b07553",
   "metadata": {},
   "outputs": [],
   "source": [
    "for a,b in newDict.items():\n",
    "    if b < 21:\n",
    "        deniedList.append(a)\n",
    "    if b >= 21:\n",
    "        allowedList.append(a)"
   ]
  },
  {
   "cell_type": "code",
   "execution_count": 14,
   "id": "3182cb87-d87c-41d0-a2a8-b76e248caf99",
   "metadata": {},
   "outputs": [
    {
     "data": {
      "text/plain": [
       "['Brad', 'Courtney', 'Martha', 'David']"
      ]
     },
     "execution_count": 14,
     "metadata": {},
     "output_type": "execute_result"
    }
   ],
   "source": [
    "allowedList"
   ]
  },
  {
   "cell_type": "code",
   "execution_count": 15,
   "id": "c1d23997-e7d9-49d6-9257-d267bc646fa7",
   "metadata": {},
   "outputs": [
    {
     "data": {
      "text/plain": [
       "['Steve', 'Josh', 'Alana']"
      ]
     },
     "execution_count": 15,
     "metadata": {},
     "output_type": "execute_result"
    }
   ],
   "source": [
    "deniedList"
   ]
  }
 ],
 "metadata": {
  "kernelspec": {
   "display_name": "Python 3 (ipykernel)",
   "language": "python",
   "name": "python3"
  },
  "language_info": {
   "codemirror_mode": {
    "name": "ipython",
    "version": 3
   },
   "file_extension": ".py",
   "mimetype": "text/x-python",
   "name": "python",
   "nbconvert_exporter": "python",
   "pygments_lexer": "ipython3",
   "version": "3.9.6"
  }
 },
 "nbformat": 4,
 "nbformat_minor": 5
}
