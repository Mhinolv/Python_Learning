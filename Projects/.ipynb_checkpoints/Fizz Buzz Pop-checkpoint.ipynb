{
 "cells": [
  {
   "cell_type": "markdown",
   "id": "2cd4bc6a-201c-437c-817c-184c1f7b4c91",
   "metadata": {},
   "source": [
    "#### Classic problem: Odds are fizz, evens are buzz, 50 and 100 are pop"
   ]
  },
  {
   "cell_type": "markdown",
   "id": "02900e81-69f1-421a-9a9a-54999e7fab90",
   "metadata": {},
   "source": [
    "Solution with use of variable"
   ]
  },
  {
   "cell_type": "code",
   "execution_count": 1,
   "id": "709ae831-3523-407c-8f03-bce393b4d5a7",
   "metadata": {},
   "outputs": [],
   "source": [
    "listVar = []"
   ]
  },
  {
   "cell_type": "code",
   "execution_count": 2,
   "id": "f93cd6ea-3d7e-44c4-abe5-b9056ae09f33",
   "metadata": {},
   "outputs": [
    {
     "data": {
      "text/plain": [
       "0"
      ]
     },
     "execution_count": 2,
     "metadata": {},
     "output_type": "execute_result"
    }
   ],
   "source": [
    "len(listVar)"
   ]
  },
  {
   "cell_type": "code",
   "execution_count": 3,
   "id": "a9c5f058-7fb2-49d1-a8b5-82cdb11f0c08",
   "metadata": {},
   "outputs": [],
   "source": [
    "for nums in range(1,101):\n",
    "    listVar.append(nums)"
   ]
  },
  {
   "cell_type": "code",
   "execution_count": 4,
   "id": "f03e46c2-fe6c-4921-a59a-3d4a391b028a",
   "metadata": {},
   "outputs": [
    {
     "data": {
      "text/plain": [
       "100"
      ]
     },
     "execution_count": 4,
     "metadata": {},
     "output_type": "execute_result"
    }
   ],
   "source": [
    "len(listVar)"
   ]
  },
  {
   "cell_type": "code",
   "execution_count": 7,
   "id": "61a2bfb2-25c2-4f36-9aad-e97b8a9d3c23",
   "metadata": {},
   "outputs": [
    {
     "name": "stdout",
     "output_type": "stream",
     "text": [
      "Fizz\n",
      "Buzz\n",
      "Fizz\n",
      "Buzz\n",
      "Fizz\n",
      "Buzz\n",
      "Fizz\n",
      "Buzz\n",
      "Fizz\n",
      "Buzz\n",
      "Fizz\n",
      "Buzz\n",
      "Fizz\n",
      "Buzz\n",
      "Fizz\n",
      "Buzz\n",
      "Fizz\n",
      "Buzz\n",
      "Fizz\n",
      "Buzz\n",
      "Fizz\n",
      "Buzz\n",
      "Fizz\n",
      "Buzz\n",
      "Fizz\n",
      "Buzz\n",
      "Fizz\n",
      "Buzz\n",
      "Fizz\n",
      "Buzz\n",
      "Fizz\n",
      "Buzz\n",
      "Fizz\n",
      "Buzz\n",
      "Fizz\n",
      "Buzz\n",
      "Fizz\n",
      "Buzz\n",
      "Fizz\n",
      "Buzz\n",
      "Fizz\n",
      "Buzz\n",
      "Fizz\n",
      "Buzz\n",
      "Fizz\n",
      "Buzz\n",
      "Fizz\n",
      "Buzz\n",
      "Fizz\n",
      "Pop\n",
      "Fizz\n",
      "Buzz\n",
      "Fizz\n",
      "Buzz\n",
      "Fizz\n",
      "Buzz\n",
      "Fizz\n",
      "Buzz\n",
      "Fizz\n",
      "Buzz\n",
      "Fizz\n",
      "Buzz\n",
      "Fizz\n",
      "Buzz\n",
      "Fizz\n",
      "Buzz\n",
      "Fizz\n",
      "Buzz\n",
      "Fizz\n",
      "Buzz\n",
      "Fizz\n",
      "Buzz\n",
      "Fizz\n",
      "Buzz\n",
      "Fizz\n",
      "Buzz\n",
      "Fizz\n",
      "Buzz\n",
      "Fizz\n",
      "Buzz\n",
      "Fizz\n",
      "Buzz\n",
      "Fizz\n",
      "Buzz\n",
      "Fizz\n",
      "Buzz\n",
      "Fizz\n",
      "Buzz\n",
      "Fizz\n",
      "Buzz\n",
      "Fizz\n",
      "Buzz\n",
      "Fizz\n",
      "Buzz\n",
      "Fizz\n",
      "Buzz\n",
      "Fizz\n",
      "Buzz\n",
      "Fizz\n",
      "Pop\n"
     ]
    }
   ],
   "source": [
    "for nums in listVar:\n",
    "    if nums % 50 == 0:\n",
    "        print('Pop')\n",
    "    elif nums % 2 == 0:\n",
    "        print('Buzz')\n",
    "    else:\n",
    "        print('Fizz')"
   ]
  },
  {
   "cell_type": "markdown",
   "id": "06494ab5-e926-4933-9873-322eb6803065",
   "metadata": {},
   "source": [
    "Solution without use of variable"
   ]
  },
  {
   "cell_type": "code",
   "execution_count": 10,
   "id": "6f614d3b-aa1a-4acc-bd1b-177130a6b92f",
   "metadata": {},
   "outputs": [
    {
     "name": "stdout",
     "output_type": "stream",
     "text": [
      "Fizz\n",
      "Buzz\n",
      "Fizz\n",
      "Buzz\n",
      "Fizz\n",
      "Buzz\n",
      "Fizz\n",
      "Buzz\n",
      "Fizz\n",
      "Buzz\n",
      "Fizz\n",
      "Buzz\n",
      "Fizz\n",
      "Buzz\n",
      "Fizz\n",
      "Buzz\n",
      "Fizz\n",
      "Buzz\n",
      "Fizz\n",
      "Buzz\n",
      "Fizz\n",
      "Buzz\n",
      "Fizz\n",
      "Buzz\n",
      "Fizz\n",
      "Buzz\n",
      "Fizz\n",
      "Buzz\n",
      "Fizz\n",
      "Buzz\n",
      "Fizz\n",
      "Buzz\n",
      "Fizz\n",
      "Buzz\n",
      "Fizz\n",
      "Buzz\n",
      "Fizz\n",
      "Buzz\n",
      "Fizz\n",
      "Buzz\n",
      "Fizz\n",
      "Buzz\n",
      "Fizz\n",
      "Buzz\n",
      "Fizz\n",
      "Buzz\n",
      "Fizz\n",
      "Buzz\n",
      "Fizz\n",
      "Pop\n",
      "Fizz\n",
      "Buzz\n",
      "Fizz\n",
      "Buzz\n",
      "Fizz\n",
      "Buzz\n",
      "Fizz\n",
      "Buzz\n",
      "Fizz\n",
      "Buzz\n",
      "Fizz\n",
      "Buzz\n",
      "Fizz\n",
      "Buzz\n",
      "Fizz\n",
      "Buzz\n",
      "Fizz\n",
      "Buzz\n",
      "Fizz\n",
      "Buzz\n",
      "Fizz\n",
      "Buzz\n",
      "Fizz\n",
      "Buzz\n",
      "Fizz\n",
      "Buzz\n",
      "Fizz\n",
      "Buzz\n",
      "Fizz\n",
      "Buzz\n",
      "Fizz\n",
      "Buzz\n",
      "Fizz\n",
      "Buzz\n",
      "Fizz\n",
      "Buzz\n",
      "Fizz\n",
      "Buzz\n",
      "Fizz\n",
      "Buzz\n",
      "Fizz\n",
      "Buzz\n",
      "Fizz\n",
      "Buzz\n",
      "Fizz\n",
      "Buzz\n",
      "Fizz\n",
      "Buzz\n",
      "Fizz\n",
      "Pop\n"
     ]
    }
   ],
   "source": [
    "for _ in range(1,101):\n",
    "    if _ % 50 == 0:\n",
    "        print('Pop')\n",
    "    elif _ % 2 == 0:\n",
    "        print('Buzz')\n",
    "    else:\n",
    "        print('Fizz')"
   ]
  },
  {
   "cell_type": "code",
   "execution_count": null,
   "id": "03d15de2-dc7e-4ec8-80e4-57dd33fae6b9",
   "metadata": {},
   "outputs": [],
   "source": []
  }
 ],
 "metadata": {
  "kernelspec": {
   "display_name": "Python 3 (ipykernel)",
   "language": "python",
   "name": "python3"
  },
  "language_info": {
   "codemirror_mode": {
    "name": "ipython",
    "version": 3
   },
   "file_extension": ".py",
   "mimetype": "text/x-python",
   "name": "python",
   "nbconvert_exporter": "python",
   "pygments_lexer": "ipython3",
   "version": "3.9.6"
  }
 },
 "nbformat": 4,
 "nbformat_minor": 5
}
