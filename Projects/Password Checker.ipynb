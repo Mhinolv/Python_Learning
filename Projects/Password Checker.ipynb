{
 "cells": [
  {
   "cell_type": "markdown",
   "id": "4c6b55fd-ec9e-4397-bccd-47b539add8d3",
   "metadata": {},
   "source": [
    "Password Rules:\n",
    "\n",
    "* Must be 8 characters\n",
    "* Must contain a number\n",
    "* Must contain a letter"
   ]
  },
  {
   "cell_type": "code",
   "execution_count": 25,
   "id": "018917b8-ec4a-430f-ade9-71449db9db48",
   "metadata": {},
   "outputs": [
    {
     "name": "stdin",
     "output_type": "stream",
     "text": [
      "Choose a password Monkeynut1\n"
     ]
    }
   ],
   "source": [
    "password = input('Choose a password')"
   ]
  },
  {
   "cell_type": "code",
   "execution_count": 26,
   "id": "47e7c403-7274-4b97-8729-18b6596b2ff2",
   "metadata": {},
   "outputs": [
    {
     "name": "stdout",
     "output_type": "stream",
     "text": [
      "Nice Password\n"
     ]
    }
   ],
   "source": [
    "if len(password) < 8:\n",
    "    print('Password not long enough')\n",
    "elif password.isalpha() == True or password.isnumeric() == True:\n",
    "    print('Password must contain letters and numbers')\n",
    "elif password.isalpha() == False and password.isnumeric() == False and len(password) >= 8:\n",
    "    print('Nice Password')"
   ]
  }
 ],
 "metadata": {
  "kernelspec": {
   "display_name": "Python 3 (ipykernel)",
   "language": "python",
   "name": "python3"
  },
  "language_info": {
   "codemirror_mode": {
    "name": "ipython",
    "version": 3
   },
   "file_extension": ".py",
   "mimetype": "text/x-python",
   "name": "python",
   "nbconvert_exporter": "python",
   "pygments_lexer": "ipython3",
   "version": "3.9.6"
  }
 },
 "nbformat": 4,
 "nbformat_minor": 5
}
