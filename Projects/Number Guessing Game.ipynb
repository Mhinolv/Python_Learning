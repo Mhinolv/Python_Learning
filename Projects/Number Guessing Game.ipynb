{
 "cells": [
  {
   "cell_type": "markdown",
   "id": "a3be0479-a78b-43df-a163-8e1d190dfc7e",
   "metadata": {},
   "source": [
    "For some reason I just remembered the random module exists, and to practice control flow I am creating a very simple number guessing game"
   ]
  },
  {
   "cell_type": "code",
   "execution_count": 17,
   "id": "6eb5311a-9a4a-4465-b6e1-95a92203dc79",
   "metadata": {},
   "outputs": [],
   "source": [
    "import random"
   ]
  },
  {
   "cell_type": "code",
   "execution_count": 18,
   "id": "0d13077a-3d47-4d12-9600-c1ee1db48dd7",
   "metadata": {},
   "outputs": [
    {
     "name": "stdin",
     "output_type": "stream",
     "text": [
      "Guess a number! 15\n"
     ]
    }
   ],
   "source": [
    "randNum = random.randint(1,20)\n",
    "guessVar = int(input('Guess a number!'))\n",
    "counter = 0"
   ]
  },
  {
   "cell_type": "code",
   "execution_count": 26,
   "id": "430b5c70-0bad-480a-b3c4-3401f4470e7b",
   "metadata": {},
   "outputs": [
    {
     "name": "stdout",
     "output_type": "stream",
     "text": [
      "The number was 6. You guessed 7 times. Terrible guesser\n"
     ]
    }
   ],
   "source": [
    "while guessVar != randNum:\n",
    "    if guessVar != randNum:\n",
    "        break # First real use-case for break\n",
    "    guessVar = int(input('Guess a number!'))\n",
    "    counter += 1\n",
    "    if counter == 4:\n",
    "        if randNum % 2 == 0:\n",
    "            print('The number is even')\n",
    "        else:\n",
    "            print('The number is odd')\n",
    "    if counter == 6:\n",
    "        if randNum > 10:\n",
    "            print('The number is greater than 10')\n",
    "        else:\n",
    "            print('The number is less than 10')\n",
    "if counter <= 5:\n",
    "    print(f'The number was {randNum}. You guessed {counter} times! Very good!')\n",
    "else:\n",
    "    print(f'The number was {randNum}. You guessed {counter} times. Terrible guesser')"
   ]
  }
 ],
 "metadata": {
  "kernelspec": {
   "display_name": "Python 3 (ipykernel)",
   "language": "python",
   "name": "python3"
  },
  "language_info": {
   "codemirror_mode": {
    "name": "ipython",
    "version": 3
   },
   "file_extension": ".py",
   "mimetype": "text/x-python",
   "name": "python",
   "nbconvert_exporter": "python",
   "pygments_lexer": "ipython3",
   "version": "3.9.6"
  }
 },
 "nbformat": 4,
 "nbformat_minor": 5
}
